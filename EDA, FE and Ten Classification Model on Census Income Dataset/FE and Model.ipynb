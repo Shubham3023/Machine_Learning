{
 "cells": [
  {
   "cell_type": "markdown",
   "id": "cae24f34",
   "metadata": {},
   "source": [
    "## <span style='color:red '>8.0 Importing required libraries</span>"
   ]
  },
  {
   "cell_type": "code",
   "execution_count": 1,
   "id": "5f856858",
   "metadata": {},
   "outputs": [],
   "source": [
    "### Pandas and Numpy\n",
    "import pandas as pd\n",
    "import numpy as np\n",
    "\n",
    "### Visualisation libraries\n",
    "import seaborn as sns\n",
    "import matplotlib.pyplot as plt\n",
    "%matplotlib inline\n",
    "\n",
    "### For Q-Q Plot\n",
    "import scipy.stats as stats\n",
    "\n",
    "### To ignore warnings\n",
    "import warnings\n",
    "warnings.filterwarnings('ignore')\n",
    "\n",
    "### Machine Learning libraries\n",
    "import sklearn\n",
    "from sklearn.model_selection import train_test_split, GridSearchCV\n",
    "from sklearn.preprocessing import StandardScaler\n",
    "from sklearn.preprocessing import OneHotEncoder, StandardScaler\n",
    "from category_encoders.binary import BinaryEncoder\n",
    "from sklearn.compose import ColumnTransformer\n",
    "from sklearn.svm import SVC\n",
    "from sklearn.tree import DecisionTreeClassifier\n",
    "from sklearn.ensemble import RandomForestClassifier, BaggingClassifier, ExtraTreesClassifier, VotingClassifier, AdaBoostClassifier, GradientBoostingClassifier\n",
    "from xgboost import XGBClassifier\n",
    "from sklearn.linear_model import LogisticRegression\n",
    "from sklearn.metrics import accuracy_score, precision_score, recall_score, roc_auc_score\n",
    "\n",
    "### To be able to see maximum columns on screen\n",
    "pd.set_option('display.max_columns', 500)"
   ]
  },
  {
   "cell_type": "markdown",
   "id": "89ba048b",
   "metadata": {},
   "source": [
    "## <span style='color:red '>9.0 Importing dataset</span>"
   ]
  },
  {
   "cell_type": "code",
   "execution_count": 2,
   "id": "fd19fa0b",
   "metadata": {},
   "outputs": [
    {
     "data": {
      "text/html": [
       "<div>\n",
       "<style scoped>\n",
       "    .dataframe tbody tr th:only-of-type {\n",
       "        vertical-align: middle;\n",
       "    }\n",
       "\n",
       "    .dataframe tbody tr th {\n",
       "        vertical-align: top;\n",
       "    }\n",
       "\n",
       "    .dataframe thead th {\n",
       "        text-align: right;\n",
       "    }\n",
       "</style>\n",
       "<table border=\"1\" class=\"dataframe\">\n",
       "  <thead>\n",
       "    <tr style=\"text-align: right;\">\n",
       "      <th></th>\n",
       "      <th>age</th>\n",
       "      <th>workclass</th>\n",
       "      <th>fnlwgt</th>\n",
       "      <th>education</th>\n",
       "      <th>education_num</th>\n",
       "      <th>marital_status</th>\n",
       "      <th>occupation</th>\n",
       "      <th>relationship</th>\n",
       "      <th>race</th>\n",
       "      <th>sex</th>\n",
       "      <th>capital_gain</th>\n",
       "      <th>capital_loss</th>\n",
       "      <th>hours_per_week</th>\n",
       "      <th>native_country</th>\n",
       "      <th>salary</th>\n",
       "    </tr>\n",
       "  </thead>\n",
       "  <tbody>\n",
       "    <tr>\n",
       "      <th>0</th>\n",
       "      <td>39</td>\n",
       "      <td>other</td>\n",
       "      <td>77516</td>\n",
       "      <td>Bachelors</td>\n",
       "      <td>13</td>\n",
       "      <td>Never_married</td>\n",
       "      <td>Adm_clerical</td>\n",
       "      <td>Not_in_family</td>\n",
       "      <td>White</td>\n",
       "      <td>Male</td>\n",
       "      <td>2174</td>\n",
       "      <td>0</td>\n",
       "      <td>40</td>\n",
       "      <td>United_States</td>\n",
       "      <td>0</td>\n",
       "    </tr>\n",
       "    <tr>\n",
       "      <th>1</th>\n",
       "      <td>50</td>\n",
       "      <td>other</td>\n",
       "      <td>83311</td>\n",
       "      <td>Bachelors</td>\n",
       "      <td>13</td>\n",
       "      <td>Married_civ_spouse</td>\n",
       "      <td>Exec_managerial</td>\n",
       "      <td>Husband</td>\n",
       "      <td>White</td>\n",
       "      <td>Male</td>\n",
       "      <td>0</td>\n",
       "      <td>0</td>\n",
       "      <td>13</td>\n",
       "      <td>United_States</td>\n",
       "      <td>0</td>\n",
       "    </tr>\n",
       "    <tr>\n",
       "      <th>2</th>\n",
       "      <td>38</td>\n",
       "      <td>Private</td>\n",
       "      <td>215646</td>\n",
       "      <td>HS_grad</td>\n",
       "      <td>9</td>\n",
       "      <td>Divorced</td>\n",
       "      <td>other</td>\n",
       "      <td>Not_in_family</td>\n",
       "      <td>White</td>\n",
       "      <td>Male</td>\n",
       "      <td>0</td>\n",
       "      <td>0</td>\n",
       "      <td>40</td>\n",
       "      <td>United_States</td>\n",
       "      <td>0</td>\n",
       "    </tr>\n",
       "    <tr>\n",
       "      <th>3</th>\n",
       "      <td>53</td>\n",
       "      <td>Private</td>\n",
       "      <td>234721</td>\n",
       "      <td>other</td>\n",
       "      <td>7</td>\n",
       "      <td>Married_civ_spouse</td>\n",
       "      <td>other</td>\n",
       "      <td>Husband</td>\n",
       "      <td>other</td>\n",
       "      <td>Male</td>\n",
       "      <td>0</td>\n",
       "      <td>0</td>\n",
       "      <td>40</td>\n",
       "      <td>United_States</td>\n",
       "      <td>0</td>\n",
       "    </tr>\n",
       "    <tr>\n",
       "      <th>4</th>\n",
       "      <td>28</td>\n",
       "      <td>Private</td>\n",
       "      <td>338409</td>\n",
       "      <td>Bachelors</td>\n",
       "      <td>13</td>\n",
       "      <td>Married_civ_spouse</td>\n",
       "      <td>Prof_specialty</td>\n",
       "      <td>other</td>\n",
       "      <td>other</td>\n",
       "      <td>Female</td>\n",
       "      <td>0</td>\n",
       "      <td>0</td>\n",
       "      <td>40</td>\n",
       "      <td>other</td>\n",
       "      <td>0</td>\n",
       "    </tr>\n",
       "  </tbody>\n",
       "</table>\n",
       "</div>"
      ],
      "text/plain": [
       "   age workclass  fnlwgt  education  education_num      marital_status  \\\n",
       "0   39     other   77516  Bachelors             13       Never_married   \n",
       "1   50     other   83311  Bachelors             13  Married_civ_spouse   \n",
       "2   38   Private  215646    HS_grad              9            Divorced   \n",
       "3   53   Private  234721      other              7  Married_civ_spouse   \n",
       "4   28   Private  338409  Bachelors             13  Married_civ_spouse   \n",
       "\n",
       "        occupation   relationship   race     sex  capital_gain  capital_loss  \\\n",
       "0     Adm_clerical  Not_in_family  White    Male          2174             0   \n",
       "1  Exec_managerial        Husband  White    Male             0             0   \n",
       "2            other  Not_in_family  White    Male             0             0   \n",
       "3            other        Husband  other    Male             0             0   \n",
       "4   Prof_specialty          other  other  Female             0             0   \n",
       "\n",
       "   hours_per_week native_country  salary  \n",
       "0              40  United_States       0  \n",
       "1              13  United_States       0  \n",
       "2              40  United_States       0  \n",
       "3              40  United_States       0  \n",
       "4              40          other       0  "
      ]
     },
     "execution_count": 2,
     "metadata": {},
     "output_type": "execute_result"
    }
   ],
   "source": [
    "dataset=pd.read_csv('data_mongodb_import.csv')\n",
    "dataset.drop('Unnamed: 0', axis=1, inplace=True)\n",
    "dataset.head()"
   ]
  },
  {
   "cell_type": "markdown",
   "id": "4bd6a108",
   "metadata": {},
   "source": [
    "### <span style='color:red '>9.1 Handeling Missing Values</span>"
   ]
  },
  {
   "cell_type": "code",
   "execution_count": 3,
   "id": "584da99e",
   "metadata": {},
   "outputs": [
    {
     "name": "stdout",
     "output_type": "stream",
     "text": [
      "['workclass', 'education', 'marital_status', 'occupation', 'relationship', 'race', 'sex', 'native_country']\n"
     ]
    }
   ],
   "source": [
    "continuous_feature =[feature for feature in dataset.columns if dataset[feature].dtypes=='O']\n",
    "print(continuous_feature)"
   ]
  },
  {
   "cell_type": "code",
   "execution_count": 4,
   "id": "e178f754",
   "metadata": {},
   "outputs": [
    {
     "name": "stdout",
     "output_type": "stream",
     "text": [
      "workclass, 2\n",
      "education, 4\n",
      "marital_status, 4\n",
      "occupation, 7\n",
      "relationship, 5\n",
      "race, 2\n",
      "sex, 2\n",
      "native_country, 2\n"
     ]
    }
   ],
   "source": [
    "for feature in continuous_feature:\n",
    "    print(\"{}, {}\".format(feature, dataset[feature].nunique()))"
   ]
  },
  {
   "cell_type": "code",
   "execution_count": 5,
   "id": "017c8dc3",
   "metadata": {},
   "outputs": [],
   "source": [
    "### Function to Cap Outlier\n",
    "def remove_outliers(in_data, in_col):\n",
    "    # Finding the IQR\n",
    "    first_quartile = in_data[in_col].quantile(0.25)\n",
    "    third_quartile = in_data[in_col].quantile(0.75)\n",
    "    iqr = third_quartile - first_quartile\n",
    "    upper_limit = third_quartile + 1.5 * iqr\n",
    "    lower_limit = first_quartile - 1.5 * iqr\n",
    "    in_data.loc[(in_data[in_col]>upper_limit), in_col]= upper_limit\n",
    "    in_data.loc[(in_data[in_col]<lower_limit), in_col]= lower_limit    \n",
    "    return in_data"
   ]
  },
  {
   "cell_type": "code",
   "execution_count": 6,
   "id": "371ff67c",
   "metadata": {},
   "outputs": [
    {
     "data": {
      "text/plain": [
       "['age', 'fnlwgt', 'capital_gain', 'capital_loss', 'hours_per_week']"
      ]
     },
     "execution_count": 6,
     "metadata": {},
     "output_type": "execute_result"
    }
   ],
   "source": [
    "### getting list of continuous features\n",
    "continuous_features=[feature for feature in [feature for feature in dataset.columns if dataset[feature].dtypes!='O'] if len(dataset[feature].unique())>25]\n",
    "continuous_features"
   ]
  },
  {
   "cell_type": "code",
   "execution_count": 7,
   "id": "65c754b6",
   "metadata": {},
   "outputs": [
    {
     "data": {
      "image/png": "[encoded data removed]",
      "text/plain": [
       "<Figure size 1440x2160 with 5 Axes>"
      ]
     },
     "metadata": {
      "needs_background": "light"
     },
     "output_type": "display_data"
    }
   ],
   "source": [
    "### Checking outliers in numerical features\n",
    "\n",
    "plt.figure(figsize=(20,30))\n",
    "for feature in enumerate(continuous_features):\n",
    "    plt.subplot(5, 2, feature[0]+1)\n",
    "    sns.set(rc={'figure.figsize':(10,6)})\n",
    "    sns.boxplot(data=dataset, x=feature[1], color='pink')\n",
    "    plt.title(\"{}\".format(feature[1]), fontweight=\"bold\", fontsize=15)"
   ]
  },
  {
   "cell_type": "code",
   "execution_count": 8,
   "id": "86e5f72b",
   "metadata": {},
   "outputs": [],
   "source": [
    "### Capping outliers from continuous features\n",
    "for feature in continuous_features:\n",
    "    dataset=remove_outliers(dataset, feature)"
   ]
  },
  {
   "cell_type": "code",
   "execution_count": 9,
   "id": "7cb5942f",
   "metadata": {},
   "outputs": [
    {
     "data": {
      "image/png": "[encoded data removed]",
      "text/plain": [
       "<Figure size 1440x2160 with 5 Axes>"
      ]
     },
     "metadata": {},
     "output_type": "display_data"
    }
   ],
   "source": [
    "### Checking outliers in numerical features\n",
    "\n",
    "plt.figure(figsize=(20,30))\n",
    "for feature in enumerate(continuous_features):\n",
    "    plt.subplot(5, 2, feature[0]+1)\n",
    "    sns.set(rc={'figure.figsize':(10,6)})\n",
    "    sns.boxplot(data=dataset, x=feature[1], color='pink')\n",
    "    plt.title(\"{}\".format(feature[1]), fontweight=\"bold\", fontsize=15)"
   ]
  },
  {
   "cell_type": "markdown",
   "id": "631b5377",
   "metadata": {},
   "source": [
    "## <span style='color:red '>10.0 Model and Evaluation</span>\n",
    "\n",
    "### <span style='color:red '>10.1 Seperating Independent and Dependent features</span>"
   ]
  },
  {
   "cell_type": "code",
   "execution_count": 11,
   "id": "93c6bd0d",
   "metadata": {},
   "outputs": [
    {
     "data": {
      "text/html": [
       "<div>\n",
       "<style scoped>\n",
       "    .dataframe tbody tr th:only-of-type {\n",
       "        vertical-align: middle;\n",
       "    }\n",
       "\n",
       "    .dataframe tbody tr th {\n",
       "        vertical-align: top;\n",
       "    }\n",
       "\n",
       "    .dataframe thead th {\n",
       "        text-align: right;\n",
       "    }\n",
       "</style>\n",
       "<table border=\"1\" class=\"dataframe\">\n",
       "  <thead>\n",
       "    <tr style=\"text-align: right;\">\n",
       "      <th></th>\n",
       "      <th>age</th>\n",
       "      <th>workclass</th>\n",
       "      <th>fnlwgt</th>\n",
       "      <th>education</th>\n",
       "      <th>education_num</th>\n",
       "      <th>marital_status</th>\n",
       "      <th>occupation</th>\n",
       "      <th>relationship</th>\n",
       "      <th>race</th>\n",
       "      <th>sex</th>\n",
       "      <th>capital_gain</th>\n",
       "      <th>capital_loss</th>\n",
       "      <th>hours_per_week</th>\n",
       "      <th>native_country</th>\n",
       "    </tr>\n",
       "  </thead>\n",
       "  <tbody>\n",
       "    <tr>\n",
       "      <th>0</th>\n",
       "      <td>39</td>\n",
       "      <td>other</td>\n",
       "      <td>77516.0</td>\n",
       "      <td>Bachelors</td>\n",
       "      <td>13</td>\n",
       "      <td>Never_married</td>\n",
       "      <td>Adm_clerical</td>\n",
       "      <td>Not_in_family</td>\n",
       "      <td>White</td>\n",
       "      <td>Male</td>\n",
       "      <td>0</td>\n",
       "      <td>0</td>\n",
       "      <td>40.0</td>\n",
       "      <td>United_States</td>\n",
       "    </tr>\n",
       "    <tr>\n",
       "      <th>1</th>\n",
       "      <td>50</td>\n",
       "      <td>other</td>\n",
       "      <td>83311.0</td>\n",
       "      <td>Bachelors</td>\n",
       "      <td>13</td>\n",
       "      <td>Married_civ_spouse</td>\n",
       "      <td>Exec_managerial</td>\n",
       "      <td>Husband</td>\n",
       "      <td>White</td>\n",
       "      <td>Male</td>\n",
       "      <td>0</td>\n",
       "      <td>0</td>\n",
       "      <td>32.5</td>\n",
       "      <td>United_States</td>\n",
       "    </tr>\n",
       "    <tr>\n",
       "      <th>2</th>\n",
       "      <td>38</td>\n",
       "      <td>Private</td>\n",
       "      <td>215646.0</td>\n",
       "      <td>HS_grad</td>\n",
       "      <td>9</td>\n",
       "      <td>Divorced</td>\n",
       "      <td>other</td>\n",
       "      <td>Not_in_family</td>\n",
       "      <td>White</td>\n",
       "      <td>Male</td>\n",
       "      <td>0</td>\n",
       "      <td>0</td>\n",
       "      <td>40.0</td>\n",
       "      <td>United_States</td>\n",
       "    </tr>\n",
       "    <tr>\n",
       "      <th>3</th>\n",
       "      <td>53</td>\n",
       "      <td>Private</td>\n",
       "      <td>234721.0</td>\n",
       "      <td>other</td>\n",
       "      <td>7</td>\n",
       "      <td>Married_civ_spouse</td>\n",
       "      <td>other</td>\n",
       "      <td>Husband</td>\n",
       "      <td>other</td>\n",
       "      <td>Male</td>\n",
       "      <td>0</td>\n",
       "      <td>0</td>\n",
       "      <td>40.0</td>\n",
       "      <td>United_States</td>\n",
       "    </tr>\n",
       "    <tr>\n",
       "      <th>4</th>\n",
       "      <td>28</td>\n",
       "      <td>Private</td>\n",
       "      <td>338409.0</td>\n",
       "      <td>Bachelors</td>\n",
       "      <td>13</td>\n",
       "      <td>Married_civ_spouse</td>\n",
       "      <td>Prof_specialty</td>\n",
       "      <td>other</td>\n",
       "      <td>other</td>\n",
       "      <td>Female</td>\n",
       "      <td>0</td>\n",
       "      <td>0</td>\n",
       "      <td>40.0</td>\n",
       "      <td>other</td>\n",
       "    </tr>\n",
       "  </tbody>\n",
       "</table>\n",
       "</div>"
      ],
      "text/plain": [
       "   age workclass    fnlwgt  education  education_num      marital_status  \\\n",
       "0   39     other   77516.0  Bachelors             13       Never_married   \n",
       "1   50     other   83311.0  Bachelors             13  Married_civ_spouse   \n",
       "2   38   Private  215646.0    HS_grad              9            Divorced   \n",
       "3   53   Private  234721.0      other              7  Married_civ_spouse   \n",
       "4   28   Private  338409.0  Bachelors             13  Married_civ_spouse   \n",
       "\n",
       "        occupation   relationship   race     sex  capital_gain  capital_loss  \\\n",
       "0     Adm_clerical  Not_in_family  White    Male             0             0   \n",
       "1  Exec_managerial        Husband  White    Male             0             0   \n",
       "2            other  Not_in_family  White    Male             0             0   \n",
       "3            other        Husband  other    Male             0             0   \n",
       "4   Prof_specialty          other  other  Female             0             0   \n",
       "\n",
       "   hours_per_week native_country  \n",
       "0            40.0  United_States  \n",
       "1            32.5  United_States  \n",
       "2            40.0  United_States  \n",
       "3            40.0  United_States  \n",
       "4            40.0          other  "
      ]
     },
     "execution_count": 11,
     "metadata": {},
     "output_type": "execute_result"
    }
   ],
   "source": [
    "### Splitting data into independent feature dataframe and dependent feature series\n",
    "X=dataset.iloc[:,:-1]\n",
    "y=dataset.iloc[:,-1]\n",
    "X.head()"
   ]
  },
  {
   "cell_type": "code",
   "execution_count": 12,
   "id": "df0cc7fa",
   "metadata": {},
   "outputs": [
    {
     "data": {
      "text/plain": [
       "0    0\n",
       "1    0\n",
       "2    0\n",
       "3    0\n",
       "4    0\n",
       "Name: salary, dtype: int64"
      ]
     },
     "execution_count": 12,
     "metadata": {},
     "output_type": "execute_result"
    }
   ],
   "source": [
    "y.head()"
   ]
  },
  {
   "cell_type": "markdown",
   "id": "9daa82cd",
   "metadata": {},
   "source": [
    "### <span style='color:red '>10.2 Train Test Split</span>"
   ]
  },
  {
   "cell_type": "code",
   "execution_count": 13,
   "id": "c1beba96",
   "metadata": {},
   "outputs": [
    {
     "data": {
      "text/html": [
       "<div>\n",
       "<style scoped>\n",
       "    .dataframe tbody tr th:only-of-type {\n",
       "        vertical-align: middle;\n",
       "    }\n",
       "\n",
       "    .dataframe tbody tr th {\n",
       "        vertical-align: top;\n",
       "    }\n",
       "\n",
       "    .dataframe thead th {\n",
       "        text-align: right;\n",
       "    }\n",
       "</style>\n",
       "<table border=\"1\" class=\"dataframe\">\n",
       "  <thead>\n",
       "    <tr style=\"text-align: right;\">\n",
       "      <th></th>\n",
       "      <th>age</th>\n",
       "      <th>workclass</th>\n",
       "      <th>fnlwgt</th>\n",
       "      <th>education</th>\n",
       "      <th>education_num</th>\n",
       "      <th>marital_status</th>\n",
       "      <th>occupation</th>\n",
       "      <th>relationship</th>\n",
       "      <th>race</th>\n",
       "      <th>sex</th>\n",
       "      <th>capital_gain</th>\n",
       "      <th>capital_loss</th>\n",
       "      <th>hours_per_week</th>\n",
       "      <th>native_country</th>\n",
       "    </tr>\n",
       "  </thead>\n",
       "  <tbody>\n",
       "    <tr>\n",
       "      <th>34576</th>\n",
       "      <td>33</td>\n",
       "      <td>Private</td>\n",
       "      <td>156383.0</td>\n",
       "      <td>Bachelors</td>\n",
       "      <td>13</td>\n",
       "      <td>Married_civ_spouse</td>\n",
       "      <td>Adm_clerical</td>\n",
       "      <td>other</td>\n",
       "      <td>White</td>\n",
       "      <td>Female</td>\n",
       "      <td>0</td>\n",
       "      <td>0</td>\n",
       "      <td>40.0</td>\n",
       "      <td>United_States</td>\n",
       "    </tr>\n",
       "    <tr>\n",
       "      <th>33148</th>\n",
       "      <td>29</td>\n",
       "      <td>Private</td>\n",
       "      <td>293073.0</td>\n",
       "      <td>other</td>\n",
       "      <td>15</td>\n",
       "      <td>Married_civ_spouse</td>\n",
       "      <td>Prof_specialty</td>\n",
       "      <td>Husband</td>\n",
       "      <td>White</td>\n",
       "      <td>Male</td>\n",
       "      <td>0</td>\n",
       "      <td>0</td>\n",
       "      <td>48.0</td>\n",
       "      <td>United_States</td>\n",
       "    </tr>\n",
       "    <tr>\n",
       "      <th>2109</th>\n",
       "      <td>66</td>\n",
       "      <td>Private</td>\n",
       "      <td>146454.0</td>\n",
       "      <td>Some_college</td>\n",
       "      <td>10</td>\n",
       "      <td>Married_civ_spouse</td>\n",
       "      <td>Sales</td>\n",
       "      <td>Husband</td>\n",
       "      <td>White</td>\n",
       "      <td>Male</td>\n",
       "      <td>0</td>\n",
       "      <td>0</td>\n",
       "      <td>40.0</td>\n",
       "      <td>United_States</td>\n",
       "    </tr>\n",
       "    <tr>\n",
       "      <th>33501</th>\n",
       "      <td>19</td>\n",
       "      <td>Private</td>\n",
       "      <td>260265.0</td>\n",
       "      <td>HS_grad</td>\n",
       "      <td>9</td>\n",
       "      <td>Never_married</td>\n",
       "      <td>Adm_clerical</td>\n",
       "      <td>Own_child</td>\n",
       "      <td>White</td>\n",
       "      <td>Male</td>\n",
       "      <td>0</td>\n",
       "      <td>0</td>\n",
       "      <td>50.0</td>\n",
       "      <td>United_States</td>\n",
       "    </tr>\n",
       "    <tr>\n",
       "      <th>47110</th>\n",
       "      <td>23</td>\n",
       "      <td>Private</td>\n",
       "      <td>86939.0</td>\n",
       "      <td>HS_grad</td>\n",
       "      <td>9</td>\n",
       "      <td>Divorced</td>\n",
       "      <td>other</td>\n",
       "      <td>Not_in_family</td>\n",
       "      <td>White</td>\n",
       "      <td>Male</td>\n",
       "      <td>0</td>\n",
       "      <td>0</td>\n",
       "      <td>50.0</td>\n",
       "      <td>United_States</td>\n",
       "    </tr>\n",
       "  </tbody>\n",
       "</table>\n",
       "</div>"
      ],
      "text/plain": [
       "       age workclass    fnlwgt     education  education_num  \\\n",
       "34576   33   Private  156383.0     Bachelors             13   \n",
       "33148   29   Private  293073.0         other             15   \n",
       "2109    66   Private  146454.0  Some_college             10   \n",
       "33501   19   Private  260265.0       HS_grad              9   \n",
       "47110   23   Private   86939.0       HS_grad              9   \n",
       "\n",
       "           marital_status      occupation   relationship   race     sex  \\\n",
       "34576  Married_civ_spouse    Adm_clerical          other  White  Female   \n",
       "33148  Married_civ_spouse  Prof_specialty        Husband  White    Male   \n",
       "2109   Married_civ_spouse           Sales        Husband  White    Male   \n",
       "33501       Never_married    Adm_clerical      Own_child  White    Male   \n",
       "47110            Divorced           other  Not_in_family  White    Male   \n",
       "\n",
       "       capital_gain  capital_loss  hours_per_week native_country  \n",
       "34576             0             0            40.0  United_States  \n",
       "33148             0             0            48.0  United_States  \n",
       "2109              0             0            40.0  United_States  \n",
       "33501             0             0            50.0  United_States  \n",
       "47110             0             0            50.0  United_States  "
      ]
     },
     "execution_count": 13,
     "metadata": {},
     "output_type": "execute_result"
    }
   ],
   "source": [
    "### random state train test split will be same with all people using random_state=19\n",
    "\n",
    "X_train, X_test, y_train, y_test = train_test_split(X, y, test_size=0.25, random_state=19)\n",
    "X_train.head()"
   ]
  },
  {
   "cell_type": "code",
   "execution_count": 14,
   "id": "d97f0682",
   "metadata": {},
   "outputs": [
    {
     "data": {
      "text/plain": [
       "34576    0\n",
       "33148    1\n",
       "2109     1\n",
       "33501    0\n",
       "47110    0\n",
       "Name: salary, dtype: int64"
      ]
     },
     "execution_count": 14,
     "metadata": {},
     "output_type": "execute_result"
    }
   ],
   "source": [
    "y_train.head()"
   ]
  },
  {
   "cell_type": "code",
   "execution_count": 15,
   "id": "180b48e1",
   "metadata": {},
   "outputs": [
    {
     "data": {
      "text/html": [
       "<div>\n",
       "<style scoped>\n",
       "    .dataframe tbody tr th:only-of-type {\n",
       "        vertical-align: middle;\n",
       "    }\n",
       "\n",
       "    .dataframe tbody tr th {\n",
       "        vertical-align: top;\n",
       "    }\n",
       "\n",
       "    .dataframe thead th {\n",
       "        text-align: right;\n",
       "    }\n",
       "</style>\n",
       "<table border=\"1\" class=\"dataframe\">\n",
       "  <thead>\n",
       "    <tr style=\"text-align: right;\">\n",
       "      <th></th>\n",
       "      <th>age</th>\n",
       "      <th>workclass</th>\n",
       "      <th>fnlwgt</th>\n",
       "      <th>education</th>\n",
       "      <th>education_num</th>\n",
       "      <th>marital_status</th>\n",
       "      <th>occupation</th>\n",
       "      <th>relationship</th>\n",
       "      <th>race</th>\n",
       "      <th>sex</th>\n",
       "      <th>capital_gain</th>\n",
       "      <th>capital_loss</th>\n",
       "      <th>hours_per_week</th>\n",
       "      <th>native_country</th>\n",
       "    </tr>\n",
       "  </thead>\n",
       "  <tbody>\n",
       "    <tr>\n",
       "      <th>3436</th>\n",
       "      <td>38</td>\n",
       "      <td>Private</td>\n",
       "      <td>220585.0</td>\n",
       "      <td>HS_grad</td>\n",
       "      <td>9</td>\n",
       "      <td>Married_civ_spouse</td>\n",
       "      <td>Craft_repair</td>\n",
       "      <td>Husband</td>\n",
       "      <td>White</td>\n",
       "      <td>Male</td>\n",
       "      <td>0</td>\n",
       "      <td>0</td>\n",
       "      <td>40.0</td>\n",
       "      <td>United_States</td>\n",
       "    </tr>\n",
       "    <tr>\n",
       "      <th>16332</th>\n",
       "      <td>38</td>\n",
       "      <td>other</td>\n",
       "      <td>37778.0</td>\n",
       "      <td>HS_grad</td>\n",
       "      <td>9</td>\n",
       "      <td>Never_married</td>\n",
       "      <td>other</td>\n",
       "      <td>Not_in_family</td>\n",
       "      <td>White</td>\n",
       "      <td>Male</td>\n",
       "      <td>0</td>\n",
       "      <td>0</td>\n",
       "      <td>52.5</td>\n",
       "      <td>United_States</td>\n",
       "    </tr>\n",
       "    <tr>\n",
       "      <th>39798</th>\n",
       "      <td>58</td>\n",
       "      <td>other</td>\n",
       "      <td>127539.0</td>\n",
       "      <td>other</td>\n",
       "      <td>6</td>\n",
       "      <td>Married_civ_spouse</td>\n",
       "      <td>Craft_repair</td>\n",
       "      <td>Husband</td>\n",
       "      <td>White</td>\n",
       "      <td>Male</td>\n",
       "      <td>0</td>\n",
       "      <td>0</td>\n",
       "      <td>32.5</td>\n",
       "      <td>United_States</td>\n",
       "    </tr>\n",
       "    <tr>\n",
       "      <th>12405</th>\n",
       "      <td>17</td>\n",
       "      <td>Private</td>\n",
       "      <td>216137.0</td>\n",
       "      <td>other</td>\n",
       "      <td>7</td>\n",
       "      <td>Never_married</td>\n",
       "      <td>Sales</td>\n",
       "      <td>Own_child</td>\n",
       "      <td>White</td>\n",
       "      <td>Female</td>\n",
       "      <td>0</td>\n",
       "      <td>0</td>\n",
       "      <td>32.5</td>\n",
       "      <td>United_States</td>\n",
       "    </tr>\n",
       "    <tr>\n",
       "      <th>7584</th>\n",
       "      <td>18</td>\n",
       "      <td>Private</td>\n",
       "      <td>115630.0</td>\n",
       "      <td>other</td>\n",
       "      <td>7</td>\n",
       "      <td>Never_married</td>\n",
       "      <td>Adm_clerical</td>\n",
       "      <td>Own_child</td>\n",
       "      <td>other</td>\n",
       "      <td>Male</td>\n",
       "      <td>0</td>\n",
       "      <td>0</td>\n",
       "      <td>32.5</td>\n",
       "      <td>United_States</td>\n",
       "    </tr>\n",
       "  </tbody>\n",
       "</table>\n",
       "</div>"
      ],
      "text/plain": [
       "       age workclass    fnlwgt education  education_num      marital_status  \\\n",
       "3436    38   Private  220585.0   HS_grad              9  Married_civ_spouse   \n",
       "16332   38     other   37778.0   HS_grad              9       Never_married   \n",
       "39798   58     other  127539.0     other              6  Married_civ_spouse   \n",
       "12405   17   Private  216137.0     other              7       Never_married   \n",
       "7584    18   Private  115630.0     other              7       Never_married   \n",
       "\n",
       "         occupation   relationship   race     sex  capital_gain  capital_loss  \\\n",
       "3436   Craft_repair        Husband  White    Male             0             0   \n",
       "16332         other  Not_in_family  White    Male             0             0   \n",
       "39798  Craft_repair        Husband  White    Male             0             0   \n",
       "12405         Sales      Own_child  White  Female             0             0   \n",
       "7584   Adm_clerical      Own_child  other    Male             0             0   \n",
       "\n",
       "       hours_per_week native_country  \n",
       "3436             40.0  United_States  \n",
       "16332            52.5  United_States  \n",
       "39798            32.5  United_States  \n",
       "12405            32.5  United_States  \n",
       "7584             32.5  United_States  "
      ]
     },
     "execution_count": 15,
     "metadata": {},
     "output_type": "execute_result"
    }
   ],
   "source": [
    "X_test.head()"
   ]
  },
  {
   "cell_type": "code",
   "execution_count": 16,
   "id": "9b5cb1b9",
   "metadata": {},
   "outputs": [
    {
     "data": {
      "text/plain": [
       "3436     0\n",
       "16332    0\n",
       "39798    0\n",
       "12405    0\n",
       "7584     0\n",
       "Name: salary, dtype: int64"
      ]
     },
     "execution_count": 16,
     "metadata": {},
     "output_type": "execute_result"
    }
   ],
   "source": [
    "y_test.head()"
   ]
  },
  {
   "cell_type": "code",
   "execution_count": 17,
   "id": "8aa14cbe",
   "metadata": {},
   "outputs": [
    {
     "data": {
      "text/plain": [
       "((36609, 14), (36609,))"
      ]
     },
     "execution_count": 17,
     "metadata": {},
     "output_type": "execute_result"
    }
   ],
   "source": [
    "### both will have same shape\n",
    "X_train.shape, y_train.shape"
   ]
  },
  {
   "cell_type": "code",
   "execution_count": 18,
   "id": "3e639591",
   "metadata": {},
   "outputs": [
    {
     "data": {
      "text/plain": [
       "((12204, 14), (12204,))"
      ]
     },
     "execution_count": 18,
     "metadata": {},
     "output_type": "execute_result"
    }
   ],
   "source": [
    "### both will have same shape\n",
    "X_test.shape, y_test.shape"
   ]
  },
  {
   "cell_type": "markdown",
   "id": "3efd2116",
   "metadata": {},
   "source": [
    "### <span style='color:red '>10.3 Feature Transformation</span>"
   ]
  },
  {
   "cell_type": "code",
   "execution_count": 19,
   "id": "40949a32",
   "metadata": {},
   "outputs": [],
   "source": [
    "### encoding categorical features"
   ]
  },
  {
   "cell_type": "code",
   "execution_count": 20,
   "id": "b92e4e5d",
   "metadata": {},
   "outputs": [
    {
     "name": "stdout",
     "output_type": "stream",
     "text": [
      "['age', 'fnlwgt', 'education_num', 'capital_gain', 'capital_loss', 'hours_per_week']\n",
      "['workclass', 'race', 'sex', 'native_country']\n",
      "['education', 'marital_status', 'occupation', 'relationship']\n"
     ]
    }
   ],
   "source": [
    "### creating list of features for scaling and encoding\n",
    "numerical_features=[feature for feature in dataset.columns if dataset[feature].dtypes != 'O' and feature not in ['salary']]\n",
    "print(numerical_features)\n",
    "onehot_enc_col= ['workclass', 'race', 'sex', 'native_country']\n",
    "print(onehot_enc_col)\n",
    "binary_enc_col= ['education', 'marital_status', 'occupation', 'relationship']\n",
    "print(binary_enc_col)### for unique categories equal or more than 4"
   ]
  },
  {
   "cell_type": "code",
   "execution_count": 21,
   "id": "d89e8ef2",
   "metadata": {},
   "outputs": [],
   "source": [
    "### Standard scalar Object for feature scaling\n",
    "scalar = StandardScaler()\n",
    "\n",
    "### one hot encoder object for 2 or 3 categories at max\n",
    "onehot_enc = OneHotEncoder()\n",
    "\n",
    "### using binary encoder for car_name feature as this has many categories\n",
    "binary_enc = BinaryEncoder()\n",
    "\n",
    "### Creating column transformer to implement above objects\n",
    "column_transformer = ColumnTransformer(\n",
    "    [\n",
    "        (\"OneHotEncoder\", onehot_enc, onehot_enc_col),\n",
    "         (\"StandardScaler\", scalar, numerical_features),\n",
    "        (\"BinaryEncoder\", binary_enc, binary_enc_col)\n",
    "        \n",
    "    ]\n",
    ")"
   ]
  },
  {
   "cell_type": "code",
   "execution_count": 22,
   "id": "05840389",
   "metadata": {},
   "outputs": [
    {
     "data": {
      "text/plain": [
       "array([[1., 0., 1., ..., 0., 0., 1.],\n",
       "       [1., 0., 1., ..., 0., 1., 0.],\n",
       "       [1., 0., 1., ..., 0., 1., 0.],\n",
       "       ...,\n",
       "       [1., 0., 0., ..., 0., 0., 1.],\n",
       "       [0., 1., 0., ..., 1., 0., 1.],\n",
       "       [1., 0., 1., ..., 0., 1., 1.]])"
      ]
     },
     "execution_count": 22,
     "metadata": {},
     "output_type": "execute_result"
    }
   ],
   "source": [
    "X_train=column_transformer.fit_transform(X_train)\n",
    "X_train"
   ]
  },
  {
   "cell_type": "code",
   "execution_count": 23,
   "id": "2794ec99",
   "metadata": {},
   "outputs": [
    {
     "data": {
      "text/plain": [
       "array([[1., 0., 1., ..., 0., 1., 0.],\n",
       "       [0., 1., 1., ..., 1., 0., 0.],\n",
       "       [0., 1., 1., ..., 0., 1., 0.],\n",
       "       ...,\n",
       "       [1., 0., 0., ..., 1., 0., 1.],\n",
       "       [0., 1., 1., ..., 1., 0., 0.],\n",
       "       [1., 0., 1., ..., 0., 1., 1.]])"
      ]
     },
     "execution_count": 23,
     "metadata": {},
     "output_type": "execute_result"
    }
   ],
   "source": [
    "X_test=column_transformer.transform(X_test)\n",
    "X_test"
   ]
  },
  {
   "cell_type": "markdown",
   "id": "7e757ff9",
   "metadata": {},
   "source": [
    "### <span style='color:red '>10.4 Model training and performance</span>"
   ]
  },
  {
   "cell_type": "code",
   "execution_count": 24,
   "id": "ecf2e070",
   "metadata": {},
   "outputs": [],
   "source": [
    "### Creating function that will evaluate model\n",
    "def model_evaluator(actual_val, pred_val):\n",
    "    \"\"\"\n",
    "    The function takes actual value and predicted value as argument \n",
    "    and returns Accuracy, Precision, Recall, F-1 Score rounded to \n",
    "    3 decimal places.\n",
    "    \"\"\"\n",
    "    acc=round(accuracy_score(actual_val, pred_val),3)\n",
    "    prec=round(precision_score(actual_val, pred_val),3)\n",
    "    rec=round(recall_score(actual_val, pred_val),3) \n",
    "    roc_auc=round(roc_auc_score(actual_val, pred_val),3)\n",
    "    return acc, prec, rec, roc_auc"
   ]
  },
  {
   "cell_type": "code",
   "execution_count": 25,
   "id": "f60c00c4",
   "metadata": {},
   "outputs": [],
   "source": [
    "### creating dictionary containing model objects for different algorithmn\n",
    "models={\n",
    "    \"Logistic Regression\":LogisticRegression(),\n",
    "    \"Support Vector Classifier\":SVC(),\n",
    "    \"Decision Tree Classifier\":DecisionTreeClassifier(),\n",
    "    \"Random Forest Classifier\":RandomForestClassifier(),\n",
    "    \"Bagging Classifier\": BaggingClassifier(base_estimator=LogisticRegression()),\n",
    "    \"Extra Tree Classifier\": ExtraTreesClassifier(),\n",
    "    \"AdaBoost Classifier\": AdaBoostClassifier(),\n",
    "    \"GradientBoost Classifier\": GradientBoostingClassifier(),\n",
    "    \"XGBoost Classifier\": XGBClassifier()\n",
    "}"
   ]
  },
  {
   "cell_type": "code",
   "execution_count": 26,
   "id": "ae875be4",
   "metadata": {},
   "outputs": [],
   "source": [
    "### Creating function for model training\n",
    "def model_trainer(model, X_train_data, y_train_data, X_test_data):\n",
    "    \"\"\"\n",
    "    This function takes model object, X train data, y train data, and \n",
    "    X test data as argument, trains model and gives prediction for train data \n",
    "    and prediction for test data.\n",
    "    \"\"\"\n",
    "    model.fit(X_train_data, y_train_data)\n",
    "    y_train_pred=model.predict(X_train_data)\n",
    "    pred_val=model.predict(X_test_data)\n",
    "    return y_train_pred, pred_val"
   ]
  },
  {
   "cell_type": "code",
   "execution_count": 27,
   "id": "ffde8d07",
   "metadata": {},
   "outputs": [],
   "source": [
    "### Creating empty list to store model names\n",
    "model_list=[]\n",
    "### creating empty list to store accuracy score for each model\n",
    "acc_score_list=[]\n",
    "### creating empty list for storing precision score\n",
    "prec_score_list=[]\n",
    "### creating list to store recall score\n",
    "recall_list=[]\n",
    "### creating list to store roc_auc score\n",
    "roc_auc_list=[]"
   ]
  },
  {
   "cell_type": "code",
   "execution_count": 28,
   "id": "2a37a6b5",
   "metadata": {
    "scrolled": false
   },
   "outputs": [
    {
     "name": "stdout",
     "output_type": "stream",
     "text": [
      "Logistic Regression Model\n",
      "\n",
      "Model Performance for training dataset\n",
      "Accuracy score: 0.827\n",
      "Precision Score: 0.68\n",
      "Recall Score: 0.531\n",
      "Roc_Auc Score: 0.726\n",
      "--------------------------------------------------\n",
      "Model Performance for Test dataset\n",
      "Accuracy score: 0.824\n",
      "Precision Score: 0.665\n",
      "Recall Score: 0.519\n",
      "Roc_Auc Score: 0.719\n",
      "**************************************************\n",
      "\n",
      "\n",
      "Support Vector Classifier Model\n",
      "\n",
      "Model Performance for training dataset\n",
      "Accuracy score: 0.837\n",
      "Precision Score: 0.717\n",
      "Recall Score: 0.53\n",
      "Roc_Auc Score: 0.732\n",
      "--------------------------------------------------\n",
      "Model Performance for Test dataset\n",
      "Accuracy score: 0.833\n",
      "Precision Score: 0.701\n",
      "Recall Score: 0.511\n",
      "Roc_Auc Score: 0.722\n",
      "**************************************************\n",
      "\n",
      "\n",
      "Decision Tree Classifier Model\n",
      "\n",
      "Model Performance for training dataset\n",
      "Accuracy score: 1.0\n",
      "Precision Score: 1.0\n",
      "Recall Score: 0.999\n",
      "Roc_Auc Score: 0.999\n",
      "--------------------------------------------------\n",
      "Model Performance for Test dataset\n",
      "Accuracy score: 0.777\n",
      "Precision Score: 0.529\n",
      "Recall Score: 0.541\n",
      "Roc_Auc Score: 0.696\n",
      "**************************************************\n",
      "\n",
      "\n",
      "Random Forest Classifier Model\n",
      "\n",
      "Model Performance for training dataset\n",
      "Accuracy score: 1.0\n",
      "Precision Score: 1.0\n",
      "Recall Score: 0.999\n",
      "Roc_Auc Score: 0.999\n",
      "--------------------------------------------------\n",
      "Model Performance for Test dataset\n",
      "Accuracy score: 0.817\n",
      "Precision Score: 0.633\n",
      "Recall Score: 0.542\n",
      "Roc_Auc Score: 0.722\n",
      "**************************************************\n",
      "\n",
      "\n",
      "Bagging Classifier Model\n",
      "\n",
      "Model Performance for training dataset\n",
      "Accuracy score: 0.827\n",
      "Precision Score: 0.681\n",
      "Recall Score: 0.528\n",
      "Roc_Auc Score: 0.725\n",
      "--------------------------------------------------\n",
      "Model Performance for Test dataset\n",
      "Accuracy score: 0.825\n",
      "Precision Score: 0.667\n",
      "Recall Score: 0.518\n",
      "Roc_Auc Score: 0.719\n",
      "**************************************************\n",
      "\n",
      "\n",
      "Extra Tree Classifier Model\n",
      "\n",
      "Model Performance for training dataset\n",
      "Accuracy score: 1.0\n",
      "Precision Score: 1.0\n",
      "Recall Score: 0.999\n",
      "Roc_Auc Score: 0.999\n",
      "--------------------------------------------------\n",
      "Model Performance for Test dataset\n",
      "Accuracy score: 0.808\n",
      "Precision Score: 0.606\n",
      "Recall Score: 0.546\n",
      "Roc_Auc Score: 0.718\n",
      "**************************************************\n",
      "\n",
      "\n",
      "AdaBoost Classifier Model\n",
      "\n",
      "Model Performance for training dataset\n",
      "Accuracy score: 0.831\n",
      "Precision Score: 0.691\n",
      "Recall Score: 0.539\n",
      "Roc_Auc Score: 0.732\n",
      "--------------------------------------------------\n",
      "Model Performance for Test dataset\n",
      "Accuracy score: 0.83\n",
      "Precision Score: 0.681\n",
      "Recall Score: 0.53\n",
      "Roc_Auc Score: 0.727\n",
      "**************************************************\n",
      "\n",
      "\n",
      "GradientBoost Classifier Model\n",
      "\n",
      "Model Performance for training dataset\n",
      "Accuracy score: 0.839\n",
      "Precision Score: 0.707\n",
      "Recall Score: 0.564\n",
      "Roc_Auc Score: 0.745\n",
      "--------------------------------------------------\n",
      "Model Performance for Test dataset\n",
      "Accuracy score: 0.838\n",
      "Precision Score: 0.7\n",
      "Recall Score: 0.554\n",
      "Roc_Auc Score: 0.74\n",
      "**************************************************\n",
      "\n",
      "\n",
      "XGBoost Classifier Model\n",
      "\n",
      "Model Performance for training dataset\n",
      "Accuracy score: 0.875\n",
      "Precision Score: 0.781\n",
      "Recall Score: 0.669\n",
      "Roc_Auc Score: 0.805\n",
      "--------------------------------------------------\n",
      "Model Performance for Test dataset\n",
      "Accuracy score: 0.835\n",
      "Precision Score: 0.679\n",
      "Recall Score: 0.577\n",
      "Roc_Auc Score: 0.746\n",
      "**************************************************\n",
      "\n",
      "\n"
     ]
    }
   ],
   "source": [
    "### Training all models and getting their performance and storing it in empty list\n",
    "for num in range(len(list(models))):\n",
    "    ### selecting model\n",
    "    model=list(models.values())[num]\n",
    "    \n",
    "    ### getting training data prediction and test data prediction\n",
    "    y_pred, pred_val=model_trainer(model,X_train, y_train, X_test)\n",
    "    \n",
    "    ### Getting model performance parameters for training data\n",
    "    acc_score, prec_score, rec_score, roc_auc=model_evaluator(y_train,y_pred )\n",
    "    print(\"{} Model\\n\".format(list(models.keys())[num]))\n",
    "    print(\"Model Performance for training dataset\")\n",
    "    print(\"Accuracy score: {}\\nPrecision Score: {}\\nRecall Score: {}\\nRoc_Auc Score: {}\".format(acc_score,prec_score, rec_score, roc_auc))\n",
    "    print(\"-\"*50)\n",
    "    \n",
    "    ### Getting model performance parameters for test data\n",
    "    acc_score, prec_score, rec_score, roc_auc=model_evaluator(y_test,pred_val)\n",
    "    print(\"Model Performance for Test dataset\")\n",
    "    print(\"Accuracy score: {}\\nPrecision Score: {}\\nRecall Score: {}\\nRoc_Auc Score: {}\".format(acc_score,prec_score, rec_score, roc_auc))\n",
    "    \n",
    "    ### Appending model name and Performance score in seperate list so that models can be sorted in terms of performance\n",
    "    model_list.append(list(models.keys())[num])\n",
    "    acc_score_list.append(acc_score)\n",
    "    prec_score_list.append(prec_score)\n",
    "    recall_list.append(rec_score)\n",
    "    roc_auc_list.append(roc_auc)\n",
    "    print(\"*\"*50)\n",
    "    print(\"\\n\")"
   ]
  },
  {
   "cell_type": "code",
   "execution_count": 29,
   "id": "d71c7666",
   "metadata": {},
   "outputs": [
    {
     "name": "stdout",
     "output_type": "stream",
     "text": [
      "Voting Classifier Model\n",
      "\n",
      "Model Performance for training dataset\n",
      "Accuracy score: 1.0\n",
      "Precision Score: 1.0\n",
      "Recall Score: 0.999\n",
      "Roc_Auc Score: 0.999\n",
      "--------------------------------------------------\n",
      "Voting Classifier Model\n",
      "\n",
      "Model Performance for Test dataset\n",
      "Accuracy score: 0.824\n",
      "Precision Score: 0.655\n",
      "Recall Score: 0.547\n",
      "Roc_Auc Score: 0.729\n",
      "**************************************************\n",
      "\n",
      "\n"
     ]
    }
   ],
   "source": [
    "### for voting classifier\n",
    "r1= LogisticRegression()\n",
    "r2= DecisionTreeClassifier()\n",
    "r3= RandomForestClassifier() \n",
    "vr=VotingClassifier([('Logistic_Regression', r1), ('Decision_Tree_Classifier', r2), ('Random_Forest_Classifier', r3)])\n",
    "\n",
    "### Model prediction \n",
    "y_pred, pred_val=model_trainer(vr, X_train, y_train, X_test)\n",
    "\n",
    "### Model evaluation for training data\n",
    "acc_score, prec_score, rec_score, roc_auc=model_evaluator(y_train,y_pred )\n",
    "print(\"Voting Classifier Model\\n\")\n",
    "print(\"Model Performance for training dataset\")\n",
    "print(\"Accuracy score: {}\\nPrecision Score: {}\\nRecall Score: {}\\nRoc_Auc Score: {}\".format(acc_score,prec_score, rec_score, roc_auc))\n",
    "print(\"-\"*50)\n",
    "\n",
    "### Model evaluation for test data      \n",
    "acc_score, prec_score, rec_score, roc_auc=model_evaluator(y_test,pred_val )\n",
    "print(\"Voting Classifier Model\\n\")\n",
    "print(\"Model Performance for Test dataset\")\n",
    "print(\"Accuracy score: {}\\nPrecision Score: {}\\nRecall Score: {}\\nRoc_Auc Score: {}\".format(acc_score,prec_score, rec_score, roc_auc))\n",
    "    \n",
    "### Appending model name and R2 Score in seperate list so that models can be sorted in terms of performance\n",
    "model_list.append('Voting Classifier')\n",
    "acc_score_list.append(acc_score)\n",
    "prec_score_list.append(prec_score)\n",
    "recall_list.append(rec_score)\n",
    "roc_auc_list.append(roc_auc)\n",
    "print(\"*\"*50)\n",
    "print(\"\\n\")"
   ]
  },
  {
   "cell_type": "markdown",
   "id": "4e300021",
   "metadata": {},
   "source": [
    "### <span style='color:red '>10.5 Model Performance and Visualization</span>"
   ]
  },
  {
   "cell_type": "code",
   "execution_count": 30,
   "id": "e1c84f75",
   "metadata": {},
   "outputs": [
    {
     "data": {
      "text/html": [
       "<div>\n",
       "<style scoped>\n",
       "    .dataframe tbody tr th:only-of-type {\n",
       "        vertical-align: middle;\n",
       "    }\n",
       "\n",
       "    .dataframe tbody tr th {\n",
       "        vertical-align: top;\n",
       "    }\n",
       "\n",
       "    .dataframe thead th {\n",
       "        text-align: right;\n",
       "    }\n",
       "</style>\n",
       "<table border=\"1\" class=\"dataframe\">\n",
       "  <thead>\n",
       "    <tr style=\"text-align: right;\">\n",
       "      <th></th>\n",
       "      <th>Model</th>\n",
       "      <th>Accuracy</th>\n",
       "      <th>Precision</th>\n",
       "      <th>Recall</th>\n",
       "      <th>Roc_Auc Score</th>\n",
       "    </tr>\n",
       "  </thead>\n",
       "  <tbody>\n",
       "    <tr>\n",
       "      <th>0</th>\n",
       "      <td>GradientBoost Classifier</td>\n",
       "      <td>0.838</td>\n",
       "      <td>0.700</td>\n",
       "      <td>0.554</td>\n",
       "      <td>0.740</td>\n",
       "    </tr>\n",
       "    <tr>\n",
       "      <th>1</th>\n",
       "      <td>XGBoost Classifier</td>\n",
       "      <td>0.835</td>\n",
       "      <td>0.679</td>\n",
       "      <td>0.577</td>\n",
       "      <td>0.746</td>\n",
       "    </tr>\n",
       "    <tr>\n",
       "      <th>2</th>\n",
       "      <td>Support Vector Classifier</td>\n",
       "      <td>0.833</td>\n",
       "      <td>0.701</td>\n",
       "      <td>0.511</td>\n",
       "      <td>0.722</td>\n",
       "    </tr>\n",
       "    <tr>\n",
       "      <th>3</th>\n",
       "      <td>AdaBoost Classifier</td>\n",
       "      <td>0.830</td>\n",
       "      <td>0.681</td>\n",
       "      <td>0.530</td>\n",
       "      <td>0.727</td>\n",
       "    </tr>\n",
       "    <tr>\n",
       "      <th>4</th>\n",
       "      <td>Bagging Classifier</td>\n",
       "      <td>0.825</td>\n",
       "      <td>0.667</td>\n",
       "      <td>0.518</td>\n",
       "      <td>0.719</td>\n",
       "    </tr>\n",
       "    <tr>\n",
       "      <th>5</th>\n",
       "      <td>Logistic Regression</td>\n",
       "      <td>0.824</td>\n",
       "      <td>0.665</td>\n",
       "      <td>0.519</td>\n",
       "      <td>0.719</td>\n",
       "    </tr>\n",
       "    <tr>\n",
       "      <th>6</th>\n",
       "      <td>Voting Classifier</td>\n",
       "      <td>0.824</td>\n",
       "      <td>0.655</td>\n",
       "      <td>0.547</td>\n",
       "      <td>0.729</td>\n",
       "    </tr>\n",
       "    <tr>\n",
       "      <th>7</th>\n",
       "      <td>Random Forest Classifier</td>\n",
       "      <td>0.817</td>\n",
       "      <td>0.633</td>\n",
       "      <td>0.542</td>\n",
       "      <td>0.722</td>\n",
       "    </tr>\n",
       "    <tr>\n",
       "      <th>8</th>\n",
       "      <td>Extra Tree Classifier</td>\n",
       "      <td>0.808</td>\n",
       "      <td>0.606</td>\n",
       "      <td>0.546</td>\n",
       "      <td>0.718</td>\n",
       "    </tr>\n",
       "    <tr>\n",
       "      <th>9</th>\n",
       "      <td>Decision Tree Classifier</td>\n",
       "      <td>0.777</td>\n",
       "      <td>0.529</td>\n",
       "      <td>0.541</td>\n",
       "      <td>0.696</td>\n",
       "    </tr>\n",
       "  </tbody>\n",
       "</table>\n",
       "</div>"
      ],
      "text/plain": [
       "                       Model  Accuracy  Precision  Recall  Roc_Auc Score\n",
       "0   GradientBoost Classifier     0.838      0.700   0.554          0.740\n",
       "1         XGBoost Classifier     0.835      0.679   0.577          0.746\n",
       "2  Support Vector Classifier     0.833      0.701   0.511          0.722\n",
       "3        AdaBoost Classifier     0.830      0.681   0.530          0.727\n",
       "4         Bagging Classifier     0.825      0.667   0.518          0.719\n",
       "5        Logistic Regression     0.824      0.665   0.519          0.719\n",
       "6          Voting Classifier     0.824      0.655   0.547          0.729\n",
       "7   Random Forest Classifier     0.817      0.633   0.542          0.722\n",
       "8      Extra Tree Classifier     0.808      0.606   0.546          0.718\n",
       "9   Decision Tree Classifier     0.777      0.529   0.541          0.696"
      ]
     },
     "execution_count": 30,
     "metadata": {},
     "output_type": "execute_result"
    }
   ],
   "source": [
    "### Tabulating model performance in dataframe\n",
    "model_perf=pd.DataFrame(list(zip(model_list, acc_score_list,prec_score_list, recall_list, roc_auc_list)), columns=['Model', 'Accuracy', 'Precision', 'Recall', 'Roc_Auc Score']).sort_values(by=['Accuracy'], ascending=False,).reset_index()\n",
    "model_perf.drop('index', axis=1, inplace=True)\n",
    "model_perf"
   ]
  },
  {
   "cell_type": "code",
   "execution_count": 31,
   "id": "ee083b3a",
   "metadata": {
    "scrolled": false
   },
   "outputs": [
    {
     "data": {
      "image/png": "[encoded data removed]",
      "text/plain": [
       "<Figure size 720x432 with 1 Axes>"
      ]
     },
     "metadata": {},
     "output_type": "display_data"
    },
    {
     "data": {
      "image/png": "[encoded data removed]",
      "text/plain": [
       "<Figure size 720x432 with 1 Axes>"
      ]
     },
     "metadata": {},
     "output_type": "display_data"
    },
    {
     "data": {
      "image/png": "[encoded data removed]",
      "text/plain": [
       "<Figure size 720x432 with 1 Axes>"
      ]
     },
     "metadata": {},
     "output_type": "display_data"
    }
   ],
   "source": [
    "### Accuracy vs Precision and Recall\n",
    "for feature1 in ['Accuracy']:\n",
    "    for feature2 in ['Precision', 'Recall', 'Roc_Auc Score']:\n",
    "        plt.figure(figsize=(10,6))\n",
    "        sns.lineplot(y=feature1, x=feature2, data=model_perf)\n",
    "        plt.xlabel(\"{}\".format(feature2), fontweight='bold', fontsize=15)\n",
    "        plt.ylabel(\"{}\".format(feature1), fontweight='bold', fontsize=15)\n",
    "        plt.title(\"{} Vs {}\".format(feature1, feature2), fontweight='bold', fontsize=15)"
   ]
  },
  {
   "cell_type": "code",
   "execution_count": 33,
   "id": "e126a6f9",
   "metadata": {},
   "outputs": [
    {
     "data": {
      "image/png": "[encoded data removed]",
      "text/plain": [
       "<Figure size 720x432 with 1 Axes>"
      ]
     },
     "metadata": {},
     "output_type": "display_data"
    },
    {
     "data": {
      "image/png": "[encoded data removed]",
      "text/plain": [
       "<Figure size 720x432 with 1 Axes>"
      ]
     },
     "metadata": {},
     "output_type": "display_data"
    }
   ],
   "source": [
    "### Precision vs Recall and Roc_Auc Score\n",
    "for feature1 in ['Precision']:\n",
    "    for feature2 in [ 'Recall','Roc_Auc Score' ]:\n",
    "        plt.figure(figsize=(10,6))\n",
    "        sns.lineplot(y=feature1, x=feature2, data=model_perf)\n",
    "        plt.xlabel(\"{}\".format(feature2), fontweight='bold', fontsize=15)\n",
    "        plt.ylabel(\"{}\".format(feature1), fontweight='bold', fontsize=15)\n",
    "        plt.title(\"{} Vs {}\".format(feature1, feature2), fontweight='bold', fontsize=15)"
   ]
  }
 ],
 "metadata": {
  "kernelspec": {
   "display_name": "Python 3 (ipykernel)",
   "language": "python",
   "name": "python3"
  },
  "language_info": {
   "codemirror_mode": {
    "name": "ipython",
    "version": 3
   },
   "file_extension": ".py",
   "mimetype": "text/x-python",
   "name": "python",
   "nbconvert_exporter": "python",
   "pygments_lexer": "ipython3",
   "version": "3.9.12"
  }
 },
 "nbformat": 4,
 "nbformat_minor": 5
}
