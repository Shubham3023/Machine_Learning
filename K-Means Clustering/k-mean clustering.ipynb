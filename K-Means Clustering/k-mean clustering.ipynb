{
 "cells": [
  {
   "cell_type": "markdown",
   "id": "22df2550",
   "metadata": {},
   "source": [
    "# <span style='color:red '>K-Means Clustering</span>"
   ]
  },
  {
   "cell_type": "markdown",
   "id": "da481dda",
   "metadata": {},
   "source": [
    "## <span style='color:red '>1.0 Importing required libraries</span>"
   ]
  },
  {
   "cell_type": "code",
   "execution_count": 26,
   "id": "60dc3a91",
   "metadata": {},
   "outputs": [],
   "source": [
    "import pandas as pd\n",
    "import numpy as np\n",
    "\n",
    "import matplotlib.pyplot as plt\n",
    "%matplotlib inline\n",
    "\n",
    "import plotly.express as px\n",
    "\n",
    "from sklearn.cluster import KMeans\n",
    "from sklearn.metrics import silhouette_score\n",
    "from sklearn.datasets import make_blobs\n",
    "\n",
    "import warnings\n",
    "warnings.filterwarnings('ignore')"
   ]
  },
  {
   "cell_type": "markdown",
   "id": "22628f86",
   "metadata": {},
   "source": [
    "## <span style='color:red '>2.0 Importing 2 feature dataset for clustering </span>"
   ]
  },
  {
   "cell_type": "code",
   "execution_count": 3,
   "id": "c76a088f",
   "metadata": {},
   "outputs": [
    {
     "data": {
      "text/html": [
       "<div>\n",
       "<style scoped>\n",
       "    .dataframe tbody tr th:only-of-type {\n",
       "        vertical-align: middle;\n",
       "    }\n",
       "\n",
       "    .dataframe tbody tr th {\n",
       "        vertical-align: top;\n",
       "    }\n",
       "\n",
       "    .dataframe thead th {\n",
       "        text-align: right;\n",
       "    }\n",
       "</style>\n",
       "<table border=\"1\" class=\"dataframe\">\n",
       "  <thead>\n",
       "    <tr style=\"text-align: right;\">\n",
       "      <th></th>\n",
       "      <th>x</th>\n",
       "      <th>y</th>\n",
       "      <th>color</th>\n",
       "    </tr>\n",
       "  </thead>\n",
       "  <tbody>\n",
       "    <tr>\n",
       "      <th>0</th>\n",
       "      <td>516.012706</td>\n",
       "      <td>393.014514</td>\n",
       "      <td>0</td>\n",
       "    </tr>\n",
       "    <tr>\n",
       "      <th>1</th>\n",
       "      <td>436.211762</td>\n",
       "      <td>408.656585</td>\n",
       "      <td>0</td>\n",
       "    </tr>\n",
       "    <tr>\n",
       "      <th>2</th>\n",
       "      <td>512.052601</td>\n",
       "      <td>372.022014</td>\n",
       "      <td>0</td>\n",
       "    </tr>\n",
       "    <tr>\n",
       "      <th>3</th>\n",
       "      <td>489.140464</td>\n",
       "      <td>401.807159</td>\n",
       "      <td>0</td>\n",
       "    </tr>\n",
       "    <tr>\n",
       "      <th>4</th>\n",
       "      <td>446.207986</td>\n",
       "      <td>338.516682</td>\n",
       "      <td>0</td>\n",
       "    </tr>\n",
       "  </tbody>\n",
       "</table>\n",
       "</div>"
      ],
      "text/plain": [
       "            x           y  color\n",
       "0  516.012706  393.014514      0\n",
       "1  436.211762  408.656585      0\n",
       "2  512.052601  372.022014      0\n",
       "3  489.140464  401.807159      0\n",
       "4  446.207986  338.516682      0"
      ]
     },
     "execution_count": 3,
     "metadata": {},
     "output_type": "execute_result"
    }
   ],
   "source": [
    "data=pd.read_csv(\"data.csv\")\n",
    "data.head()"
   ]
  },
  {
   "cell_type": "code",
   "execution_count": 4,
   "id": "2e85e080",
   "metadata": {},
   "outputs": [
    {
     "data": {
      "text/html": [
       "<div>\n",
       "<style scoped>\n",
       "    .dataframe tbody tr th:only-of-type {\n",
       "        vertical-align: middle;\n",
       "    }\n",
       "\n",
       "    .dataframe tbody tr th {\n",
       "        vertical-align: top;\n",
       "    }\n",
       "\n",
       "    .dataframe thead th {\n",
       "        text-align: right;\n",
       "    }\n",
       "</style>\n",
       "<table border=\"1\" class=\"dataframe\">\n",
       "  <thead>\n",
       "    <tr style=\"text-align: right;\">\n",
       "      <th></th>\n",
       "      <th>x</th>\n",
       "      <th>y</th>\n",
       "    </tr>\n",
       "  </thead>\n",
       "  <tbody>\n",
       "    <tr>\n",
       "      <th>0</th>\n",
       "      <td>516.012706</td>\n",
       "      <td>393.014514</td>\n",
       "    </tr>\n",
       "    <tr>\n",
       "      <th>1</th>\n",
       "      <td>436.211762</td>\n",
       "      <td>408.656585</td>\n",
       "    </tr>\n",
       "    <tr>\n",
       "      <th>2</th>\n",
       "      <td>512.052601</td>\n",
       "      <td>372.022014</td>\n",
       "    </tr>\n",
       "    <tr>\n",
       "      <th>3</th>\n",
       "      <td>489.140464</td>\n",
       "      <td>401.807159</td>\n",
       "    </tr>\n",
       "    <tr>\n",
       "      <th>4</th>\n",
       "      <td>446.207986</td>\n",
       "      <td>338.516682</td>\n",
       "    </tr>\n",
       "  </tbody>\n",
       "</table>\n",
       "</div>"
      ],
      "text/plain": [
       "            x           y\n",
       "0  516.012706  393.014514\n",
       "1  436.211762  408.656585\n",
       "2  512.052601  372.022014\n",
       "3  489.140464  401.807159\n",
       "4  446.207986  338.516682"
      ]
     },
     "execution_count": 4,
     "metadata": {},
     "output_type": "execute_result"
    }
   ],
   "source": [
    "### dropping label color feature\n",
    "dataset=data.drop('color', axis=1)\n",
    "dataset.head()"
   ]
  },
  {
   "cell_type": "code",
   "execution_count": 7,
   "id": "239c7733",
   "metadata": {},
   "outputs": [
    {
     "data": {
      "text/plain": [
       "(336, 2)"
      ]
     },
     "execution_count": 7,
     "metadata": {},
     "output_type": "execute_result"
    }
   ],
   "source": [
    "dataset.shape"
   ]
  },
  {
   "cell_type": "code",
   "execution_count": 49,
   "id": "f784fd58",
   "metadata": {},
   "outputs": [
    {
     "data": {
      "text/plain": [
       "Text(0, 0.5, 'Y')"
      ]
     },
     "execution_count": 49,
     "metadata": {},
     "output_type": "execute_result"
    },
    {
     "data": {
      "image/png": "[encoded data removed]",
      "text/plain": [
       "<Figure size 720x360 with 1 Axes>"
      ]
     },
     "metadata": {
      "needs_background": "light"
     },
     "output_type": "display_data"
    }
   ],
   "source": [
    "### Visualising dataset\n",
    "plt.figure(figsize=(10,5))\n",
    "plt.scatter(data= dataset, x='x', y='y')\n",
    "plt.xlabel(\"X\", fontsize=10, fontweight='bold')\n",
    "plt.ylabel(\"Y\", fontsize=10, fontweight='bold')"
   ]
  },
  {
   "cell_type": "code",
   "execution_count": 41,
   "id": "8945cefe",
   "metadata": {},
   "outputs": [
    {
     "name": "stdout",
     "output_type": "stream",
     "text": [
      "WCSS list: [1634662.14, 637691.33, 544675.04, 467501.54, 401945.06, 338585.28, 287823.43, 246019.25, 224975.35]\n"
     ]
    }
   ],
   "source": [
    "### Calculating WCSS for K=1 to K=11 clusters\n",
    "wcss=[]\n",
    "\n",
    "\n",
    "for i in range(2,11):\n",
    "    km = KMeans(n_clusters=i)\n",
    "    km.fit_predict(dataset)\n",
    "    wcss.append(round(km.inertia_,2))\n",
    "    \n",
    "print(f\"WCSS list: {wcss}\")"
   ]
  },
  {
   "cell_type": "code",
   "execution_count": 10,
   "id": "e25b1757",
   "metadata": {},
   "outputs": [
    {
     "data": {
      "text/plain": [
       "Text(0.5, 1.0, 'WCSS vs K Value')"
      ]
     },
     "execution_count": 10,
     "metadata": {},
     "output_type": "execute_result"
    },
    {
     "data": {
      "image/png": "[encoded data removed]",
      "text/plain": [
       "<Figure size 720x360 with 1 Axes>"
      ]
     },
     "metadata": {
      "needs_background": "light"
     },
     "output_type": "display_data"
    }
   ],
   "source": [
    "### Plotting WCSS with K\n",
    "plt.figure(figsize=(10, 5))\n",
    "plt.plot(range(1,11), wcss)\n",
    "plt.xlabel(\"K Value\", fontsize=10, fontweight='bold')\n",
    "plt.ylabel(\"WCSS Value\", fontsize=10, fontweight='bold')\n",
    "plt.title(\"WCSS vs K Value\", fontsize=15, fontweight='bold')"
   ]
  },
  {
   "cell_type": "code",
   "execution_count": 12,
   "id": "71716e43",
   "metadata": {},
   "outputs": [
    {
     "data": {
      "text/plain": [
       "array([2, 2, 2, 2, 2, 2, 2, 2, 2, 2, 2, 2, 2, 2, 2, 2, 2, 2, 2, 2, 2, 2,\n",
       "       2, 2, 2, 2, 2, 2, 2, 2, 2, 2, 2, 2, 2, 2, 2, 2, 2, 2, 2, 2, 2, 2,\n",
       "       2, 2, 2, 2, 2, 2, 2, 2, 2, 2, 2, 2, 2, 2, 2, 2, 2, 2, 2, 2, 2, 2,\n",
       "       2, 2, 2, 2, 2, 2, 2, 2, 2, 2, 2, 2, 2, 2, 2, 2, 2, 2, 2, 2, 2, 2,\n",
       "       2, 2, 2, 2, 2, 2, 2, 2, 2, 2, 2, 2, 2, 2, 2, 2, 2, 2, 2, 2, 2, 2,\n",
       "       2, 2, 2, 2, 2, 2, 1, 1, 1, 1, 1, 1, 1, 1, 1, 1, 1, 1, 1, 1, 1, 1,\n",
       "       1, 1, 1, 1, 1, 1, 1, 1, 1, 1, 1, 1, 1, 1, 1, 1, 1, 1, 1, 1, 1, 1,\n",
       "       1, 1, 1, 1, 1, 1, 1, 1, 1, 1, 1, 1, 1, 1, 1, 1, 1, 1, 1, 1, 1, 1,\n",
       "       1, 1, 1, 1, 1, 1, 1, 1, 1, 1, 1, 1, 1, 1, 1, 1, 1, 1, 1, 1, 1, 1,\n",
       "       1, 1, 1, 1, 1, 1, 1, 1, 1, 1, 1, 1, 1, 1, 1, 1, 1, 1, 1, 1, 1, 1,\n",
       "       1, 1, 1, 1, 1, 0, 0, 0, 0, 0, 0, 0, 0, 0, 0, 0, 0, 0, 0, 0, 0, 0,\n",
       "       0, 0, 0, 0, 0, 0, 0, 0, 0, 0, 0, 0, 0, 0, 0, 0, 0, 0, 0, 0, 0, 0,\n",
       "       0, 0, 0, 0, 0, 0, 0, 0, 0, 0, 0, 0, 0, 0, 0, 0, 0, 0, 0, 0, 0, 0,\n",
       "       0, 0, 0, 0, 0, 0, 0, 0, 0, 0, 0, 0, 0, 0, 0, 0, 0, 0, 0, 0, 0, 0,\n",
       "       0, 0, 0, 0, 0, 0, 0, 0, 0, 0, 0, 0, 0, 0, 0, 0, 0, 1, 2, 2, 2, 0,\n",
       "       0, 1, 2, 0, 2, 0])"
      ]
     },
     "execution_count": 12,
     "metadata": {},
     "output_type": "execute_result"
    }
   ],
   "source": [
    "### Getting labels of clustered records\n",
    "X= dataset.iloc[:,:].values\n",
    "km = KMeans(n_clusters=3)\n",
    "y_means=km.fit_predict(X)\n",
    "y_means"
   ]
  },
  {
   "cell_type": "code",
   "execution_count": 30,
   "id": "d6604b17",
   "metadata": {},
   "outputs": [
    {
     "data": {
      "text/plain": [
       "0.735"
      ]
     },
     "execution_count": 30,
     "metadata": {},
     "output_type": "execute_result"
    }
   ],
   "source": [
    "### Silhoutte score\n",
    "score= round(silhouette_score(X, km.labels_, metric='euclidean'),3)\n",
    "score"
   ]
  },
  {
   "cell_type": "code",
   "execution_count": 13,
   "id": "e91286b5",
   "metadata": {},
   "outputs": [
    {
     "data": {
      "text/plain": [
       "Text(0, 0.5, 'Y')"
      ]
     },
     "execution_count": 13,
     "metadata": {},
     "output_type": "execute_result"
    },
    {
     "data": {
      "image/png": "[encoded data removed]",
      "text/plain": [
       "<Figure size 720x360 with 1 Axes>"
      ]
     },
     "metadata": {
      "needs_background": "light"
     },
     "output_type": "display_data"
    }
   ],
   "source": [
    "### Plotting different clusters after K-Means Clustering\n",
    "plt.figure(figsize=(10,5))\n",
    "plt.scatter(X[y_means==0,0], X[y_means==0,1], color='blue')\n",
    "plt.scatter(X[y_means==1,0], X[y_means==1,1], color='red')\n",
    "plt.scatter(X[y_means==2,0], X[y_means==2,1], color='green')\n",
    "plt.xlabel(\"X\", fontsize=10, fontweight='bold')\n",
    "plt.ylabel(\"Y\", fontsize=10, fontweight='bold')"
   ]
  },
  {
   "cell_type": "markdown",
   "id": "a4c250d4",
   "metadata": {},
   "source": [
    "## <span style='color:red '>3.0 Creating 3-D dataset for clustering </span>"
   ]
  },
  {
   "cell_type": "code",
   "execution_count": 43,
   "id": "569bd5be",
   "metadata": {},
   "outputs": [],
   "source": [
    "### defining four centroid\n",
    "centroids=[(-5,-5,5), (5,5,-5), (3.5,-2.5, 4), (-2.5, 2.5,-4)]\n",
    "\n",
    "### standard deviation for cluster \n",
    "cluster_std=[1,1,1,1]\n",
    "\n",
    "### Creating 300 samples\n",
    "X,y=make_blobs(n_samples=300, cluster_std=cluster_std, centers=centroids, n_features=3, random_state=1)"
   ]
  },
  {
   "cell_type": "code",
   "execution_count": 44,
   "id": "dfcc3a2c",
   "metadata": {
    "scrolled": false
   },
   "outputs": [
    {
     "data": {
      "application/vnd.plotly.v1+json": {
       "config": {
        "plotlyServerURL": "https://plot.ly"
       },
       "data": [
        {
         "hovertemplate": "x=%{x}<br>y=%{y}<br>z=%{z}<extra></extra>",
         "legendgroup": "",
         "marker": {
          "color": "#636efa",
          "symbol": "circle"
         },
         "mode": "markers",
         "name": "",
         "scene": "scene",
         "showlegend": false,
         "type": "scatter3d",
         "x": [
          -4.470534675647291,
          -4.5768020219235535,
          -2.349983721272196,
          -1.481447525232118,
          -4.801700279873231,
          -4.751200838612229,
          -3.970237089021313,
          5.836004719434269,
          -3.2551882357835202,
          5.324274243448421,
          4.385825798965907,
          2.5815599616999743,
          4.532983778949751,
          5.134048196554623,
          2.335992028838798,
          -2.391969182687655,
          3.5734445794794683,
          5.824584625033458,
          -3.958324460393154,
          -2.2594944478526378,
          -4.437238903380973,
          -2.6920036966310446,
          4.4425052782139565,
          -4.38141086716606,
          -4.098513108351289,
          5.367231813883865,
          4.570857721764906,
          -3.5148036908586713,
          5.78477065101559,
          -5.638730407454222,
          -2.6505043256504517,
          -5.0246169558757785,
          4.5449944096738975,
          3.3812288278969107,
          -0.5802077135719121,
          -2.9389976636662776,
          -5.636995646569353,
          5.429526140021965,
          3.8166588951566545,
          -5.326499498078184,
          3.1465900171329855,
          -4.804907937770138,
          -4.068897918696443,
          7.0563555231982935,
          3.8835299821152556,
          -1.3474008649893963,
          4.119422400155829,
          -3.4268719392086244,
          3.540371431022839,
          -1.8725629172468894,
          -5.623530729679792,
          -6.396496335488138,
          -3.434181843147949,
          5.013352676347177,
          -4.839962930552169,
          4.601000202668482,
          -5.101745872529145,
          -1.6925440829947298,
          -5.754397940996653,
          -3.8683706125485733,
          4.233023231719079,
          -3.306178211953457,
          0.8210787561703645,
          4.513822466971705,
          -4.62243621367908,
          3.5896864073225903,
          4.607175450949063,
          -4.376637823421968,
          4.403999174003527,
          -4.957786253284407,
          4.285226919634688,
          4.9707398566913685,
          -6.117310348635278,
          3.8724568515114424,
          -4.956331006821611,
          5.193809113288081,
          4.274402880865573,
          2.3865638970270098,
          2.6911528035278716,
          7.065783320218834,
          4.943175519114153,
          -1.8934515995867052,
          2.981854447601245,
          2.4270357212883553,
          3.4743196837706423,
          6.399843942480986,
          4.370969802532242,
          4.136583409414631,
          2.629991776809148,
          -2.4959991580246244,
          -5.136444743896033,
          2.906656245757581,
          5.6210827008390085,
          -5.747158293750838,
          -2.8093002710302666,
          4.893206013220775,
          -2.4740000058143417,
          -1.8852737241725515,
          -1.8221924288801885,
          -1.4665491967357627,
          -4.8798410475183704,
          2.6713720211435943,
          3.1268390223646985,
          -4.6444440467284505,
          3.472470613732022,
          4.213049050303269,
          5.008548945436025,
          -2.576679362705732,
          -5.174703159742501,
          -2.622154015111683,
          -3.7295742535464287,
          -1.0041152341155244,
          -5.935769434259068,
          -5.266218506003622,
          4.771234171129837,
          -1.7685974828749345,
          2.3450173650706354,
          5.211124755007717,
          -3.4509092510507697,
          -2.1803430580554064,
          5.035360097054757,
          2.5864969988262123,
          3.190878681358138,
          -4.649454021335893,
          -3.095341291659019,
          3.53494358936374,
          -1.0823259870006396,
          -0.07112303047702095,
          5.617985533920335,
          4.299601495078745,
          4.334245481800873,
          2.9910277221771384,
          5.201830178874004,
          5.352494364369333,
          -5.200758068929997,
          5.262467445463269,
          4.316043684324061,
          -6.0729686221561705,
          3.211002656990184,
          -7.022201215824003,
          -4.301967965927781,
          -4.5965083582092,
          -2.3144643790334447,
          7.449368649061397,
          -2.7604660588653798,
          -4.175994381549592,
          -5.343853675571076,
          -3.706774117467738,
          -6.615772354703295,
          4.174570706956004,
          3.2712458287797874,
          4.879535428211493,
          5.564382855494314,
          5.840861558141103,
          -6.331951666517249,
          -2.530911417604136,
          5.920017933247763,
          -1.9281951211350101,
          4.486352180212064,
          -2.328042867832409,
          4.668716830067372,
          -6.230058135666962,
          3.3159400141317628,
          4.8097789749151385,
          2.677532811095748,
          -4.6848406079577085,
          -4.769905264635616,
          -2.3656268839602457,
          5.853281221955623,
          3.9102657453968446,
          -5.31011677351806,
          3.3602882695589273,
          3.6942730774422623,
          3.040057169159313,
          -2.718733458967709,
          -2.517817549053939,
          5.353009485069379,
          5.438166347291237,
          -3.0691486535119705,
          -4.099144050735588,
          -4.136654682455978,
          -1.9946180972470824,
          3.55912397570816,
          5.477610181817557,
          3.2171364483651557,
          3.0851530987117646,
          -2.9599301044345814,
          3.39160793282646,
          5.451615950555242,
          -1.638376898658796,
          -2.8645380497066375,
          -6.272558755245994,
          3.955410618092208,
          3.6073432938235896,
          -3.0632366041174564,
          -3.022356465135695,
          3.170948450658919,
          5.515073613639366,
          3.603379575404568,
          -1.7218258209004336,
          -4.189048327196444,
          6.1926860677546935,
          3.0755072094290727,
          -1.7744494819212668,
          4.250030382724334,
          3.244074359767148,
          4.511207063774909,
          4.557770720486827,
          -4.830617566941332,
          -3.0328982507452653,
          4.91549197259537,
          -5.287307863476019,
          3.2241539374388566,
          5.086464406524287,
          -5.322417204013507,
          3.092747956980034,
          -5.691660751725309,
          3.081062102321877,
          4.52084290121392,
          -2.8130203530257423,
          -4.381619738001476,
          -2.4820441083491738,
          5.095425087191257,
          3.3980679607364,
          4.5017864363689215,
          -5.2980928351027154,
          -4.257955839422665,
          -4.198138968128656,
          2.402845639744638,
          2.885836078083174,
          -2.8626120875772587,
          2.693815182617776,
          3.641640537665805,
          2.9061569327454904,
          -1.4507817092474322,
          3.8511168965109652,
          5.618539130786293,
          -2.559367902548499,
          6.388779396370269,
          1.6760801473748062,
          3.39353987844446,
          2.962798774319205,
          -6.099891267314031,
          -4.052698783176836,
          -5.208894233374778,
          2.0976708545468634,
          -1.4902126650524414,
          -0.9634636719789014,
          3.2410171465994675,
          -1.4396724908431926,
          -5.073112703747277,
          -3.3723492468510936,
          2.3922874977154476,
          4.015413801783241,
          -2.5359901817271915,
          -3.4411944593801405,
          3.628376990155944,
          -5.890555584163049,
          6.115841107924169,
          7.110605053600709,
          -3.4960108890883994,
          -3.3300109855676734,
          -3.590338332454815,
          5.884908814464883,
          2.520109748338199,
          -3.3756546363367583,
          -5.84520564149872,
          2.4192893075544935,
          -6.122018728746888,
          -1.7195300702416256,
          4.950297420841324,
          4.697830841721251,
          4.8245410313382475,
          5.808844360265682,
          -1.4787518739010987,
          4.20273021450687,
          5.461164099977017,
          -6.627438340616258,
          4.298655573742823,
          1.8625504069916583,
          3.557120996082092,
          -4.870898420289275,
          2.20691499985346,
          4.4001954689291525,
          -2.074079823497184,
          -2.4050038899308386,
          -3.855276290160386,
          -5.198361741666047,
          2.5845756317682937,
          -2.592432318541586,
          2.7776080945858492,
          -5.24937037547741,
          -5.586523938821593,
          6.000881423680301,
          -3.801082120098493,
          -0.6485621054264903,
          2.9677659791018227,
          -5.352249846493518,
          -2.639351805450921,
          -2.2119218329948493
         ],
         "y": [
          -4.862298790002614,
          3.447501167345676,
          2.9635343217316654,
          3.7305581999547246,
          -4.880991354192541,
          -5.296641152370863,
          3.106403944303837,
          6.5433591108044835,
          -5.761206900895103,
          5.0218628366265525,
          -2.310138350616904,
          -2.605344712507542,
          -2.7224140285299088,
          6.202054862199706,
          -1.8066337743396155,
          2.529417618970766,
          6.767959948311026,
          5.654580152586701,
          2.9943416509823786,
          1.5005734986418204,
          -4.759262907762268,
          -0.5537643804263048,
          5.939168744196488,
          2.9972690986459773,
          -2.471674293193602,
          6.232899192376237,
          6.2084563285519625,
          2.93598619629641,
          4.044574737626311,
          -4.576505645935887,
          3.4154992680625726,
          -5.775161619169159,
          -1.8914853015151505,
          -2.6989981838037242,
          1.1083061239459664,
          3.09003946416083,
          -4.809084515332534,
          4.393001601799954,
          -4.3952669474764665,
          -6.342675789377436,
          -4.287912891199715,
          2.4681828273012085,
          -4.714412674745741,
          6.760249226449093,
          5.080927100973279,
          2.2757642278765013,
          4.72090227845671,
          2.3175795936369026,
          -2.656993672493318,
          3.2513372351604843,
          -4.479423662926629,
          -6.4441138054295894,
          3.042645294566316,
          4.305306404712773,
          -4.123831078883775,
          -1.7199728646613706,
          -4.131113842994132,
          2.812238689013,
          -3.747131844766712,
          -3.480183183577801,
          -4.398812059319295,
          2.549061692373103,
          1.8997746696226852,
          -4.727112631850014,
          -4.878178729008563,
          -3.1011568006493837,
          -1.0571230715036908,
          -5.434956682955228,
          -0.9245320914276192,
          -4.417184786284178,
          -3.1648677669672134,
          -2.162779061691541,
          -4.765584302182908,
          -2.6484898030593937,
          -5.226314242513605,
          -2.3031302207497086,
          4.13223132237641,
          -2.5674100249468546,
          -1.9425605471419667,
          3.528843074167375,
          5.492336555936649,
          1.762710372240068,
          -3.961403604722106,
          -2.0048413887996834,
          5.795026094424845,
          4.2180883173131996,
          -3.0084571342754005,
          -1.0907466106359918,
          -2.130809530453126,
          2.8212659144838317,
          -5.11905418777481,
          -1.989692403254744,
          5.956121704124697,
          -3.3075453989722536,
          -6.896360922891093,
          6.451429260590936,
          1.1513035532027578,
          2.1510158090844476,
          1.3934269326081148,
          2.353726725388646,
          -4.382796890292581,
          -1.971120254414826,
          5.920615118054956,
          2.1304375746625666,
          -0.7535649107720275,
          -1.1937939348645514,
          4.831801160255284,
          3.0729627259567565,
          -4.013664812178758,
          1.8191484259826827,
          3.608616757989675,
          3.175453809204212,
          -5.267888079626016,
          -4.967385453306641,
          6.613361374563116,
          3.4544956665476874,
          -2.677632195983551,
          5.016527567305616,
          1.7956496684765413,
          2.8181541996786894,
          3.4612067542553566,
          3.2224336241940126,
          -1.9890622255079107,
          -6.3122834112374315,
          -3.8889433014394954,
          -1.0460824183911825,
          2.5503170861471354,
          3.505686680311216,
          4.815823674346254,
          4.796605551035442,
          3.325804192381068,
          -2.6664859548859594,
          5.661020287598693,
          4.763563048187013,
          -4.813438609011715,
          5.276499304822184,
          -3.1124069731288238,
          -4.134592370675321,
          -2.8918162398080485,
          -5.306204012628372,
          -5.447128564785999,
          -4.406421476762933,
          2.8944280300121124,
          4.454225832017432,
          2.945096710344572,
          -5.56230543101909,
          -4.956403143165753,
          -5.110447026417316,
          -3.878582291764336,
          -1.039107619536922,
          -2.679612294651358,
          3.766879264553573,
          7.137828067439482,
          4.897112782426462,
          -6.760688560398783,
          2.8557172615760167,
          4.804942659124099,
          2.4631823434829725,
          -2.966154856825928,
          2.990561043809639,
          5.386539145133091,
          -4.449462504023785,
          3.839829895017724,
          4.551261967328378,
          -1.7782887078873073,
          -4.153839352414966,
          -4.237988819687975,
          2.231628695879423,
          4.586970690288968,
          -1.6401290282030878,
          -7.434837764107138,
          -1.1136857357536811,
          4.655012789845021,
          -1.8556463339696778,
          4.039207009655063,
          1.899861200764387,
          -2.3577486274736823,
          6.1223283216570925,
          1.438203238689152,
          -5.683727859174333,
          -5.1809203020781505,
          3.7179409008013473,
          6.2322530708284365,
          3.9781140553586907,
          -2.76632688431872,
          -2.048053962678777,
          1.7092000462248322,
          -2.049844487232821,
          6.104174326303213,
          0.41360943454347376,
          2.040282318961932,
          -4.686452279536568,
          7.051173442857444,
          -3.8988128186664763,
          4.890145962333511,
          2.1307440981710317,
          -1.1528945353295024,
          2.2174655323470773,
          4.138683639223958,
          2.8098167586074885,
          -3.955557905292741,
          4.762058064247817,
          -3.2315309817303333,
          2.1757957805147887,
          7.054624102518115,
          5.714789597485815,
          -3.9765626605201803,
          5.323527353601432,
          -4.259443548903725,
          -6.857981864446752,
          4.702638117226496,
          -4.319930160121896,
          -1.2710444143493027,
          2.8575332709226315,
          -5.384054354668415,
          -1.515048328280789,
          -5.396753526855977,
          -2.979184915127406,
          5.350167158828279,
          -4.558635556431418,
          -4.767505440821262,
          1.2295392236145204,
          5.921450068659511,
          -1.7566434564861377,
          4.689015021697149,
          -4.511481853462503,
          -5.191835552361615,
          -4.953432701575855,
          -1.6613652527716227,
          4.588360836811518,
          1.0148435486745457,
          -2.7516742076314245,
          -5.016303860965749,
          -2.8439007092103923,
          3.4662208625783415,
          -2.5687704630786383,
          4.556828069299362,
          3.948989404158236,
          4.338655756846982,
          -1.332924834000036,
          -5.290996406693846,
          3.0574108185235445,
          -5.1724282075504355,
          3.078464420256242,
          -4.4133768088178025,
          -2.0488770612654013,
          0.9430584421349686,
          2.4996249912416437,
          -2.3107068024413424,
          0.7888323403755073,
          -3.83966143000623,
          -4.661988303425524,
          -2.517718317910142,
          -3.614871052365937,
          3.537038981773908,
          -4.890597303574572,
          -0.7395848164246777,
          -6.119115398559728,
          5.310272287783767,
          3.6934659271559815,
          1.3041384896755182,
          1.4804801505942837,
          4.200188146645526,
          4.122718481081812,
          -1.8074256524606442,
          -5.611756413650076,
          -5.671246130836819,
          -1.7745259955184642,
          -5.517094457920228,
          1.0359464264194083,
          5.466643267228841,
          -0.7954058286275931,
          4.066085344373499,
          6.789754683206271,
          3.024750492296824,
          5.2826757122484205,
          3.8240173285586847,
          -4.397680719704371,
          4.462776976124662,
          1.4586027040379634,
          -3.2995474906917597,
          -3.3830504011427,
          6.93752881361608,
          6.1234121620219355,
          2.5490803971416303,
          2.58075098862302,
          -4.098409279407204,
          1.2866618741712954,
          -1.2748441507267692,
          2.2621247345431676,
          -1.4010036672528208,
          -3.537892062955026,
          -6.236853376541397,
          4.61516775116721,
          -4.8148435825160565,
          2.709096676575521,
          -1.3818666032823044,
          -6.14251819802214,
          1.7714625105752986,
          3.998108183577034
         ],
         "z": [
          5.077821127912706,
          -4.503973949142318,
          -3.6021195751181487,
          -5.181103172771823,
          4.329337713710969,
          5.49521132397796,
          -1.7062823876428221,
          -4.241194339902069,
          5.319039096057098,
          -5.468673816277891,
          4.798063795298943,
          4.630195670684911,
          5.47016034382574,
          -4.715251889150942,
          3.2419326714437675,
          -4.134793129295724,
          -5.475372875137982,
          -5.0511884476076645,
          -5.494193765274685,
          -3.6014016118385626,
          5.280665077122639,
          -3.520147628846183,
          -6.943323405668353,
          -3.7626673006604032,
          4.75136522228454,
          -5.422856961390775,
          -3.8842981972155135,
          -4.687487393060175,
          -4.414089568897384,
          5.077340068348559,
          -4.438200267338669,
          6.273755930158776,
          3.9306713033095173,
          5.866471375152125,
          -3.5497822579621543,
          -4.679383782997235,
          7.100255136478842,
          -4.893777275964783,
          4.0897291174446515,
          6.114382976779792,
          4.361847315839568,
          -3.8875122575858043,
          5.885141164270728,
          -5.0606524917748095,
          -5.186578993511466,
          -4.3260613057601365,
          -3.377150914045999,
          -4.491125137790818,
          2.6647972769848085,
          -3.85960456355265,
          3.8556586103768575,
          4.495534137053549,
          -5.95816908559901,
          -4.378196495694428,
          5.315634947241605,
          3.3705583959462198,
          5.750411639865008,
          -4.193321640474004,
          5.512929820418009,
          7.185575406533161,
          2.8828893075608875,
          -4.596086334587662,
          -4.3795175155338795,
          2.3006663952777044,
          6.129483907911919,
          4.556073510077385,
          3.4603184377975076,
          6.407540000241228,
          5.206607898035568,
          3.8993808227870788,
          2.054953041387961,
          5.008065433075763,
          6.659802177109871,
          3.816599802679976,
          6.331457112587592,
          4.169869255347572,
          -5.13597732610059,
          5.161439981674394,
          4.1810387443578705,
          -5.830171895315114,
          -5.680678141008886,
          -3.835334934150793,
          3.483652091353978,
          3.047937899293741,
          -5.374438318843221,
          -5.4375089828285805,
          4.777419205248862,
          5.620912285621747,
          4.853282185823733,
          -4.725214925745366,
          5.017409408300004,
          3.084208150931321,
          -5.705840507402284,
          5.050807754776029,
          4.353083311745092,
          -5.618036847681579,
          -2.69746446351382,
          -4.977773001532967,
          -4.359224095710739,
          -4.857496824739772,
          5.300170319955828,
          1.7629134888875293,
          -5.035367924878711,
          -4.017454951836178,
          3.2249297129265653,
          3.395397030835624,
          -5.174180344307991,
          -3.5420529236902585,
          5.213533901335442,
          -5.067876576486555,
          -4.702920402910169,
          -3.4007867645407415,
          5.530355466738186,
          3.626882679753244,
          -5.374804687302653,
          -3.9042532288898655,
          2.4895436249124314,
          -4.822812279724039,
          -4.045866686069767,
          -4.019231634097637,
          -5.447895184716119,
          -5.777858826627413,
          5.710661838671135,
          4.961304490733949,
          5.65904979610021,
          4.661681076465983,
          -3.349676785747654,
          -3.646432783997371,
          -5.115985185472396,
          -4.7573305589182056,
          -4.174970175561014,
          5.423614429348987,
          -3.207841791024433,
          -4.272186500000351,
          5.410051647208256,
          -5.733271603895313,
          4.393109244853983,
          2.6984613031197173,
          4.684001328181953,
          5.827974642607246,
          6.224507704805498,
          3.905088154258958,
          -3.2744774417464413,
          -5.1988378628888965,
          -3.901887753778009,
          6.954878075009034,
          4.379999156051871,
          4.382637936287639,
          5.408900537936828,
          4.5924728014240195,
          4.501725109345165,
          -6.182318126509633,
          -5.785533996920235,
          -3.8530996236005173,
          3.3492787341758996,
          -3.150413154905178,
          -4.194606575767819,
          -3.887631511207781,
          5.384991343648639,
          -5.395283025065327,
          -5.851455656530827,
          5.7928068659193475,
          -3.649893181318274,
          -5.672448038786596,
          3.374657998534012,
          4.140484059168013,
          4.777671857389641,
          -4.131675626287018,
          -3.1652823733503133,
          3.101316806681354,
          6.038824601859414,
          4.548129584688193,
          -5.230839743135469,
          4.371670291211865,
          -5.148704229636946,
          -3.8532347366131106,
          4.513505479988547,
          -5.997019795529683,
          -3.8677522210802153,
          4.877109774481352,
          4.396079372206743,
          -5.940680964364893,
          -5.254179867607368,
          -4.205471760398917,
          5.068971622201262,
          2.4208437146055344,
          -2.7762777880398906,
          5.765335100519072,
          -5.281736269065613,
          -3.6381983594289533,
          -2.294516482244558,
          5.503184813435326,
          -4.414337999827618,
          4.081767818805616,
          -3.7545771508108805,
          -3.734357597485715,
          2.950932254831384,
          -4.415353389522574,
          -4.3252884743120275,
          -2.9486792321512487,
          4.599121808211073,
          -3.8447121139117746,
          2.434261849344095,
          -3.1856568708510746,
          -4.946590463201652,
          -4.147295938274714,
          3.8568042549927624,
          -5.1099914901636065,
          4.046299398192065,
          6.23616403045282,
          -4.582697995025137,
          4.680198401101329,
          5.309705905682653,
          -5.830168864022708,
          6.133769442335438,
          5.071252427845891,
          4.312827299880401,
          2.0478947127547675,
          -4.982835273625912,
          4.8998447667165,
          5.682551406864485,
          -3.7170044661889983,
          -4.939249804200493,
          2.490427315775957,
          -5.001891482838004,
          4.924428286978944,
          4.112371035915164,
          4.813430228092651,
          2.960817677965097,
          -3.7214719171582784,
          -4.592461285153269,
          4.382715173724364,
          3.40433211908971,
          2.9998308101274844,
          -3.2740831474791787,
          2.6522350587463364,
          -3.1894650858745437,
          -4.477580854656721,
          -1.9691428876279695,
          3.9603312999095177,
          3.543882444851315,
          -7.506440652676061,
          4.122141582078628,
          -4.96126359903051,
          5.838983413874505,
          3.305079098814761,
          -4.612442128284345,
          -2.7064503793366916,
          3.4362112654176973,
          -2.3428753619570744,
          5.369492716375723,
          3.800731967664814,
          2.280605525380477,
          3.2326901736682654,
          -3.327380251878521,
          3.7802556030209673,
          4.966539250229057,
          6.9560789037036415,
          -7.094247816222812,
          -4.923619519840408,
          -1.4940197146813272,
          -4.2146538422260225,
          -3.391216341091891,
          -5.867787222872925,
          3.5213276435843386,
          4.4718282477365445,
          4.987335401081099,
          3.960821743790503,
          4.002973172349737,
          -4.154491193810529,
          -3.966313132060499,
          5.040089153154096,
          -5.5330203260836,
          -4.548715983959829,
          -4.477124206469332,
          -5.82609743184732,
          -3.9898728226652755,
          5.4202822036470595,
          -4.843736149729917,
          4.648643644090667,
          3.7084054044991674,
          5.502740881999904,
          -4.633667985459942,
          -4.6947329597559895,
          -2.897763267414658,
          -4.76780374602456,
          5.502494338901868,
          -3.9277481008441155,
          2.946453926299685,
          -4.755662765101965,
          3.098365509524002,
          2.939859290502346,
          5.8758389276492995,
          -3.54189176139048,
          4.624715049909886,
          -2.444984005666911,
          4.674396104820869,
          4.650657277587123,
          -3.468836206543775,
          -4.300976153955339
         ]
        }
       ],
       "layout": {
        "legend": {
         "tracegroupgap": 0
        },
        "margin": {
         "t": 60
        },
        "scene": {
         "domain": {
          "x": [
           0,
           1
          ],
          "y": [
           0,
           1
          ]
         },
         "xaxis": {
          "title": {
           "text": "x"
          }
         },
         "yaxis": {
          "title": {
           "text": "y"
          }
         },
         "zaxis": {
          "title": {
           "text": "z"
          }
         }
        },
        "template": {
         "data": {
          "bar": [
           {
            "error_x": {
             "color": "#2a3f5f"
            },
            "error_y": {
             "color": "#2a3f5f"
            },
            "marker": {
             "line": {
              "color": "#E5ECF6",
              "width": 0.5
             },
             "pattern": {
              "fillmode": "overlay",
              "size": 10,
              "solidity": 0.2
             }
            },
            "type": "bar"
           }
          ],
          "barpolar": [
           {
            "marker": {
             "line": {
              "color": "#E5ECF6",
              "width": 0.5
             },
             "pattern": {
              "fillmode": "overlay",
              "size": 10,
              "solidity": 0.2
             }
            },
            "type": "barpolar"
           }
          ],
          "carpet": [
           {
            "aaxis": {
             "endlinecolor": "#2a3f5f",
             "gridcolor": "white",
             "linecolor": "white",
             "minorgridcolor": "white",
             "startlinecolor": "#2a3f5f"
            },
            "baxis": {
             "endlinecolor": "#2a3f5f",
             "gridcolor": "white",
             "linecolor": "white",
             "minorgridcolor": "white",
             "startlinecolor": "#2a3f5f"
            },
            "type": "carpet"
           }
          ],
          "choropleth": [
           {
            "colorbar": {
             "outlinewidth": 0,
             "ticks": ""
            },
            "type": "choropleth"
           }
          ],
          "contour": [
           {
            "colorbar": {
             "outlinewidth": 0,
             "ticks": ""
            },
            "colorscale": [
             [
              0,
              "#0d0887"
             ],
             [
              0.1111111111111111,
              "#46039f"
             ],
             [
              0.2222222222222222,
              "#7201a8"
             ],
             [
              0.3333333333333333,
              "#9c179e"
             ],
             [
              0.4444444444444444,
              "#bd3786"
             ],
             [
              0.5555555555555556,
              "#d8576b"
             ],
             [
              0.6666666666666666,
              "#ed7953"
             ],
             [
              0.7777777777777778,
              "#fb9f3a"
             ],
             [
              0.8888888888888888,
              "#fdca26"
             ],
             [
              1,
              "#f0f921"
             ]
            ],
            "type": "contour"
           }
          ],
          "contourcarpet": [
           {
            "colorbar": {
             "outlinewidth": 0,
             "ticks": ""
            },
            "type": "contourcarpet"
           }
          ],
          "heatmap": [
           {
            "colorbar": {
             "outlinewidth": 0,
             "ticks": ""
            },
            "colorscale": [
             [
              0,
              "#0d0887"
             ],
             [
              0.1111111111111111,
              "#46039f"
             ],
             [
              0.2222222222222222,
              "#7201a8"
             ],
             [
              0.3333333333333333,
              "#9c179e"
             ],
             [
              0.4444444444444444,
              "#bd3786"
             ],
             [
              0.5555555555555556,
              "#d8576b"
             ],
             [
              0.6666666666666666,
              "#ed7953"
             ],
             [
              0.7777777777777778,
              "#fb9f3a"
             ],
             [
              0.8888888888888888,
              "#fdca26"
             ],
             [
              1,
              "#f0f921"
             ]
            ],
            "type": "heatmap"
           }
          ],
          "heatmapgl": [
           {
            "colorbar": {
             "outlinewidth": 0,
             "ticks": ""
            },
            "colorscale": [
             [
              0,
              "#0d0887"
             ],
             [
              0.1111111111111111,
              "#46039f"
             ],
             [
              0.2222222222222222,
              "#7201a8"
             ],
             [
              0.3333333333333333,
              "#9c179e"
             ],
             [
              0.4444444444444444,
              "#bd3786"
             ],
             [
              0.5555555555555556,
              "#d8576b"
             ],
             [
              0.6666666666666666,
              "#ed7953"
             ],
             [
              0.7777777777777778,
              "#fb9f3a"
             ],
             [
              0.8888888888888888,
              "#fdca26"
             ],
             [
              1,
              "#f0f921"
             ]
            ],
            "type": "heatmapgl"
           }
          ],
          "histogram": [
           {
            "marker": {
             "pattern": {
              "fillmode": "overlay",
              "size": 10,
              "solidity": 0.2
             }
            },
            "type": "histogram"
           }
          ],
          "histogram2d": [
           {
            "colorbar": {
             "outlinewidth": 0,
             "ticks": ""
            },
            "colorscale": [
             [
              0,
              "#0d0887"
             ],
             [
              0.1111111111111111,
              "#46039f"
             ],
             [
              0.2222222222222222,
              "#7201a8"
             ],
             [
              0.3333333333333333,
              "#9c179e"
             ],
             [
              0.4444444444444444,
              "#bd3786"
             ],
             [
              0.5555555555555556,
              "#d8576b"
             ],
             [
              0.6666666666666666,
              "#ed7953"
             ],
             [
              0.7777777777777778,
              "#fb9f3a"
             ],
             [
              0.8888888888888888,
              "#fdca26"
             ],
             [
              1,
              "#f0f921"
             ]
            ],
            "type": "histogram2d"
           }
          ],
          "histogram2dcontour": [
           {
            "colorbar": {
             "outlinewidth": 0,
             "ticks": ""
            },
            "colorscale": [
             [
              0,
              "#0d0887"
             ],
             [
              0.1111111111111111,
              "#46039f"
             ],
             [
              0.2222222222222222,
              "#7201a8"
             ],
             [
              0.3333333333333333,
              "#9c179e"
             ],
             [
              0.4444444444444444,
              "#bd3786"
             ],
             [
              0.5555555555555556,
              "#d8576b"
             ],
             [
              0.6666666666666666,
              "#ed7953"
             ],
             [
              0.7777777777777778,
              "#fb9f3a"
             ],
             [
              0.8888888888888888,
              "#fdca26"
             ],
             [
              1,
              "#f0f921"
             ]
            ],
            "type": "histogram2dcontour"
           }
          ],
          "mesh3d": [
           {
            "colorbar": {
             "outlinewidth": 0,
             "ticks": ""
            },
            "type": "mesh3d"
           }
          ],
          "parcoords": [
           {
            "line": {
             "colorbar": {
              "outlinewidth": 0,
              "ticks": ""
             }
            },
            "type": "parcoords"
           }
          ],
          "pie": [
           {
            "automargin": true,
            "type": "pie"
           }
          ],
          "scatter": [
           {
            "marker": {
             "colorbar": {
              "outlinewidth": 0,
              "ticks": ""
             }
            },
            "type": "scatter"
           }
          ],
          "scatter3d": [
           {
            "line": {
             "colorbar": {
              "outlinewidth": 0,
              "ticks": ""
             }
            },
            "marker": {
             "colorbar": {
              "outlinewidth": 0,
              "ticks": ""
             }
            },
            "type": "scatter3d"
           }
          ],
          "scattercarpet": [
           {
            "marker": {
             "colorbar": {
              "outlinewidth": 0,
              "ticks": ""
             }
            },
            "type": "scattercarpet"
           }
          ],
          "scattergeo": [
           {
            "marker": {
             "colorbar": {
              "outlinewidth": 0,
              "ticks": ""
             }
            },
            "type": "scattergeo"
           }
          ],
          "scattergl": [
           {
            "marker": {
             "colorbar": {
              "outlinewidth": 0,
              "ticks": ""
             }
            },
            "type": "scattergl"
           }
          ],
          "scattermapbox": [
           {
            "marker": {
             "colorbar": {
              "outlinewidth": 0,
              "ticks": ""
             }
            },
            "type": "scattermapbox"
           }
          ],
          "scatterpolar": [
           {
            "marker": {
             "colorbar": {
              "outlinewidth": 0,
              "ticks": ""
             }
            },
            "type": "scatterpolar"
           }
          ],
          "scatterpolargl": [
           {
            "marker": {
             "colorbar": {
              "outlinewidth": 0,
              "ticks": ""
             }
            },
            "type": "scatterpolargl"
           }
          ],
          "scatterternary": [
           {
            "marker": {
             "colorbar": {
              "outlinewidth": 0,
              "ticks": ""
             }
            },
            "type": "scatterternary"
           }
          ],
          "surface": [
           {
            "colorbar": {
             "outlinewidth": 0,
             "ticks": ""
            },
            "colorscale": [
             [
              0,
              "#0d0887"
             ],
             [
              0.1111111111111111,
              "#46039f"
             ],
             [
              0.2222222222222222,
              "#7201a8"
             ],
             [
              0.3333333333333333,
              "#9c179e"
             ],
             [
              0.4444444444444444,
              "#bd3786"
             ],
             [
              0.5555555555555556,
              "#d8576b"
             ],
             [
              0.6666666666666666,
              "#ed7953"
             ],
             [
              0.7777777777777778,
              "#fb9f3a"
             ],
             [
              0.8888888888888888,
              "#fdca26"
             ],
             [
              1,
              "#f0f921"
             ]
            ],
            "type": "surface"
           }
          ],
          "table": [
           {
            "cells": {
             "fill": {
              "color": "#EBF0F8"
             },
             "line": {
              "color": "white"
             }
            },
            "header": {
             "fill": {
              "color": "#C8D4E3"
             },
             "line": {
              "color": "white"
             }
            },
            "type": "table"
           }
          ]
         },
         "layout": {
          "annotationdefaults": {
           "arrowcolor": "#2a3f5f",
           "arrowhead": 0,
           "arrowwidth": 1
          },
          "autotypenumbers": "strict",
          "coloraxis": {
           "colorbar": {
            "outlinewidth": 0,
            "ticks": ""
           }
          },
          "colorscale": {
           "diverging": [
            [
             0,
             "#8e0152"
            ],
            [
             0.1,
             "#c51b7d"
            ],
            [
             0.2,
             "#de77ae"
            ],
            [
             0.3,
             "#f1b6da"
            ],
            [
             0.4,
             "#fde0ef"
            ],
            [
             0.5,
             "#f7f7f7"
            ],
            [
             0.6,
             "#e6f5d0"
            ],
            [
             0.7,
             "#b8e186"
            ],
            [
             0.8,
             "#7fbc41"
            ],
            [
             0.9,
             "#4d9221"
            ],
            [
             1,
             "#276419"
            ]
           ],
           "sequential": [
            [
             0,
             "#0d0887"
            ],
            [
             0.1111111111111111,
             "#46039f"
            ],
            [
             0.2222222222222222,
             "#7201a8"
            ],
            [
             0.3333333333333333,
             "#9c179e"
            ],
            [
             0.4444444444444444,
             "#bd3786"
            ],
            [
             0.5555555555555556,
             "#d8576b"
            ],
            [
             0.6666666666666666,
             "#ed7953"
            ],
            [
             0.7777777777777778,
             "#fb9f3a"
            ],
            [
             0.8888888888888888,
             "#fdca26"
            ],
            [
             1,
             "#f0f921"
            ]
           ],
           "sequentialminus": [
            [
             0,
             "#0d0887"
            ],
            [
             0.1111111111111111,
             "#46039f"
            ],
            [
             0.2222222222222222,
             "#7201a8"
            ],
            [
             0.3333333333333333,
             "#9c179e"
            ],
            [
             0.4444444444444444,
             "#bd3786"
            ],
            [
             0.5555555555555556,
             "#d8576b"
            ],
            [
             0.6666666666666666,
             "#ed7953"
            ],
            [
             0.7777777777777778,
             "#fb9f3a"
            ],
            [
             0.8888888888888888,
             "#fdca26"
            ],
            [
             1,
             "#f0f921"
            ]
           ]
          },
          "colorway": [
           "#636efa",
           "#EF553B",
           "#00cc96",
           "#ab63fa",
           "#FFA15A",
           "#19d3f3",
           "#FF6692",
           "#B6E880",
           "#FF97FF",
           "#FECB52"
          ],
          "font": {
           "color": "#2a3f5f"
          },
          "geo": {
           "bgcolor": "white",
           "lakecolor": "white",
           "landcolor": "#E5ECF6",
           "showlakes": true,
           "showland": true,
           "subunitcolor": "white"
          },
          "hoverlabel": {
           "align": "left"
          },
          "hovermode": "closest",
          "mapbox": {
           "style": "light"
          },
          "paper_bgcolor": "white",
          "plot_bgcolor": "#E5ECF6",
          "polar": {
           "angularaxis": {
            "gridcolor": "white",
            "linecolor": "white",
            "ticks": ""
           },
           "bgcolor": "#E5ECF6",
           "radialaxis": {
            "gridcolor": "white",
            "linecolor": "white",
            "ticks": ""
           }
          },
          "scene": {
           "xaxis": {
            "backgroundcolor": "#E5ECF6",
            "gridcolor": "white",
            "gridwidth": 2,
            "linecolor": "white",
            "showbackground": true,
            "ticks": "",
            "zerolinecolor": "white"
           },
           "yaxis": {
            "backgroundcolor": "#E5ECF6",
            "gridcolor": "white",
            "gridwidth": 2,
            "linecolor": "white",
            "showbackground": true,
            "ticks": "",
            "zerolinecolor": "white"
           },
           "zaxis": {
            "backgroundcolor": "#E5ECF6",
            "gridcolor": "white",
            "gridwidth": 2,
            "linecolor": "white",
            "showbackground": true,
            "ticks": "",
            "zerolinecolor": "white"
           }
          },
          "shapedefaults": {
           "line": {
            "color": "#2a3f5f"
           }
          },
          "ternary": {
           "aaxis": {
            "gridcolor": "white",
            "linecolor": "white",
            "ticks": ""
           },
           "baxis": {
            "gridcolor": "white",
            "linecolor": "white",
            "ticks": ""
           },
           "bgcolor": "#E5ECF6",
           "caxis": {
            "gridcolor": "white",
            "linecolor": "white",
            "ticks": ""
           }
          },
          "title": {
           "x": 0.05
          },
          "xaxis": {
           "automargin": true,
           "gridcolor": "white",
           "linecolor": "white",
           "ticks": "",
           "title": {
            "standoff": 15
           },
           "zerolinecolor": "white",
           "zerolinewidth": 2
          },
          "yaxis": {
           "automargin": true,
           "gridcolor": "white",
           "linecolor": "white",
           "ticks": "",
           "title": {
            "standoff": 15
           },
           "zerolinecolor": "white",
           "zerolinewidth": 2
          }
         }
        }
       }
      },
      "text/html": [
       "<div>                            <div id=\"88bda6df-18d3-4a49-9d89-85a5bee104bb\" class=\"plotly-graph-div\" style=\"height:525px; width:100%;\"></div>            <script type=\"text/javascript\">                require([\"plotly\"], function(Plotly) {                    window.PLOTLYENV=window.PLOTLYENV || {};                                    if (document.getElementById(\"88bda6df-18d3-4a49-9d89-85a5bee104bb\")) {                    Plotly.newPlot(                        \"88bda6df-18d3-4a49-9d89-85a5bee104bb\",                        [{\"hovertemplate\":\"x=%{x}<br>y=%{y}<br>z=%{z}<extra></extra>\",\"legendgroup\":\"\",\"marker\":{\"color\":\"#636efa\",\"symbol\":\"circle\"},\"mode\":\"markers\",\"name\":\"\",\"scene\":\"scene\",\"showlegend\":false,\"x\":[-4.470534675647291,-4.5768020219235535,-2.349983721272196,-1.481447525232118,-4.801700279873231,-4.751200838612229,-3.970237089021313,5.836004719434269,-3.2551882357835202,5.324274243448421,4.385825798965907,2.5815599616999743,4.532983778949751,5.134048196554623,2.335992028838798,-2.391969182687655,3.5734445794794683,5.824584625033458,-3.958324460393154,-2.2594944478526378,-4.437238903380973,-2.6920036966310446,4.4425052782139565,-4.38141086716606,-4.098513108351289,5.367231813883865,4.570857721764906,-3.5148036908586713,5.78477065101559,-5.638730407454222,-2.6505043256504517,-5.0246169558757785,4.5449944096738975,3.3812288278969107,-0.5802077135719121,-2.9389976636662776,-5.636995646569353,5.429526140021965,3.8166588951566545,-5.326499498078184,3.1465900171329855,-4.804907937770138,-4.068897918696443,7.0563555231982935,3.8835299821152556,-1.3474008649893963,4.119422400155829,-3.4268719392086244,3.540371431022839,-1.8725629172468894,-5.623530729679792,-6.396496335488138,-3.434181843147949,5.013352676347177,-4.839962930552169,4.601000202668482,-5.101745872529145,-1.6925440829947298,-5.754397940996653,-3.8683706125485733,4.233023231719079,-3.306178211953457,0.8210787561703645,4.513822466971705,-4.62243621367908,3.5896864073225903,4.607175450949063,-4.376637823421968,4.403999174003527,-4.957786253284407,4.285226919634688,4.9707398566913685,-6.117310348635278,3.8724568515114424,-4.956331006821611,5.193809113288081,4.274402880865573,2.3865638970270098,2.6911528035278716,7.065783320218834,4.943175519114153,-1.8934515995867052,2.981854447601245,2.4270357212883553,3.4743196837706423,6.399843942480986,4.370969802532242,4.136583409414631,2.629991776809148,-2.4959991580246244,-5.136444743896033,2.906656245757581,5.6210827008390085,-5.747158293750838,-2.8093002710302666,4.893206013220775,-2.4740000058143417,-1.8852737241725515,-1.8221924288801885,-1.4665491967357627,-4.8798410475183704,2.6713720211435943,3.1268390223646985,-4.6444440467284505,3.472470613732022,4.213049050303269,5.008548945436025,-2.576679362705732,-5.174703159742501,-2.622154015111683,-3.7295742535464287,-1.0041152341155244,-5.935769434259068,-5.266218506003622,4.771234171129837,-1.7685974828749345,2.3450173650706354,5.211124755007717,-3.4509092510507697,-2.1803430580554064,5.035360097054757,2.5864969988262123,3.190878681358138,-4.649454021335893,-3.095341291659019,3.53494358936374,-1.0823259870006396,-0.07112303047702095,5.617985533920335,4.299601495078745,4.334245481800873,2.9910277221771384,5.201830178874004,5.352494364369333,-5.200758068929997,5.262467445463269,4.316043684324061,-6.0729686221561705,3.211002656990184,-7.022201215824003,-4.301967965927781,-4.5965083582092,-2.3144643790334447,7.449368649061397,-2.7604660588653798,-4.175994381549592,-5.343853675571076,-3.706774117467738,-6.615772354703295,4.174570706956004,3.2712458287797874,4.879535428211493,5.564382855494314,5.840861558141103,-6.331951666517249,-2.530911417604136,5.920017933247763,-1.9281951211350101,4.486352180212064,-2.328042867832409,4.668716830067372,-6.230058135666962,3.3159400141317628,4.8097789749151385,2.677532811095748,-4.6848406079577085,-4.769905264635616,-2.3656268839602457,5.853281221955623,3.9102657453968446,-5.31011677351806,3.3602882695589273,3.6942730774422623,3.040057169159313,-2.718733458967709,-2.517817549053939,5.353009485069379,5.438166347291237,-3.0691486535119705,-4.099144050735588,-4.136654682455978,-1.9946180972470824,3.55912397570816,5.477610181817557,3.2171364483651557,3.0851530987117646,-2.9599301044345814,3.39160793282646,5.451615950555242,-1.638376898658796,-2.8645380497066375,-6.272558755245994,3.955410618092208,3.6073432938235896,-3.0632366041174564,-3.022356465135695,3.170948450658919,5.515073613639366,3.603379575404568,-1.7218258209004336,-4.189048327196444,6.1926860677546935,3.0755072094290727,-1.7744494819212668,4.250030382724334,3.244074359767148,4.511207063774909,4.557770720486827,-4.830617566941332,-3.0328982507452653,4.91549197259537,-5.287307863476019,3.2241539374388566,5.086464406524287,-5.322417204013507,3.092747956980034,-5.691660751725309,3.081062102321877,4.52084290121392,-2.8130203530257423,-4.381619738001476,-2.4820441083491738,5.095425087191257,3.3980679607364,4.5017864363689215,-5.2980928351027154,-4.257955839422665,-4.198138968128656,2.402845639744638,2.885836078083174,-2.8626120875772587,2.693815182617776,3.641640537665805,2.9061569327454904,-1.4507817092474322,3.8511168965109652,5.618539130786293,-2.559367902548499,6.388779396370269,1.6760801473748062,3.39353987844446,2.962798774319205,-6.099891267314031,-4.052698783176836,-5.208894233374778,2.0976708545468634,-1.4902126650524414,-0.9634636719789014,3.2410171465994675,-1.4396724908431926,-5.073112703747277,-3.3723492468510936,2.3922874977154476,4.015413801783241,-2.5359901817271915,-3.4411944593801405,3.628376990155944,-5.890555584163049,6.115841107924169,7.110605053600709,-3.4960108890883994,-3.3300109855676734,-3.590338332454815,5.884908814464883,2.520109748338199,-3.3756546363367583,-5.84520564149872,2.4192893075544935,-6.122018728746888,-1.7195300702416256,4.950297420841324,4.697830841721251,4.8245410313382475,5.808844360265682,-1.4787518739010987,4.20273021450687,5.461164099977017,-6.627438340616258,4.298655573742823,1.8625504069916583,3.557120996082092,-4.870898420289275,2.20691499985346,4.4001954689291525,-2.074079823497184,-2.4050038899308386,-3.855276290160386,-5.198361741666047,2.5845756317682937,-2.592432318541586,2.7776080945858492,-5.24937037547741,-5.586523938821593,6.000881423680301,-3.801082120098493,-0.6485621054264903,2.9677659791018227,-5.352249846493518,-2.639351805450921,-2.2119218329948493],\"y\":[-4.862298790002614,3.447501167345676,2.9635343217316654,3.7305581999547246,-4.880991354192541,-5.296641152370863,3.106403944303837,6.5433591108044835,-5.761206900895103,5.0218628366265525,-2.310138350616904,-2.605344712507542,-2.7224140285299088,6.202054862199706,-1.8066337743396155,2.529417618970766,6.767959948311026,5.654580152586701,2.9943416509823786,1.5005734986418204,-4.759262907762268,-0.5537643804263048,5.939168744196488,2.9972690986459773,-2.471674293193602,6.232899192376237,6.2084563285519625,2.93598619629641,4.044574737626311,-4.576505645935887,3.4154992680625726,-5.775161619169159,-1.8914853015151505,-2.6989981838037242,1.1083061239459664,3.09003946416083,-4.809084515332534,4.393001601799954,-4.3952669474764665,-6.342675789377436,-4.287912891199715,2.4681828273012085,-4.714412674745741,6.760249226449093,5.080927100973279,2.2757642278765013,4.72090227845671,2.3175795936369026,-2.656993672493318,3.2513372351604843,-4.479423662926629,-6.4441138054295894,3.042645294566316,4.305306404712773,-4.123831078883775,-1.7199728646613706,-4.131113842994132,2.812238689013,-3.747131844766712,-3.480183183577801,-4.398812059319295,2.549061692373103,1.8997746696226852,-4.727112631850014,-4.878178729008563,-3.1011568006493837,-1.0571230715036908,-5.434956682955228,-0.9245320914276192,-4.417184786284178,-3.1648677669672134,-2.162779061691541,-4.765584302182908,-2.6484898030593937,-5.226314242513605,-2.3031302207497086,4.13223132237641,-2.5674100249468546,-1.9425605471419667,3.528843074167375,5.492336555936649,1.762710372240068,-3.961403604722106,-2.0048413887996834,5.795026094424845,4.2180883173131996,-3.0084571342754005,-1.0907466106359918,-2.130809530453126,2.8212659144838317,-5.11905418777481,-1.989692403254744,5.956121704124697,-3.3075453989722536,-6.896360922891093,6.451429260590936,1.1513035532027578,2.1510158090844476,1.3934269326081148,2.353726725388646,-4.382796890292581,-1.971120254414826,5.920615118054956,2.1304375746625666,-0.7535649107720275,-1.1937939348645514,4.831801160255284,3.0729627259567565,-4.013664812178758,1.8191484259826827,3.608616757989675,3.175453809204212,-5.267888079626016,-4.967385453306641,6.613361374563116,3.4544956665476874,-2.677632195983551,5.016527567305616,1.7956496684765413,2.8181541996786894,3.4612067542553566,3.2224336241940126,-1.9890622255079107,-6.3122834112374315,-3.8889433014394954,-1.0460824183911825,2.5503170861471354,3.505686680311216,4.815823674346254,4.796605551035442,3.325804192381068,-2.6664859548859594,5.661020287598693,4.763563048187013,-4.813438609011715,5.276499304822184,-3.1124069731288238,-4.134592370675321,-2.8918162398080485,-5.306204012628372,-5.447128564785999,-4.406421476762933,2.8944280300121124,4.454225832017432,2.945096710344572,-5.56230543101909,-4.956403143165753,-5.110447026417316,-3.878582291764336,-1.039107619536922,-2.679612294651358,3.766879264553573,7.137828067439482,4.897112782426462,-6.760688560398783,2.8557172615760167,4.804942659124099,2.4631823434829725,-2.966154856825928,2.990561043809639,5.386539145133091,-4.449462504023785,3.839829895017724,4.551261967328378,-1.7782887078873073,-4.153839352414966,-4.237988819687975,2.231628695879423,4.586970690288968,-1.6401290282030878,-7.434837764107138,-1.1136857357536811,4.655012789845021,-1.8556463339696778,4.039207009655063,1.899861200764387,-2.3577486274736823,6.1223283216570925,1.438203238689152,-5.683727859174333,-5.1809203020781505,3.7179409008013473,6.2322530708284365,3.9781140553586907,-2.76632688431872,-2.048053962678777,1.7092000462248322,-2.049844487232821,6.104174326303213,0.41360943454347376,2.040282318961932,-4.686452279536568,7.051173442857444,-3.8988128186664763,4.890145962333511,2.1307440981710317,-1.1528945353295024,2.2174655323470773,4.138683639223958,2.8098167586074885,-3.955557905292741,4.762058064247817,-3.2315309817303333,2.1757957805147887,7.054624102518115,5.714789597485815,-3.9765626605201803,5.323527353601432,-4.259443548903725,-6.857981864446752,4.702638117226496,-4.319930160121896,-1.2710444143493027,2.8575332709226315,-5.384054354668415,-1.515048328280789,-5.396753526855977,-2.979184915127406,5.350167158828279,-4.558635556431418,-4.767505440821262,1.2295392236145204,5.921450068659511,-1.7566434564861377,4.689015021697149,-4.511481853462503,-5.191835552361615,-4.953432701575855,-1.6613652527716227,4.588360836811518,1.0148435486745457,-2.7516742076314245,-5.016303860965749,-2.8439007092103923,3.4662208625783415,-2.5687704630786383,4.556828069299362,3.948989404158236,4.338655756846982,-1.332924834000036,-5.290996406693846,3.0574108185235445,-5.1724282075504355,3.078464420256242,-4.4133768088178025,-2.0488770612654013,0.9430584421349686,2.4996249912416437,-2.3107068024413424,0.7888323403755073,-3.83966143000623,-4.661988303425524,-2.517718317910142,-3.614871052365937,3.537038981773908,-4.890597303574572,-0.7395848164246777,-6.119115398559728,5.310272287783767,3.6934659271559815,1.3041384896755182,1.4804801505942837,4.200188146645526,4.122718481081812,-1.8074256524606442,-5.611756413650076,-5.671246130836819,-1.7745259955184642,-5.517094457920228,1.0359464264194083,5.466643267228841,-0.7954058286275931,4.066085344373499,6.789754683206271,3.024750492296824,5.2826757122484205,3.8240173285586847,-4.397680719704371,4.462776976124662,1.4586027040379634,-3.2995474906917597,-3.3830504011427,6.93752881361608,6.1234121620219355,2.5490803971416303,2.58075098862302,-4.098409279407204,1.2866618741712954,-1.2748441507267692,2.2621247345431676,-1.4010036672528208,-3.537892062955026,-6.236853376541397,4.61516775116721,-4.8148435825160565,2.709096676575521,-1.3818666032823044,-6.14251819802214,1.7714625105752986,3.998108183577034],\"z\":[5.077821127912706,-4.503973949142318,-3.6021195751181487,-5.181103172771823,4.329337713710969,5.49521132397796,-1.7062823876428221,-4.241194339902069,5.319039096057098,-5.468673816277891,4.798063795298943,4.630195670684911,5.47016034382574,-4.715251889150942,3.2419326714437675,-4.134793129295724,-5.475372875137982,-5.0511884476076645,-5.494193765274685,-3.6014016118385626,5.280665077122639,-3.520147628846183,-6.943323405668353,-3.7626673006604032,4.75136522228454,-5.422856961390775,-3.8842981972155135,-4.687487393060175,-4.414089568897384,5.077340068348559,-4.438200267338669,6.273755930158776,3.9306713033095173,5.866471375152125,-3.5497822579621543,-4.679383782997235,7.100255136478842,-4.893777275964783,4.0897291174446515,6.114382976779792,4.361847315839568,-3.8875122575858043,5.885141164270728,-5.0606524917748095,-5.186578993511466,-4.3260613057601365,-3.377150914045999,-4.491125137790818,2.6647972769848085,-3.85960456355265,3.8556586103768575,4.495534137053549,-5.95816908559901,-4.378196495694428,5.315634947241605,3.3705583959462198,5.750411639865008,-4.193321640474004,5.512929820418009,7.185575406533161,2.8828893075608875,-4.596086334587662,-4.3795175155338795,2.3006663952777044,6.129483907911919,4.556073510077385,3.4603184377975076,6.407540000241228,5.206607898035568,3.8993808227870788,2.054953041387961,5.008065433075763,6.659802177109871,3.816599802679976,6.331457112587592,4.169869255347572,-5.13597732610059,5.161439981674394,4.1810387443578705,-5.830171895315114,-5.680678141008886,-3.835334934150793,3.483652091353978,3.047937899293741,-5.374438318843221,-5.4375089828285805,4.777419205248862,5.620912285621747,4.853282185823733,-4.725214925745366,5.017409408300004,3.084208150931321,-5.705840507402284,5.050807754776029,4.353083311745092,-5.618036847681579,-2.69746446351382,-4.977773001532967,-4.359224095710739,-4.857496824739772,5.300170319955828,1.7629134888875293,-5.035367924878711,-4.017454951836178,3.2249297129265653,3.395397030835624,-5.174180344307991,-3.5420529236902585,5.213533901335442,-5.067876576486555,-4.702920402910169,-3.4007867645407415,5.530355466738186,3.626882679753244,-5.374804687302653,-3.9042532288898655,2.4895436249124314,-4.822812279724039,-4.045866686069767,-4.019231634097637,-5.447895184716119,-5.777858826627413,5.710661838671135,4.961304490733949,5.65904979610021,4.661681076465983,-3.349676785747654,-3.646432783997371,-5.115985185472396,-4.7573305589182056,-4.174970175561014,5.423614429348987,-3.207841791024433,-4.272186500000351,5.410051647208256,-5.733271603895313,4.393109244853983,2.6984613031197173,4.684001328181953,5.827974642607246,6.224507704805498,3.905088154258958,-3.2744774417464413,-5.1988378628888965,-3.901887753778009,6.954878075009034,4.379999156051871,4.382637936287639,5.408900537936828,4.5924728014240195,4.501725109345165,-6.182318126509633,-5.785533996920235,-3.8530996236005173,3.3492787341758996,-3.150413154905178,-4.194606575767819,-3.887631511207781,5.384991343648639,-5.395283025065327,-5.851455656530827,5.7928068659193475,-3.649893181318274,-5.672448038786596,3.374657998534012,4.140484059168013,4.777671857389641,-4.131675626287018,-3.1652823733503133,3.101316806681354,6.038824601859414,4.548129584688193,-5.230839743135469,4.371670291211865,-5.148704229636946,-3.8532347366131106,4.513505479988547,-5.997019795529683,-3.8677522210802153,4.877109774481352,4.396079372206743,-5.940680964364893,-5.254179867607368,-4.205471760398917,5.068971622201262,2.4208437146055344,-2.7762777880398906,5.765335100519072,-5.281736269065613,-3.6381983594289533,-2.294516482244558,5.503184813435326,-4.414337999827618,4.081767818805616,-3.7545771508108805,-3.734357597485715,2.950932254831384,-4.415353389522574,-4.3252884743120275,-2.9486792321512487,4.599121808211073,-3.8447121139117746,2.434261849344095,-3.1856568708510746,-4.946590463201652,-4.147295938274714,3.8568042549927624,-5.1099914901636065,4.046299398192065,6.23616403045282,-4.582697995025137,4.680198401101329,5.309705905682653,-5.830168864022708,6.133769442335438,5.071252427845891,4.312827299880401,2.0478947127547675,-4.982835273625912,4.8998447667165,5.682551406864485,-3.7170044661889983,-4.939249804200493,2.490427315775957,-5.001891482838004,4.924428286978944,4.112371035915164,4.813430228092651,2.960817677965097,-3.7214719171582784,-4.592461285153269,4.382715173724364,3.40433211908971,2.9998308101274844,-3.2740831474791787,2.6522350587463364,-3.1894650858745437,-4.477580854656721,-1.9691428876279695,3.9603312999095177,3.543882444851315,-7.506440652676061,4.122141582078628,-4.96126359903051,5.838983413874505,3.305079098814761,-4.612442128284345,-2.7064503793366916,3.4362112654176973,-2.3428753619570744,5.369492716375723,3.800731967664814,2.280605525380477,3.2326901736682654,-3.327380251878521,3.7802556030209673,4.966539250229057,6.9560789037036415,-7.094247816222812,-4.923619519840408,-1.4940197146813272,-4.2146538422260225,-3.391216341091891,-5.867787222872925,3.5213276435843386,4.4718282477365445,4.987335401081099,3.960821743790503,4.002973172349737,-4.154491193810529,-3.966313132060499,5.040089153154096,-5.5330203260836,-4.548715983959829,-4.477124206469332,-5.82609743184732,-3.9898728226652755,5.4202822036470595,-4.843736149729917,4.648643644090667,3.7084054044991674,5.502740881999904,-4.633667985459942,-4.6947329597559895,-2.897763267414658,-4.76780374602456,5.502494338901868,-3.9277481008441155,2.946453926299685,-4.755662765101965,3.098365509524002,2.939859290502346,5.8758389276492995,-3.54189176139048,4.624715049909886,-2.444984005666911,4.674396104820869,4.650657277587123,-3.468836206543775,-4.300976153955339],\"type\":\"scatter3d\"}],                        {\"template\":{\"data\":{\"bar\":[{\"error_x\":{\"color\":\"#2a3f5f\"},\"error_y\":{\"color\":\"#2a3f5f\"},\"marker\":{\"line\":{\"color\":\"#E5ECF6\",\"width\":0.5},\"pattern\":{\"fillmode\":\"overlay\",\"size\":10,\"solidity\":0.2}},\"type\":\"bar\"}],\"barpolar\":[{\"marker\":{\"line\":{\"color\":\"#E5ECF6\",\"width\":0.5},\"pattern\":{\"fillmode\":\"overlay\",\"size\":10,\"solidity\":0.2}},\"type\":\"barpolar\"}],\"carpet\":[{\"aaxis\":{\"endlinecolor\":\"#2a3f5f\",\"gridcolor\":\"white\",\"linecolor\":\"white\",\"minorgridcolor\":\"white\",\"startlinecolor\":\"#2a3f5f\"},\"baxis\":{\"endlinecolor\":\"#2a3f5f\",\"gridcolor\":\"white\",\"linecolor\":\"white\",\"minorgridcolor\":\"white\",\"startlinecolor\":\"#2a3f5f\"},\"type\":\"carpet\"}],\"choropleth\":[{\"colorbar\":{\"outlinewidth\":0,\"ticks\":\"\"},\"type\":\"choropleth\"}],\"contour\":[{\"colorbar\":{\"outlinewidth\":0,\"ticks\":\"\"},\"colorscale\":[[0.0,\"#0d0887\"],[0.1111111111111111,\"#46039f\"],[0.2222222222222222,\"#7201a8\"],[0.3333333333333333,\"#9c179e\"],[0.4444444444444444,\"#bd3786\"],[0.5555555555555556,\"#d8576b\"],[0.6666666666666666,\"#ed7953\"],[0.7777777777777778,\"#fb9f3a\"],[0.8888888888888888,\"#fdca26\"],[1.0,\"#f0f921\"]],\"type\":\"contour\"}],\"contourcarpet\":[{\"colorbar\":{\"outlinewidth\":0,\"ticks\":\"\"},\"type\":\"contourcarpet\"}],\"heatmap\":[{\"colorbar\":{\"outlinewidth\":0,\"ticks\":\"\"},\"colorscale\":[[0.0,\"#0d0887\"],[0.1111111111111111,\"#46039f\"],[0.2222222222222222,\"#7201a8\"],[0.3333333333333333,\"#9c179e\"],[0.4444444444444444,\"#bd3786\"],[0.5555555555555556,\"#d8576b\"],[0.6666666666666666,\"#ed7953\"],[0.7777777777777778,\"#fb9f3a\"],[0.8888888888888888,\"#fdca26\"],[1.0,\"#f0f921\"]],\"type\":\"heatmap\"}],\"heatmapgl\":[{\"colorbar\":{\"outlinewidth\":0,\"ticks\":\"\"},\"colorscale\":[[0.0,\"#0d0887\"],[0.1111111111111111,\"#46039f\"],[0.2222222222222222,\"#7201a8\"],[0.3333333333333333,\"#9c179e\"],[0.4444444444444444,\"#bd3786\"],[0.5555555555555556,\"#d8576b\"],[0.6666666666666666,\"#ed7953\"],[0.7777777777777778,\"#fb9f3a\"],[0.8888888888888888,\"#fdca26\"],[1.0,\"#f0f921\"]],\"type\":\"heatmapgl\"}],\"histogram\":[{\"marker\":{\"pattern\":{\"fillmode\":\"overlay\",\"size\":10,\"solidity\":0.2}},\"type\":\"histogram\"}],\"histogram2d\":[{\"colorbar\":{\"outlinewidth\":0,\"ticks\":\"\"},\"colorscale\":[[0.0,\"#0d0887\"],[0.1111111111111111,\"#46039f\"],[0.2222222222222222,\"#7201a8\"],[0.3333333333333333,\"#9c179e\"],[0.4444444444444444,\"#bd3786\"],[0.5555555555555556,\"#d8576b\"],[0.6666666666666666,\"#ed7953\"],[0.7777777777777778,\"#fb9f3a\"],[0.8888888888888888,\"#fdca26\"],[1.0,\"#f0f921\"]],\"type\":\"histogram2d\"}],\"histogram2dcontour\":[{\"colorbar\":{\"outlinewidth\":0,\"ticks\":\"\"},\"colorscale\":[[0.0,\"#0d0887\"],[0.1111111111111111,\"#46039f\"],[0.2222222222222222,\"#7201a8\"],[0.3333333333333333,\"#9c179e\"],[0.4444444444444444,\"#bd3786\"],[0.5555555555555556,\"#d8576b\"],[0.6666666666666666,\"#ed7953\"],[0.7777777777777778,\"#fb9f3a\"],[0.8888888888888888,\"#fdca26\"],[1.0,\"#f0f921\"]],\"type\":\"histogram2dcontour\"}],\"mesh3d\":[{\"colorbar\":{\"outlinewidth\":0,\"ticks\":\"\"},\"type\":\"mesh3d\"}],\"parcoords\":[{\"line\":{\"colorbar\":{\"outlinewidth\":0,\"ticks\":\"\"}},\"type\":\"parcoords\"}],\"pie\":[{\"automargin\":true,\"type\":\"pie\"}],\"scatter\":[{\"marker\":{\"colorbar\":{\"outlinewidth\":0,\"ticks\":\"\"}},\"type\":\"scatter\"}],\"scatter3d\":[{\"line\":{\"colorbar\":{\"outlinewidth\":0,\"ticks\":\"\"}},\"marker\":{\"colorbar\":{\"outlinewidth\":0,\"ticks\":\"\"}},\"type\":\"scatter3d\"}],\"scattercarpet\":[{\"marker\":{\"colorbar\":{\"outlinewidth\":0,\"ticks\":\"\"}},\"type\":\"scattercarpet\"}],\"scattergeo\":[{\"marker\":{\"colorbar\":{\"outlinewidth\":0,\"ticks\":\"\"}},\"type\":\"scattergeo\"}],\"scattergl\":[{\"marker\":{\"colorbar\":{\"outlinewidth\":0,\"ticks\":\"\"}},\"type\":\"scattergl\"}],\"scattermapbox\":[{\"marker\":{\"colorbar\":{\"outlinewidth\":0,\"ticks\":\"\"}},\"type\":\"scattermapbox\"}],\"scatterpolar\":[{\"marker\":{\"colorbar\":{\"outlinewidth\":0,\"ticks\":\"\"}},\"type\":\"scatterpolar\"}],\"scatterpolargl\":[{\"marker\":{\"colorbar\":{\"outlinewidth\":0,\"ticks\":\"\"}},\"type\":\"scatterpolargl\"}],\"scatterternary\":[{\"marker\":{\"colorbar\":{\"outlinewidth\":0,\"ticks\":\"\"}},\"type\":\"scatterternary\"}],\"surface\":[{\"colorbar\":{\"outlinewidth\":0,\"ticks\":\"\"},\"colorscale\":[[0.0,\"#0d0887\"],[0.1111111111111111,\"#46039f\"],[0.2222222222222222,\"#7201a8\"],[0.3333333333333333,\"#9c179e\"],[0.4444444444444444,\"#bd3786\"],[0.5555555555555556,\"#d8576b\"],[0.6666666666666666,\"#ed7953\"],[0.7777777777777778,\"#fb9f3a\"],[0.8888888888888888,\"#fdca26\"],[1.0,\"#f0f921\"]],\"type\":\"surface\"}],\"table\":[{\"cells\":{\"fill\":{\"color\":\"#EBF0F8\"},\"line\":{\"color\":\"white\"}},\"header\":{\"fill\":{\"color\":\"#C8D4E3\"},\"line\":{\"color\":\"white\"}},\"type\":\"table\"}]},\"layout\":{\"annotationdefaults\":{\"arrowcolor\":\"#2a3f5f\",\"arrowhead\":0,\"arrowwidth\":1},\"autotypenumbers\":\"strict\",\"coloraxis\":{\"colorbar\":{\"outlinewidth\":0,\"ticks\":\"\"}},\"colorscale\":{\"diverging\":[[0,\"#8e0152\"],[0.1,\"#c51b7d\"],[0.2,\"#de77ae\"],[0.3,\"#f1b6da\"],[0.4,\"#fde0ef\"],[0.5,\"#f7f7f7\"],[0.6,\"#e6f5d0\"],[0.7,\"#b8e186\"],[0.8,\"#7fbc41\"],[0.9,\"#4d9221\"],[1,\"#276419\"]],\"sequential\":[[0.0,\"#0d0887\"],[0.1111111111111111,\"#46039f\"],[0.2222222222222222,\"#7201a8\"],[0.3333333333333333,\"#9c179e\"],[0.4444444444444444,\"#bd3786\"],[0.5555555555555556,\"#d8576b\"],[0.6666666666666666,\"#ed7953\"],[0.7777777777777778,\"#fb9f3a\"],[0.8888888888888888,\"#fdca26\"],[1.0,\"#f0f921\"]],\"sequentialminus\":[[0.0,\"#0d0887\"],[0.1111111111111111,\"#46039f\"],[0.2222222222222222,\"#7201a8\"],[0.3333333333333333,\"#9c179e\"],[0.4444444444444444,\"#bd3786\"],[0.5555555555555556,\"#d8576b\"],[0.6666666666666666,\"#ed7953\"],[0.7777777777777778,\"#fb9f3a\"],[0.8888888888888888,\"#fdca26\"],[1.0,\"#f0f921\"]]},\"colorway\":[\"#636efa\",\"#EF553B\",\"#00cc96\",\"#ab63fa\",\"#FFA15A\",\"#19d3f3\",\"#FF6692\",\"#B6E880\",\"#FF97FF\",\"#FECB52\"],\"font\":{\"color\":\"#2a3f5f\"},\"geo\":{\"bgcolor\":\"white\",\"lakecolor\":\"white\",\"landcolor\":\"#E5ECF6\",\"showlakes\":true,\"showland\":true,\"subunitcolor\":\"white\"},\"hoverlabel\":{\"align\":\"left\"},\"hovermode\":\"closest\",\"mapbox\":{\"style\":\"light\"},\"paper_bgcolor\":\"white\",\"plot_bgcolor\":\"#E5ECF6\",\"polar\":{\"angularaxis\":{\"gridcolor\":\"white\",\"linecolor\":\"white\",\"ticks\":\"\"},\"bgcolor\":\"#E5ECF6\",\"radialaxis\":{\"gridcolor\":\"white\",\"linecolor\":\"white\",\"ticks\":\"\"}},\"scene\":{\"xaxis\":{\"backgroundcolor\":\"#E5ECF6\",\"gridcolor\":\"white\",\"gridwidth\":2,\"linecolor\":\"white\",\"showbackground\":true,\"ticks\":\"\",\"zerolinecolor\":\"white\"},\"yaxis\":{\"backgroundcolor\":\"#E5ECF6\",\"gridcolor\":\"white\",\"gridwidth\":2,\"linecolor\":\"white\",\"showbackground\":true,\"ticks\":\"\",\"zerolinecolor\":\"white\"},\"zaxis\":{\"backgroundcolor\":\"#E5ECF6\",\"gridcolor\":\"white\",\"gridwidth\":2,\"linecolor\":\"white\",\"showbackground\":true,\"ticks\":\"\",\"zerolinecolor\":\"white\"}},\"shapedefaults\":{\"line\":{\"color\":\"#2a3f5f\"}},\"ternary\":{\"aaxis\":{\"gridcolor\":\"white\",\"linecolor\":\"white\",\"ticks\":\"\"},\"baxis\":{\"gridcolor\":\"white\",\"linecolor\":\"white\",\"ticks\":\"\"},\"bgcolor\":\"#E5ECF6\",\"caxis\":{\"gridcolor\":\"white\",\"linecolor\":\"white\",\"ticks\":\"\"}},\"title\":{\"x\":0.05},\"xaxis\":{\"automargin\":true,\"gridcolor\":\"white\",\"linecolor\":\"white\",\"ticks\":\"\",\"title\":{\"standoff\":15},\"zerolinecolor\":\"white\",\"zerolinewidth\":2},\"yaxis\":{\"automargin\":true,\"gridcolor\":\"white\",\"linecolor\":\"white\",\"ticks\":\"\",\"title\":{\"standoff\":15},\"zerolinecolor\":\"white\",\"zerolinewidth\":2}}},\"scene\":{\"domain\":{\"x\":[0.0,1.0],\"y\":[0.0,1.0]},\"xaxis\":{\"title\":{\"text\":\"x\"}},\"yaxis\":{\"title\":{\"text\":\"y\"}},\"zaxis\":{\"title\":{\"text\":\"z\"}}},\"legend\":{\"tracegroupgap\":0},\"margin\":{\"t\":60}},                        {\"responsive\": true}                    ).then(function(){\n",
       "                            \n",
       "var gd = document.getElementById('88bda6df-18d3-4a49-9d89-85a5bee104bb');\n",
       "var x = new MutationObserver(function (mutations, observer) {{\n",
       "        var display = window.getComputedStyle(gd).display;\n",
       "        if (!display || display === 'none') {{\n",
       "            console.log([gd, 'removed!']);\n",
       "            Plotly.purge(gd);\n",
       "            observer.disconnect();\n",
       "        }}\n",
       "}});\n",
       "\n",
       "// Listen for the removal of the full notebook cells\n",
       "var notebookContainer = gd.closest('#notebook-container');\n",
       "if (notebookContainer) {{\n",
       "    x.observe(notebookContainer, {childList: true});\n",
       "}}\n",
       "\n",
       "// Listen for the clearing of the current output cell\n",
       "var outputEl = gd.closest('.output');\n",
       "if (outputEl) {{\n",
       "    x.observe(outputEl, {childList: true});\n",
       "}}\n",
       "\n",
       "                        })                };                });            </script>        </div>"
      ]
     },
     "metadata": {},
     "output_type": "display_data"
    }
   ],
   "source": [
    "### Visualizing dataset\n",
    "fig= px.scatter_3d(x=X[:,0], y=X[:,1], z=X[:,2])\n",
    "fig.show();"
   ]
  },
  {
   "cell_type": "code",
   "execution_count": 51,
   "id": "1d560d29",
   "metadata": {},
   "outputs": [
    {
     "data": {
      "image/png": "[encoded data removed]",
      "text/plain": [
       "<IPython.core.display.Image object>"
      ]
     },
     "execution_count": 51,
     "metadata": {},
     "output_type": "execute_result"
    }
   ],
   "source": [
    "from IPython import display\n",
    "display.Image(\"wo_cluster.png\")"
   ]
  },
  {
   "cell_type": "code",
   "execution_count": 45,
   "id": "508a25e5",
   "metadata": {
    "scrolled": true
   },
   "outputs": [
    {
     "name": "stdout",
     "output_type": "stream",
     "text": [
      "[16520.33, 6135.27, 3215.25, 879.2, 810.02, 748.86, 693.28, 632.22, 587.3, 554.04, 525.92, 486.34, 461.4, 444.53, 424.88, 398.86, 384.19, 372.72, 357.65, 347.18]\n"
     ]
    }
   ],
   "source": [
    "### Calculating WCSS for K=1 to K=21 clusters\n",
    "wcss=[]\n",
    "\n",
    "for i in range(1,21):\n",
    "    km = KMeans(n_clusters=i)\n",
    "    km.fit_predict(X)\n",
    "    wcss.append(round(km.inertia_,2))\n",
    "print(wcss)"
   ]
  },
  {
   "cell_type": "code",
   "execution_count": 46,
   "id": "24a06996",
   "metadata": {},
   "outputs": [
    {
     "data": {
      "text/plain": [
       "Text(0.5, 1.0, 'WCSS vs K Value')"
      ]
     },
     "execution_count": 46,
     "metadata": {},
     "output_type": "execute_result"
    },
    {
     "data": {
      "image/png": "[encoded data removed]",
      "text/plain": [
       "<Figure size 720x360 with 1 Axes>"
      ]
     },
     "metadata": {
      "needs_background": "light"
     },
     "output_type": "display_data"
    }
   ],
   "source": [
    "### Plotting WCSS with K\n",
    "plt.figure(figsize=(10, 5))\n",
    "plt.plot(range(1,21), wcss)\n",
    "plt.xlabel(\"K Value\", fontsize=10, fontweight='bold')\n",
    "plt.ylabel(\"WCSS Value\", fontsize=10, fontweight='bold')\n",
    "plt.title(\"WCSS vs K Value\", fontsize=15, fontweight='bold')"
   ]
  },
  {
   "cell_type": "code",
   "execution_count": 47,
   "id": "9c6e8994",
   "metadata": {},
   "outputs": [
    {
     "data": {
      "text/plain": [
       "array([0, 1, 1, 1, 0, 0, 1, 2, 0, 2, 3, 3, 3, 2, 3, 1, 2, 2, 1, 1, 0, 1,\n",
       "       2, 1, 0, 2, 2, 1, 2, 0, 1, 0, 3, 3, 1, 1, 0, 2, 3, 0, 3, 1, 0, 2,\n",
       "       2, 1, 2, 1, 3, 1, 0, 0, 1, 2, 0, 3, 0, 1, 0, 0, 3, 1, 1, 3, 0, 3,\n",
       "       3, 0, 3, 0, 3, 3, 0, 3, 0, 3, 2, 3, 3, 2, 2, 1, 3, 3, 2, 2, 3, 3,\n",
       "       3, 1, 0, 3, 2, 0, 0, 2, 1, 1, 1, 1, 0, 3, 2, 1, 3, 3, 2, 1, 0, 1,\n",
       "       1, 1, 0, 0, 2, 1, 3, 2, 1, 1, 2, 2, 3, 0, 0, 3, 1, 1, 2, 2, 2, 3,\n",
       "       2, 2, 0, 2, 3, 0, 3, 0, 0, 0, 1, 2, 1, 0, 0, 0, 0, 3, 3, 2, 2, 2,\n",
       "       0, 1, 2, 1, 3, 1, 2, 0, 2, 2, 3, 0, 0, 1, 2, 3, 0, 3, 2, 3, 1, 1,\n",
       "       3, 2, 1, 0, 0, 1, 2, 2, 3, 3, 1, 3, 2, 1, 1, 0, 2, 3, 1, 1, 3, 2,\n",
       "       2, 1, 0, 2, 3, 1, 2, 2, 3, 2, 0, 0, 2, 0, 3, 2, 0, 3, 0, 3, 2, 0,\n",
       "       0, 1, 2, 3, 2, 0, 0, 0, 3, 2, 1, 3, 3, 3, 1, 3, 2, 1, 2, 3, 3, 2,\n",
       "       0, 1, 0, 3, 1, 1, 3, 1, 0, 0, 3, 3, 1, 0, 3, 0, 2, 2, 1, 1, 1, 2,\n",
       "       3, 0, 0, 3, 0, 1, 2, 3, 2, 2, 1, 2, 2, 0, 2, 3, 3, 0, 2, 2, 1, 1,\n",
       "       0, 1, 3, 1, 3, 0, 0, 2, 0, 1, 3, 0, 1, 1])"
      ]
     },
     "execution_count": 47,
     "metadata": {},
     "output_type": "execute_result"
    }
   ],
   "source": [
    "### Getting labels of clustered records\n",
    "km = KMeans(n_clusters=4)\n",
    "y_pred=km.fit_predict(X)\n",
    "y_pred"
   ]
  },
  {
   "cell_type": "code",
   "execution_count": 48,
   "id": "5a3b0de0",
   "metadata": {},
   "outputs": [
    {
     "data": {
      "text/plain": [
       "0.735"
      ]
     },
     "execution_count": 48,
     "metadata": {},
     "output_type": "execute_result"
    }
   ],
   "source": [
    "### Silhoutte score\n",
    "score= round(silhouette_score(X, km.labels_, metric='euclidean'),3)\n",
    "score"
   ]
  },
  {
   "cell_type": "code",
   "execution_count": 23,
   "id": "f037f1b3",
   "metadata": {},
   "outputs": [
    {
     "data": {
      "text/html": [
       "<div>\n",
       "<style scoped>\n",
       "    .dataframe tbody tr th:only-of-type {\n",
       "        vertical-align: middle;\n",
       "    }\n",
       "\n",
       "    .dataframe tbody tr th {\n",
       "        vertical-align: top;\n",
       "    }\n",
       "\n",
       "    .dataframe thead th {\n",
       "        text-align: right;\n",
       "    }\n",
       "</style>\n",
       "<table border=\"1\" class=\"dataframe\">\n",
       "  <thead>\n",
       "    <tr style=\"text-align: right;\">\n",
       "      <th></th>\n",
       "      <th>col1</th>\n",
       "      <th>col2</th>\n",
       "      <th>col3</th>\n",
       "      <th>label</th>\n",
       "    </tr>\n",
       "  </thead>\n",
       "  <tbody>\n",
       "    <tr>\n",
       "      <th>0</th>\n",
       "      <td>-4.470535</td>\n",
       "      <td>-4.862299</td>\n",
       "      <td>5.077821</td>\n",
       "      <td>1</td>\n",
       "    </tr>\n",
       "    <tr>\n",
       "      <th>1</th>\n",
       "      <td>-4.576802</td>\n",
       "      <td>3.447501</td>\n",
       "      <td>-4.503974</td>\n",
       "      <td>0</td>\n",
       "    </tr>\n",
       "    <tr>\n",
       "      <th>2</th>\n",
       "      <td>-2.349984</td>\n",
       "      <td>2.963534</td>\n",
       "      <td>-3.602120</td>\n",
       "      <td>0</td>\n",
       "    </tr>\n",
       "    <tr>\n",
       "      <th>3</th>\n",
       "      <td>-1.481448</td>\n",
       "      <td>3.730558</td>\n",
       "      <td>-5.181103</td>\n",
       "      <td>0</td>\n",
       "    </tr>\n",
       "    <tr>\n",
       "      <th>4</th>\n",
       "      <td>-4.801700</td>\n",
       "      <td>-4.880991</td>\n",
       "      <td>4.329338</td>\n",
       "      <td>1</td>\n",
       "    </tr>\n",
       "  </tbody>\n",
       "</table>\n",
       "</div>"
      ],
      "text/plain": [
       "       col1      col2      col3  label\n",
       "0 -4.470535 -4.862299  5.077821      1\n",
       "1 -4.576802  3.447501 -4.503974      0\n",
       "2 -2.349984  2.963534 -3.602120      0\n",
       "3 -1.481448  3.730558 -5.181103      0\n",
       "4 -4.801700 -4.880991  4.329338      1"
      ]
     },
     "execution_count": 23,
     "metadata": {},
     "output_type": "execute_result"
    }
   ],
   "source": [
    "### Creating dataset with labels and clustered data\n",
    "df = pd.DataFrame()\n",
    "\n",
    "df['col1']= X[:,0]\n",
    "df['col2']= X[:,1]\n",
    "df['col3']= X[:,2]\n",
    "df['label']= y_pred\n",
    "\n",
    "df.head()"
   ]
  },
  {
   "cell_type": "code",
   "execution_count": 24,
   "id": "413bba3b",
   "metadata": {
    "scrolled": false
   },
   "outputs": [
    {
     "data": {
      "application/vnd.plotly.v1+json": {
       "config": {
        "plotlyServerURL": "https://plot.ly"
       },
       "data": [
        {
         "hovertemplate": "col1=%{x}<br>col2=%{y}<br>col3=%{z}<br>label=%{marker.color}<extra></extra>",
         "legendgroup": "",
         "marker": {
          "color": [
           1,
           0,
           0,
           0,
           1,
           1,
           0,
           3,
           1,
           3,
           2,
           2,
           2,
           3,
           2,
           0,
           3,
           3,
           0,
           0,
           1,
           0,
           3,
           0,
           1,
           3,
           3,
           0,
           3,
           1,
           0,
           1,
           2,
           2,
           0,
           0,
           1,
           3,
           2,
           1,
           2,
           0,
           1,
           3,
           3,
           0,
           3,
           0,
           2,
           0,
           1,
           1,
           0,
           3,
           1,
           2,
           1,
           0,
           1,
           1,
           2,
           0,
           0,
           2,
           1,
           2,
           2,
           1,
           2,
           1,
           2,
           2,
           1,
           2,
           1,
           2,
           3,
           2,
           2,
           3,
           3,
           0,
           2,
           2,
           3,
           3,
           2,
           2,
           2,
           0,
           1,
           2,
           3,
           1,
           1,
           3,
           0,
           0,
           0,
           0,
           1,
           2,
           3,
           0,
           2,
           2,
           3,
           0,
           1,
           0,
           0,
           0,
           1,
           1,
           3,
           0,
           2,
           3,
           0,
           0,
           3,
           3,
           2,
           1,
           1,
           2,
           0,
           0,
           3,
           3,
           3,
           2,
           3,
           3,
           1,
           3,
           2,
           1,
           2,
           1,
           1,
           1,
           0,
           3,
           0,
           1,
           1,
           1,
           1,
           2,
           2,
           3,
           3,
           3,
           1,
           0,
           3,
           0,
           2,
           0,
           3,
           1,
           3,
           3,
           2,
           1,
           1,
           0,
           3,
           2,
           1,
           2,
           3,
           2,
           0,
           0,
           2,
           3,
           0,
           1,
           1,
           0,
           3,
           3,
           2,
           2,
           0,
           2,
           3,
           0,
           0,
           1,
           3,
           2,
           0,
           0,
           2,
           3,
           3,
           0,
           1,
           3,
           2,
           0,
           3,
           3,
           2,
           3,
           1,
           1,
           3,
           1,
           2,
           3,
           1,
           2,
           1,
           2,
           3,
           1,
           1,
           0,
           3,
           2,
           3,
           1,
           1,
           1,
           2,
           3,
           0,
           2,
           2,
           2,
           0,
           2,
           3,
           0,
           3,
           2,
           2,
           3,
           1,
           0,
           1,
           2,
           0,
           0,
           2,
           0,
           1,
           1,
           2,
           2,
           0,
           1,
           2,
           1,
           3,
           3,
           0,
           0,
           0,
           3,
           2,
           1,
           1,
           2,
           1,
           0,
           3,
           2,
           3,
           3,
           0,
           3,
           3,
           1,
           3,
           2,
           2,
           1,
           3,
           3,
           0,
           0,
           1,
           0,
           2,
           0,
           2,
           1,
           1,
           3,
           1,
           0,
           2,
           1,
           0,
           0
          ],
          "coloraxis": "coloraxis",
          "symbol": "circle"
         },
         "mode": "markers",
         "name": "",
         "scene": "scene",
         "showlegend": false,
         "type": "scatter3d",
         "x": [
          -4.470534675647291,
          -4.5768020219235535,
          -2.349983721272196,
          -1.481447525232118,
          -4.801700279873231,
          -4.751200838612229,
          -3.970237089021313,
          5.836004719434269,
          -3.2551882357835202,
          5.324274243448421,
          4.385825798965907,
          2.5815599616999743,
          4.532983778949751,
          5.134048196554623,
          2.335992028838798,
          -2.391969182687655,
          3.5734445794794683,
          5.824584625033458,
          -3.958324460393154,
          -2.2594944478526378,
          -4.437238903380973,
          -2.6920036966310446,
          4.4425052782139565,
          -4.38141086716606,
          -4.098513108351289,
          5.367231813883865,
          4.570857721764906,
          -3.5148036908586713,
          5.78477065101559,
          -5.638730407454222,
          -2.6505043256504517,
          -5.0246169558757785,
          4.5449944096738975,
          3.3812288278969107,
          -0.5802077135719121,
          -2.9389976636662776,
          -5.636995646569353,
          5.429526140021965,
          3.8166588951566545,
          -5.326499498078184,
          3.1465900171329855,
          -4.804907937770138,
          -4.068897918696443,
          7.0563555231982935,
          3.8835299821152556,
          -1.3474008649893963,
          4.119422400155829,
          -3.4268719392086244,
          3.540371431022839,
          -1.8725629172468894,
          -5.623530729679792,
          -6.396496335488138,
          -3.434181843147949,
          5.013352676347177,
          -4.839962930552169,
          4.601000202668482,
          -5.101745872529145,
          -1.6925440829947298,
          -5.754397940996653,
          -3.8683706125485733,
          4.233023231719079,
          -3.306178211953457,
          0.8210787561703645,
          4.513822466971705,
          -4.62243621367908,
          3.5896864073225903,
          4.607175450949063,
          -4.376637823421968,
          4.403999174003527,
          -4.957786253284407,
          4.285226919634688,
          4.9707398566913685,
          -6.117310348635278,
          3.8724568515114424,
          -4.956331006821611,
          5.193809113288081,
          4.274402880865573,
          2.3865638970270098,
          2.6911528035278716,
          7.065783320218834,
          4.943175519114153,
          -1.8934515995867052,
          2.981854447601245,
          2.4270357212883553,
          3.4743196837706423,
          6.399843942480986,
          4.370969802532242,
          4.136583409414631,
          2.629991776809148,
          -2.4959991580246244,
          -5.136444743896033,
          2.906656245757581,
          5.6210827008390085,
          -5.747158293750838,
          -2.8093002710302666,
          4.893206013220775,
          -2.4740000058143417,
          -1.8852737241725515,
          -1.8221924288801885,
          -1.4665491967357627,
          -4.8798410475183704,
          2.6713720211435943,
          3.1268390223646985,
          -4.6444440467284505,
          3.472470613732022,
          4.213049050303269,
          5.008548945436025,
          -2.576679362705732,
          -5.174703159742501,
          -2.622154015111683,
          -3.7295742535464287,
          -1.0041152341155244,
          -5.935769434259068,
          -5.266218506003622,
          4.771234171129837,
          -1.7685974828749345,
          2.3450173650706354,
          5.211124755007717,
          -3.4509092510507697,
          -2.1803430580554064,
          5.035360097054757,
          2.5864969988262123,
          3.190878681358138,
          -4.649454021335893,
          -3.095341291659019,
          3.53494358936374,
          -1.0823259870006396,
          -0.07112303047702095,
          5.617985533920335,
          4.299601495078745,
          4.334245481800873,
          2.9910277221771384,
          5.201830178874004,
          5.352494364369333,
          -5.200758068929997,
          5.262467445463269,
          4.316043684324061,
          -6.0729686221561705,
          3.211002656990184,
          -7.022201215824003,
          -4.301967965927781,
          -4.5965083582092,
          -2.3144643790334447,
          7.449368649061397,
          -2.7604660588653798,
          -4.175994381549592,
          -5.343853675571076,
          -3.706774117467738,
          -6.615772354703295,
          4.174570706956004,
          3.2712458287797874,
          4.879535428211493,
          5.564382855494314,
          5.840861558141103,
          -6.331951666517249,
          -2.530911417604136,
          5.920017933247763,
          -1.9281951211350101,
          4.486352180212064,
          -2.328042867832409,
          4.668716830067372,
          -6.230058135666962,
          3.3159400141317628,
          4.8097789749151385,
          2.677532811095748,
          -4.6848406079577085,
          -4.769905264635616,
          -2.3656268839602457,
          5.853281221955623,
          3.9102657453968446,
          -5.31011677351806,
          3.3602882695589273,
          3.6942730774422623,
          3.040057169159313,
          -2.718733458967709,
          -2.517817549053939,
          5.353009485069379,
          5.438166347291237,
          -3.0691486535119705,
          -4.099144050735588,
          -4.136654682455978,
          -1.9946180972470824,
          3.55912397570816,
          5.477610181817557,
          3.2171364483651557,
          3.0851530987117646,
          -2.9599301044345814,
          3.39160793282646,
          5.451615950555242,
          -1.638376898658796,
          -2.8645380497066375,
          -6.272558755245994,
          3.955410618092208,
          3.6073432938235896,
          -3.0632366041174564,
          -3.022356465135695,
          3.170948450658919,
          5.515073613639366,
          3.603379575404568,
          -1.7218258209004336,
          -4.189048327196444,
          6.1926860677546935,
          3.0755072094290727,
          -1.7744494819212668,
          4.250030382724334,
          3.244074359767148,
          4.511207063774909,
          4.557770720486827,
          -4.830617566941332,
          -3.0328982507452653,
          4.91549197259537,
          -5.287307863476019,
          3.2241539374388566,
          5.086464406524287,
          -5.322417204013507,
          3.092747956980034,
          -5.691660751725309,
          3.081062102321877,
          4.52084290121392,
          -2.8130203530257423,
          -4.381619738001476,
          -2.4820441083491738,
          5.095425087191257,
          3.3980679607364,
          4.5017864363689215,
          -5.2980928351027154,
          -4.257955839422665,
          -4.198138968128656,
          2.402845639744638,
          2.885836078083174,
          -2.8626120875772587,
          2.693815182617776,
          3.641640537665805,
          2.9061569327454904,
          -1.4507817092474322,
          3.8511168965109652,
          5.618539130786293,
          -2.559367902548499,
          6.388779396370269,
          1.6760801473748062,
          3.39353987844446,
          2.962798774319205,
          -6.099891267314031,
          -4.052698783176836,
          -5.208894233374778,
          2.0976708545468634,
          -1.4902126650524414,
          -0.9634636719789014,
          3.2410171465994675,
          -1.4396724908431926,
          -5.073112703747277,
          -3.3723492468510936,
          2.3922874977154476,
          4.015413801783241,
          -2.5359901817271915,
          -3.4411944593801405,
          3.628376990155944,
          -5.890555584163049,
          6.115841107924169,
          7.110605053600709,
          -3.4960108890883994,
          -3.3300109855676734,
          -3.590338332454815,
          5.884908814464883,
          2.520109748338199,
          -3.3756546363367583,
          -5.84520564149872,
          2.4192893075544935,
          -6.122018728746888,
          -1.7195300702416256,
          4.950297420841324,
          4.697830841721251,
          4.8245410313382475,
          5.808844360265682,
          -1.4787518739010987,
          4.20273021450687,
          5.461164099977017,
          -6.627438340616258,
          4.298655573742823,
          1.8625504069916583,
          3.557120996082092,
          -4.870898420289275,
          2.20691499985346,
          4.4001954689291525,
          -2.074079823497184,
          -2.4050038899308386,
          -3.855276290160386,
          -5.198361741666047,
          2.5845756317682937,
          -2.592432318541586,
          2.7776080945858492,
          -5.24937037547741,
          -5.586523938821593,
          6.000881423680301,
          -3.801082120098493,
          -0.6485621054264903,
          2.9677659791018227,
          -5.352249846493518,
          -2.639351805450921,
          -2.2119218329948493
         ],
         "y": [
          -4.862298790002614,
          3.447501167345676,
          2.9635343217316654,
          3.7305581999547246,
          -4.880991354192541,
          -5.296641152370863,
          3.106403944303837,
          6.5433591108044835,
          -5.761206900895103,
          5.0218628366265525,
          -2.310138350616904,
          -2.605344712507542,
          -2.7224140285299088,
          6.202054862199706,
          -1.8066337743396155,
          2.529417618970766,
          6.767959948311026,
          5.654580152586701,
          2.9943416509823786,
          1.5005734986418204,
          -4.759262907762268,
          -0.5537643804263048,
          5.939168744196488,
          2.9972690986459773,
          -2.471674293193602,
          6.232899192376237,
          6.2084563285519625,
          2.93598619629641,
          4.044574737626311,
          -4.576505645935887,
          3.4154992680625726,
          -5.775161619169159,
          -1.8914853015151505,
          -2.6989981838037242,
          1.1083061239459664,
          3.09003946416083,
          -4.809084515332534,
          4.393001601799954,
          -4.3952669474764665,
          -6.342675789377436,
          -4.287912891199715,
          2.4681828273012085,
          -4.714412674745741,
          6.760249226449093,
          5.080927100973279,
          2.2757642278765013,
          4.72090227845671,
          2.3175795936369026,
          -2.656993672493318,
          3.2513372351604843,
          -4.479423662926629,
          -6.4441138054295894,
          3.042645294566316,
          4.305306404712773,
          -4.123831078883775,
          -1.7199728646613706,
          -4.131113842994132,
          2.812238689013,
          -3.747131844766712,
          -3.480183183577801,
          -4.398812059319295,
          2.549061692373103,
          1.8997746696226852,
          -4.727112631850014,
          -4.878178729008563,
          -3.1011568006493837,
          -1.0571230715036908,
          -5.434956682955228,
          -0.9245320914276192,
          -4.417184786284178,
          -3.1648677669672134,
          -2.162779061691541,
          -4.765584302182908,
          -2.6484898030593937,
          -5.226314242513605,
          -2.3031302207497086,
          4.13223132237641,
          -2.5674100249468546,
          -1.9425605471419667,
          3.528843074167375,
          5.492336555936649,
          1.762710372240068,
          -3.961403604722106,
          -2.0048413887996834,
          5.795026094424845,
          4.2180883173131996,
          -3.0084571342754005,
          -1.0907466106359918,
          -2.130809530453126,
          2.8212659144838317,
          -5.11905418777481,
          -1.989692403254744,
          5.956121704124697,
          -3.3075453989722536,
          -6.896360922891093,
          6.451429260590936,
          1.1513035532027578,
          2.1510158090844476,
          1.3934269326081148,
          2.353726725388646,
          -4.382796890292581,
          -1.971120254414826,
          5.920615118054956,
          2.1304375746625666,
          -0.7535649107720275,
          -1.1937939348645514,
          4.831801160255284,
          3.0729627259567565,
          -4.013664812178758,
          1.8191484259826827,
          3.608616757989675,
          3.175453809204212,
          -5.267888079626016,
          -4.967385453306641,
          6.613361374563116,
          3.4544956665476874,
          -2.677632195983551,
          5.016527567305616,
          1.7956496684765413,
          2.8181541996786894,
          3.4612067542553566,
          3.2224336241940126,
          -1.9890622255079107,
          -6.3122834112374315,
          -3.8889433014394954,
          -1.0460824183911825,
          2.5503170861471354,
          3.505686680311216,
          4.815823674346254,
          4.796605551035442,
          3.325804192381068,
          -2.6664859548859594,
          5.661020287598693,
          4.763563048187013,
          -4.813438609011715,
          5.276499304822184,
          -3.1124069731288238,
          -4.134592370675321,
          -2.8918162398080485,
          -5.306204012628372,
          -5.447128564785999,
          -4.406421476762933,
          2.8944280300121124,
          4.454225832017432,
          2.945096710344572,
          -5.56230543101909,
          -4.956403143165753,
          -5.110447026417316,
          -3.878582291764336,
          -1.039107619536922,
          -2.679612294651358,
          3.766879264553573,
          7.137828067439482,
          4.897112782426462,
          -6.760688560398783,
          2.8557172615760167,
          4.804942659124099,
          2.4631823434829725,
          -2.966154856825928,
          2.990561043809639,
          5.386539145133091,
          -4.449462504023785,
          3.839829895017724,
          4.551261967328378,
          -1.7782887078873073,
          -4.153839352414966,
          -4.237988819687975,
          2.231628695879423,
          4.586970690288968,
          -1.6401290282030878,
          -7.434837764107138,
          -1.1136857357536811,
          4.655012789845021,
          -1.8556463339696778,
          4.039207009655063,
          1.899861200764387,
          -2.3577486274736823,
          6.1223283216570925,
          1.438203238689152,
          -5.683727859174333,
          -5.1809203020781505,
          3.7179409008013473,
          6.2322530708284365,
          3.9781140553586907,
          -2.76632688431872,
          -2.048053962678777,
          1.7092000462248322,
          -2.049844487232821,
          6.104174326303213,
          0.41360943454347376,
          2.040282318961932,
          -4.686452279536568,
          7.051173442857444,
          -3.8988128186664763,
          4.890145962333511,
          2.1307440981710317,
          -1.1528945353295024,
          2.2174655323470773,
          4.138683639223958,
          2.8098167586074885,
          -3.955557905292741,
          4.762058064247817,
          -3.2315309817303333,
          2.1757957805147887,
          7.054624102518115,
          5.714789597485815,
          -3.9765626605201803,
          5.323527353601432,
          -4.259443548903725,
          -6.857981864446752,
          4.702638117226496,
          -4.319930160121896,
          -1.2710444143493027,
          2.8575332709226315,
          -5.384054354668415,
          -1.515048328280789,
          -5.396753526855977,
          -2.979184915127406,
          5.350167158828279,
          -4.558635556431418,
          -4.767505440821262,
          1.2295392236145204,
          5.921450068659511,
          -1.7566434564861377,
          4.689015021697149,
          -4.511481853462503,
          -5.191835552361615,
          -4.953432701575855,
          -1.6613652527716227,
          4.588360836811518,
          1.0148435486745457,
          -2.7516742076314245,
          -5.016303860965749,
          -2.8439007092103923,
          3.4662208625783415,
          -2.5687704630786383,
          4.556828069299362,
          3.948989404158236,
          4.338655756846982,
          -1.332924834000036,
          -5.290996406693846,
          3.0574108185235445,
          -5.1724282075504355,
          3.078464420256242,
          -4.4133768088178025,
          -2.0488770612654013,
          0.9430584421349686,
          2.4996249912416437,
          -2.3107068024413424,
          0.7888323403755073,
          -3.83966143000623,
          -4.661988303425524,
          -2.517718317910142,
          -3.614871052365937,
          3.537038981773908,
          -4.890597303574572,
          -0.7395848164246777,
          -6.119115398559728,
          5.310272287783767,
          3.6934659271559815,
          1.3041384896755182,
          1.4804801505942837,
          4.200188146645526,
          4.122718481081812,
          -1.8074256524606442,
          -5.611756413650076,
          -5.671246130836819,
          -1.7745259955184642,
          -5.517094457920228,
          1.0359464264194083,
          5.466643267228841,
          -0.7954058286275931,
          4.066085344373499,
          6.789754683206271,
          3.024750492296824,
          5.2826757122484205,
          3.8240173285586847,
          -4.397680719704371,
          4.462776976124662,
          1.4586027040379634,
          -3.2995474906917597,
          -3.3830504011427,
          6.93752881361608,
          6.1234121620219355,
          2.5490803971416303,
          2.58075098862302,
          -4.098409279407204,
          1.2866618741712954,
          -1.2748441507267692,
          2.2621247345431676,
          -1.4010036672528208,
          -3.537892062955026,
          -6.236853376541397,
          4.61516775116721,
          -4.8148435825160565,
          2.709096676575521,
          -1.3818666032823044,
          -6.14251819802214,
          1.7714625105752986,
          3.998108183577034
         ],
         "z": [
          5.077821127912706,
          -4.503973949142318,
          -3.6021195751181487,
          -5.181103172771823,
          4.329337713710969,
          5.49521132397796,
          -1.7062823876428221,
          -4.241194339902069,
          5.319039096057098,
          -5.468673816277891,
          4.798063795298943,
          4.630195670684911,
          5.47016034382574,
          -4.715251889150942,
          3.2419326714437675,
          -4.134793129295724,
          -5.475372875137982,
          -5.0511884476076645,
          -5.494193765274685,
          -3.6014016118385626,
          5.280665077122639,
          -3.520147628846183,
          -6.943323405668353,
          -3.7626673006604032,
          4.75136522228454,
          -5.422856961390775,
          -3.8842981972155135,
          -4.687487393060175,
          -4.414089568897384,
          5.077340068348559,
          -4.438200267338669,
          6.273755930158776,
          3.9306713033095173,
          5.866471375152125,
          -3.5497822579621543,
          -4.679383782997235,
          7.100255136478842,
          -4.893777275964783,
          4.0897291174446515,
          6.114382976779792,
          4.361847315839568,
          -3.8875122575858043,
          5.885141164270728,
          -5.0606524917748095,
          -5.186578993511466,
          -4.3260613057601365,
          -3.377150914045999,
          -4.491125137790818,
          2.6647972769848085,
          -3.85960456355265,
          3.8556586103768575,
          4.495534137053549,
          -5.95816908559901,
          -4.378196495694428,
          5.315634947241605,
          3.3705583959462198,
          5.750411639865008,
          -4.193321640474004,
          5.512929820418009,
          7.185575406533161,
          2.8828893075608875,
          -4.596086334587662,
          -4.3795175155338795,
          2.3006663952777044,
          6.129483907911919,
          4.556073510077385,
          3.4603184377975076,
          6.407540000241228,
          5.206607898035568,
          3.8993808227870788,
          2.054953041387961,
          5.008065433075763,
          6.659802177109871,
          3.816599802679976,
          6.331457112587592,
          4.169869255347572,
          -5.13597732610059,
          5.161439981674394,
          4.1810387443578705,
          -5.830171895315114,
          -5.680678141008886,
          -3.835334934150793,
          3.483652091353978,
          3.047937899293741,
          -5.374438318843221,
          -5.4375089828285805,
          4.777419205248862,
          5.620912285621747,
          4.853282185823733,
          -4.725214925745366,
          5.017409408300004,
          3.084208150931321,
          -5.705840507402284,
          5.050807754776029,
          4.353083311745092,
          -5.618036847681579,
          -2.69746446351382,
          -4.977773001532967,
          -4.359224095710739,
          -4.857496824739772,
          5.300170319955828,
          1.7629134888875293,
          -5.035367924878711,
          -4.017454951836178,
          3.2249297129265653,
          3.395397030835624,
          -5.174180344307991,
          -3.5420529236902585,
          5.213533901335442,
          -5.067876576486555,
          -4.702920402910169,
          -3.4007867645407415,
          5.530355466738186,
          3.626882679753244,
          -5.374804687302653,
          -3.9042532288898655,
          2.4895436249124314,
          -4.822812279724039,
          -4.045866686069767,
          -4.019231634097637,
          -5.447895184716119,
          -5.777858826627413,
          5.710661838671135,
          4.961304490733949,
          5.65904979610021,
          4.661681076465983,
          -3.349676785747654,
          -3.646432783997371,
          -5.115985185472396,
          -4.7573305589182056,
          -4.174970175561014,
          5.423614429348987,
          -3.207841791024433,
          -4.272186500000351,
          5.410051647208256,
          -5.733271603895313,
          4.393109244853983,
          2.6984613031197173,
          4.684001328181953,
          5.827974642607246,
          6.224507704805498,
          3.905088154258958,
          -3.2744774417464413,
          -5.1988378628888965,
          -3.901887753778009,
          6.954878075009034,
          4.379999156051871,
          4.382637936287639,
          5.408900537936828,
          4.5924728014240195,
          4.501725109345165,
          -6.182318126509633,
          -5.785533996920235,
          -3.8530996236005173,
          3.3492787341758996,
          -3.150413154905178,
          -4.194606575767819,
          -3.887631511207781,
          5.384991343648639,
          -5.395283025065327,
          -5.851455656530827,
          5.7928068659193475,
          -3.649893181318274,
          -5.672448038786596,
          3.374657998534012,
          4.140484059168013,
          4.777671857389641,
          -4.131675626287018,
          -3.1652823733503133,
          3.101316806681354,
          6.038824601859414,
          4.548129584688193,
          -5.230839743135469,
          4.371670291211865,
          -5.148704229636946,
          -3.8532347366131106,
          4.513505479988547,
          -5.997019795529683,
          -3.8677522210802153,
          4.877109774481352,
          4.396079372206743,
          -5.940680964364893,
          -5.254179867607368,
          -4.205471760398917,
          5.068971622201262,
          2.4208437146055344,
          -2.7762777880398906,
          5.765335100519072,
          -5.281736269065613,
          -3.6381983594289533,
          -2.294516482244558,
          5.503184813435326,
          -4.414337999827618,
          4.081767818805616,
          -3.7545771508108805,
          -3.734357597485715,
          2.950932254831384,
          -4.415353389522574,
          -4.3252884743120275,
          -2.9486792321512487,
          4.599121808211073,
          -3.8447121139117746,
          2.434261849344095,
          -3.1856568708510746,
          -4.946590463201652,
          -4.147295938274714,
          3.8568042549927624,
          -5.1099914901636065,
          4.046299398192065,
          6.23616403045282,
          -4.582697995025137,
          4.680198401101329,
          5.309705905682653,
          -5.830168864022708,
          6.133769442335438,
          5.071252427845891,
          4.312827299880401,
          2.0478947127547675,
          -4.982835273625912,
          4.8998447667165,
          5.682551406864485,
          -3.7170044661889983,
          -4.939249804200493,
          2.490427315775957,
          -5.001891482838004,
          4.924428286978944,
          4.112371035915164,
          4.813430228092651,
          2.960817677965097,
          -3.7214719171582784,
          -4.592461285153269,
          4.382715173724364,
          3.40433211908971,
          2.9998308101274844,
          -3.2740831474791787,
          2.6522350587463364,
          -3.1894650858745437,
          -4.477580854656721,
          -1.9691428876279695,
          3.9603312999095177,
          3.543882444851315,
          -7.506440652676061,
          4.122141582078628,
          -4.96126359903051,
          5.838983413874505,
          3.305079098814761,
          -4.612442128284345,
          -2.7064503793366916,
          3.4362112654176973,
          -2.3428753619570744,
          5.369492716375723,
          3.800731967664814,
          2.280605525380477,
          3.2326901736682654,
          -3.327380251878521,
          3.7802556030209673,
          4.966539250229057,
          6.9560789037036415,
          -7.094247816222812,
          -4.923619519840408,
          -1.4940197146813272,
          -4.2146538422260225,
          -3.391216341091891,
          -5.867787222872925,
          3.5213276435843386,
          4.4718282477365445,
          4.987335401081099,
          3.960821743790503,
          4.002973172349737,
          -4.154491193810529,
          -3.966313132060499,
          5.040089153154096,
          -5.5330203260836,
          -4.548715983959829,
          -4.477124206469332,
          -5.82609743184732,
          -3.9898728226652755,
          5.4202822036470595,
          -4.843736149729917,
          4.648643644090667,
          3.7084054044991674,
          5.502740881999904,
          -4.633667985459942,
          -4.6947329597559895,
          -2.897763267414658,
          -4.76780374602456,
          5.502494338901868,
          -3.9277481008441155,
          2.946453926299685,
          -4.755662765101965,
          3.098365509524002,
          2.939859290502346,
          5.8758389276492995,
          -3.54189176139048,
          4.624715049909886,
          -2.444984005666911,
          4.674396104820869,
          4.650657277587123,
          -3.468836206543775,
          -4.300976153955339
         ]
        }
       ],
       "layout": {
        "coloraxis": {
         "colorbar": {
          "title": {
           "text": "label"
          }
         },
         "colorscale": [
          [
           0,
           "#0d0887"
          ],
          [
           0.1111111111111111,
           "#46039f"
          ],
          [
           0.2222222222222222,
           "#7201a8"
          ],
          [
           0.3333333333333333,
           "#9c179e"
          ],
          [
           0.4444444444444444,
           "#bd3786"
          ],
          [
           0.5555555555555556,
           "#d8576b"
          ],
          [
           0.6666666666666666,
           "#ed7953"
          ],
          [
           0.7777777777777778,
           "#fb9f3a"
          ],
          [
           0.8888888888888888,
           "#fdca26"
          ],
          [
           1,
           "#f0f921"
          ]
         ]
        },
        "legend": {
         "tracegroupgap": 0
        },
        "margin": {
         "t": 60
        },
        "scene": {
         "domain": {
          "x": [
           0,
           1
          ],
          "y": [
           0,
           1
          ]
         },
         "xaxis": {
          "title": {
           "text": "col1"
          }
         },
         "yaxis": {
          "title": {
           "text": "col2"
          }
         },
         "zaxis": {
          "title": {
           "text": "col3"
          }
         }
        },
        "template": {
         "data": {
          "bar": [
           {
            "error_x": {
             "color": "#2a3f5f"
            },
            "error_y": {
             "color": "#2a3f5f"
            },
            "marker": {
             "line": {
              "color": "#E5ECF6",
              "width": 0.5
             },
             "pattern": {
              "fillmode": "overlay",
              "size": 10,
              "solidity": 0.2
             }
            },
            "type": "bar"
           }
          ],
          "barpolar": [
           {
            "marker": {
             "line": {
              "color": "#E5ECF6",
              "width": 0.5
             },
             "pattern": {
              "fillmode": "overlay",
              "size": 10,
              "solidity": 0.2
             }
            },
            "type": "barpolar"
           }
          ],
          "carpet": [
           {
            "aaxis": {
             "endlinecolor": "#2a3f5f",
             "gridcolor": "white",
             "linecolor": "white",
             "minorgridcolor": "white",
             "startlinecolor": "#2a3f5f"
            },
            "baxis": {
             "endlinecolor": "#2a3f5f",
             "gridcolor": "white",
             "linecolor": "white",
             "minorgridcolor": "white",
             "startlinecolor": "#2a3f5f"
            },
            "type": "carpet"
           }
          ],
          "choropleth": [
           {
            "colorbar": {
             "outlinewidth": 0,
             "ticks": ""
            },
            "type": "choropleth"
           }
          ],
          "contour": [
           {
            "colorbar": {
             "outlinewidth": 0,
             "ticks": ""
            },
            "colorscale": [
             [
              0,
              "#0d0887"
             ],
             [
              0.1111111111111111,
              "#46039f"
             ],
             [
              0.2222222222222222,
              "#7201a8"
             ],
             [
              0.3333333333333333,
              "#9c179e"
             ],
             [
              0.4444444444444444,
              "#bd3786"
             ],
             [
              0.5555555555555556,
              "#d8576b"
             ],
             [
              0.6666666666666666,
              "#ed7953"
             ],
             [
              0.7777777777777778,
              "#fb9f3a"
             ],
             [
              0.8888888888888888,
              "#fdca26"
             ],
             [
              1,
              "#f0f921"
             ]
            ],
            "type": "contour"
           }
          ],
          "contourcarpet": [
           {
            "colorbar": {
             "outlinewidth": 0,
             "ticks": ""
            },
            "type": "contourcarpet"
           }
          ],
          "heatmap": [
           {
            "colorbar": {
             "outlinewidth": 0,
             "ticks": ""
            },
            "colorscale": [
             [
              0,
              "#0d0887"
             ],
             [
              0.1111111111111111,
              "#46039f"
             ],
             [
              0.2222222222222222,
              "#7201a8"
             ],
             [
              0.3333333333333333,
              "#9c179e"
             ],
             [
              0.4444444444444444,
              "#bd3786"
             ],
             [
              0.5555555555555556,
              "#d8576b"
             ],
             [
              0.6666666666666666,
              "#ed7953"
             ],
             [
              0.7777777777777778,
              "#fb9f3a"
             ],
             [
              0.8888888888888888,
              "#fdca26"
             ],
             [
              1,
              "#f0f921"
             ]
            ],
            "type": "heatmap"
           }
          ],
          "heatmapgl": [
           {
            "colorbar": {
             "outlinewidth": 0,
             "ticks": ""
            },
            "colorscale": [
             [
              0,
              "#0d0887"
             ],
             [
              0.1111111111111111,
              "#46039f"
             ],
             [
              0.2222222222222222,
              "#7201a8"
             ],
             [
              0.3333333333333333,
              "#9c179e"
             ],
             [
              0.4444444444444444,
              "#bd3786"
             ],
             [
              0.5555555555555556,
              "#d8576b"
             ],
             [
              0.6666666666666666,
              "#ed7953"
             ],
             [
              0.7777777777777778,
              "#fb9f3a"
             ],
             [
              0.8888888888888888,
              "#fdca26"
             ],
             [
              1,
              "#f0f921"
             ]
            ],
            "type": "heatmapgl"
           }
          ],
          "histogram": [
           {
            "marker": {
             "pattern": {
              "fillmode": "overlay",
              "size": 10,
              "solidity": 0.2
             }
            },
            "type": "histogram"
           }
          ],
          "histogram2d": [
           {
            "colorbar": {
             "outlinewidth": 0,
             "ticks": ""
            },
            "colorscale": [
             [
              0,
              "#0d0887"
             ],
             [
              0.1111111111111111,
              "#46039f"
             ],
             [
              0.2222222222222222,
              "#7201a8"
             ],
             [
              0.3333333333333333,
              "#9c179e"
             ],
             [
              0.4444444444444444,
              "#bd3786"
             ],
             [
              0.5555555555555556,
              "#d8576b"
             ],
             [
              0.6666666666666666,
              "#ed7953"
             ],
             [
              0.7777777777777778,
              "#fb9f3a"
             ],
             [
              0.8888888888888888,
              "#fdca26"
             ],
             [
              1,
              "#f0f921"
             ]
            ],
            "type": "histogram2d"
           }
          ],
          "histogram2dcontour": [
           {
            "colorbar": {
             "outlinewidth": 0,
             "ticks": ""
            },
            "colorscale": [
             [
              0,
              "#0d0887"
             ],
             [
              0.1111111111111111,
              "#46039f"
             ],
             [
              0.2222222222222222,
              "#7201a8"
             ],
             [
              0.3333333333333333,
              "#9c179e"
             ],
             [
              0.4444444444444444,
              "#bd3786"
             ],
             [
              0.5555555555555556,
              "#d8576b"
             ],
             [
              0.6666666666666666,
              "#ed7953"
             ],
             [
              0.7777777777777778,
              "#fb9f3a"
             ],
             [
              0.8888888888888888,
              "#fdca26"
             ],
             [
              1,
              "#f0f921"
             ]
            ],
            "type": "histogram2dcontour"
           }
          ],
          "mesh3d": [
           {
            "colorbar": {
             "outlinewidth": 0,
             "ticks": ""
            },
            "type": "mesh3d"
           }
          ],
          "parcoords": [
           {
            "line": {
             "colorbar": {
              "outlinewidth": 0,
              "ticks": ""
             }
            },
            "type": "parcoords"
           }
          ],
          "pie": [
           {
            "automargin": true,
            "type": "pie"
           }
          ],
          "scatter": [
           {
            "marker": {
             "colorbar": {
              "outlinewidth": 0,
              "ticks": ""
             }
            },
            "type": "scatter"
           }
          ],
          "scatter3d": [
           {
            "line": {
             "colorbar": {
              "outlinewidth": 0,
              "ticks": ""
             }
            },
            "marker": {
             "colorbar": {
              "outlinewidth": 0,
              "ticks": ""
             }
            },
            "type": "scatter3d"
           }
          ],
          "scattercarpet": [
           {
            "marker": {
             "colorbar": {
              "outlinewidth": 0,
              "ticks": ""
             }
            },
            "type": "scattercarpet"
           }
          ],
          "scattergeo": [
           {
            "marker": {
             "colorbar": {
              "outlinewidth": 0,
              "ticks": ""
             }
            },
            "type": "scattergeo"
           }
          ],
          "scattergl": [
           {
            "marker": {
             "colorbar": {
              "outlinewidth": 0,
              "ticks": ""
             }
            },
            "type": "scattergl"
           }
          ],
          "scattermapbox": [
           {
            "marker": {
             "colorbar": {
              "outlinewidth": 0,
              "ticks": ""
             }
            },
            "type": "scattermapbox"
           }
          ],
          "scatterpolar": [
           {
            "marker": {
             "colorbar": {
              "outlinewidth": 0,
              "ticks": ""
             }
            },
            "type": "scatterpolar"
           }
          ],
          "scatterpolargl": [
           {
            "marker": {
             "colorbar": {
              "outlinewidth": 0,
              "ticks": ""
             }
            },
            "type": "scatterpolargl"
           }
          ],
          "scatterternary": [
           {
            "marker": {
             "colorbar": {
              "outlinewidth": 0,
              "ticks": ""
             }
            },
            "type": "scatterternary"
           }
          ],
          "surface": [
           {
            "colorbar": {
             "outlinewidth": 0,
             "ticks": ""
            },
            "colorscale": [
             [
              0,
              "#0d0887"
             ],
             [
              0.1111111111111111,
              "#46039f"
             ],
             [
              0.2222222222222222,
              "#7201a8"
             ],
             [
              0.3333333333333333,
              "#9c179e"
             ],
             [
              0.4444444444444444,
              "#bd3786"
             ],
             [
              0.5555555555555556,
              "#d8576b"
             ],
             [
              0.6666666666666666,
              "#ed7953"
             ],
             [
              0.7777777777777778,
              "#fb9f3a"
             ],
             [
              0.8888888888888888,
              "#fdca26"
             ],
             [
              1,
              "#f0f921"
             ]
            ],
            "type": "surface"
           }
          ],
          "table": [
           {
            "cells": {
             "fill": {
              "color": "#EBF0F8"
             },
             "line": {
              "color": "white"
             }
            },
            "header": {
             "fill": {
              "color": "#C8D4E3"
             },
             "line": {
              "color": "white"
             }
            },
            "type": "table"
           }
          ]
         },
         "layout": {
          "annotationdefaults": {
           "arrowcolor": "#2a3f5f",
           "arrowhead": 0,
           "arrowwidth": 1
          },
          "autotypenumbers": "strict",
          "coloraxis": {
           "colorbar": {
            "outlinewidth": 0,
            "ticks": ""
           }
          },
          "colorscale": {
           "diverging": [
            [
             0,
             "#8e0152"
            ],
            [
             0.1,
             "#c51b7d"
            ],
            [
             0.2,
             "#de77ae"
            ],
            [
             0.3,
             "#f1b6da"
            ],
            [
             0.4,
             "#fde0ef"
            ],
            [
             0.5,
             "#f7f7f7"
            ],
            [
             0.6,
             "#e6f5d0"
            ],
            [
             0.7,
             "#b8e186"
            ],
            [
             0.8,
             "#7fbc41"
            ],
            [
             0.9,
             "#4d9221"
            ],
            [
             1,
             "#276419"
            ]
           ],
           "sequential": [
            [
             0,
             "#0d0887"
            ],
            [
             0.1111111111111111,
             "#46039f"
            ],
            [
             0.2222222222222222,
             "#7201a8"
            ],
            [
             0.3333333333333333,
             "#9c179e"
            ],
            [
             0.4444444444444444,
             "#bd3786"
            ],
            [
             0.5555555555555556,
             "#d8576b"
            ],
            [
             0.6666666666666666,
             "#ed7953"
            ],
            [
             0.7777777777777778,
             "#fb9f3a"
            ],
            [
             0.8888888888888888,
             "#fdca26"
            ],
            [
             1,
             "#f0f921"
            ]
           ],
           "sequentialminus": [
            [
             0,
             "#0d0887"
            ],
            [
             0.1111111111111111,
             "#46039f"
            ],
            [
             0.2222222222222222,
             "#7201a8"
            ],
            [
             0.3333333333333333,
             "#9c179e"
            ],
            [
             0.4444444444444444,
             "#bd3786"
            ],
            [
             0.5555555555555556,
             "#d8576b"
            ],
            [
             0.6666666666666666,
             "#ed7953"
            ],
            [
             0.7777777777777778,
             "#fb9f3a"
            ],
            [
             0.8888888888888888,
             "#fdca26"
            ],
            [
             1,
             "#f0f921"
            ]
           ]
          },
          "colorway": [
           "#636efa",
           "#EF553B",
           "#00cc96",
           "#ab63fa",
           "#FFA15A",
           "#19d3f3",
           "#FF6692",
           "#B6E880",
           "#FF97FF",
           "#FECB52"
          ],
          "font": {
           "color": "#2a3f5f"
          },
          "geo": {
           "bgcolor": "white",
           "lakecolor": "white",
           "landcolor": "#E5ECF6",
           "showlakes": true,
           "showland": true,
           "subunitcolor": "white"
          },
          "hoverlabel": {
           "align": "left"
          },
          "hovermode": "closest",
          "mapbox": {
           "style": "light"
          },
          "paper_bgcolor": "white",
          "plot_bgcolor": "#E5ECF6",
          "polar": {
           "angularaxis": {
            "gridcolor": "white",
            "linecolor": "white",
            "ticks": ""
           },
           "bgcolor": "#E5ECF6",
           "radialaxis": {
            "gridcolor": "white",
            "linecolor": "white",
            "ticks": ""
           }
          },
          "scene": {
           "xaxis": {
            "backgroundcolor": "#E5ECF6",
            "gridcolor": "white",
            "gridwidth": 2,
            "linecolor": "white",
            "showbackground": true,
            "ticks": "",
            "zerolinecolor": "white"
           },
           "yaxis": {
            "backgroundcolor": "#E5ECF6",
            "gridcolor": "white",
            "gridwidth": 2,
            "linecolor": "white",
            "showbackground": true,
            "ticks": "",
            "zerolinecolor": "white"
           },
           "zaxis": {
            "backgroundcolor": "#E5ECF6",
            "gridcolor": "white",
            "gridwidth": 2,
            "linecolor": "white",
            "showbackground": true,
            "ticks": "",
            "zerolinecolor": "white"
           }
          },
          "shapedefaults": {
           "line": {
            "color": "#2a3f5f"
           }
          },
          "ternary": {
           "aaxis": {
            "gridcolor": "white",
            "linecolor": "white",
            "ticks": ""
           },
           "baxis": {
            "gridcolor": "white",
            "linecolor": "white",
            "ticks": ""
           },
           "bgcolor": "#E5ECF6",
           "caxis": {
            "gridcolor": "white",
            "linecolor": "white",
            "ticks": ""
           }
          },
          "title": {
           "x": 0.05
          },
          "xaxis": {
           "automargin": true,
           "gridcolor": "white",
           "linecolor": "white",
           "ticks": "",
           "title": {
            "standoff": 15
           },
           "zerolinecolor": "white",
           "zerolinewidth": 2
          },
          "yaxis": {
           "automargin": true,
           "gridcolor": "white",
           "linecolor": "white",
           "ticks": "",
           "title": {
            "standoff": 15
           },
           "zerolinecolor": "white",
           "zerolinewidth": 2
          }
         }
        }
       }
      },
      "text/html": [
       "<div>                            <div id=\"92acb072-5a0d-452f-818a-52ee04bfb6be\" class=\"plotly-graph-div\" style=\"height:525px; width:100%;\"></div>            <script type=\"text/javascript\">                require([\"plotly\"], function(Plotly) {                    window.PLOTLYENV=window.PLOTLYENV || {};                                    if (document.getElementById(\"92acb072-5a0d-452f-818a-52ee04bfb6be\")) {                    Plotly.newPlot(                        \"92acb072-5a0d-452f-818a-52ee04bfb6be\",                        [{\"hovertemplate\":\"col1=%{x}<br>col2=%{y}<br>col3=%{z}<br>label=%{marker.color}<extra></extra>\",\"legendgroup\":\"\",\"marker\":{\"color\":[1,0,0,0,1,1,0,3,1,3,2,2,2,3,2,0,3,3,0,0,1,0,3,0,1,3,3,0,3,1,0,1,2,2,0,0,1,3,2,1,2,0,1,3,3,0,3,0,2,0,1,1,0,3,1,2,1,0,1,1,2,0,0,2,1,2,2,1,2,1,2,2,1,2,1,2,3,2,2,3,3,0,2,2,3,3,2,2,2,0,1,2,3,1,1,3,0,0,0,0,1,2,3,0,2,2,3,0,1,0,0,0,1,1,3,0,2,3,0,0,3,3,2,1,1,2,0,0,3,3,3,2,3,3,1,3,2,1,2,1,1,1,0,3,0,1,1,1,1,2,2,3,3,3,1,0,3,0,2,0,3,1,3,3,2,1,1,0,3,2,1,2,3,2,0,0,2,3,0,1,1,0,3,3,2,2,0,2,3,0,0,1,3,2,0,0,2,3,3,0,1,3,2,0,3,3,2,3,1,1,3,1,2,3,1,2,1,2,3,1,1,0,3,2,3,1,1,1,2,3,0,2,2,2,0,2,3,0,3,2,2,3,1,0,1,2,0,0,2,0,1,1,2,2,0,1,2,1,3,3,0,0,0,3,2,1,1,2,1,0,3,2,3,3,0,3,3,1,3,2,2,1,3,3,0,0,1,0,2,0,2,1,1,3,1,0,2,1,0,0],\"coloraxis\":\"coloraxis\",\"symbol\":\"circle\"},\"mode\":\"markers\",\"name\":\"\",\"scene\":\"scene\",\"showlegend\":false,\"x\":[-4.470534675647291,-4.5768020219235535,-2.349983721272196,-1.481447525232118,-4.801700279873231,-4.751200838612229,-3.970237089021313,5.836004719434269,-3.2551882357835202,5.324274243448421,4.385825798965907,2.5815599616999743,4.532983778949751,5.134048196554623,2.335992028838798,-2.391969182687655,3.5734445794794683,5.824584625033458,-3.958324460393154,-2.2594944478526378,-4.437238903380973,-2.6920036966310446,4.4425052782139565,-4.38141086716606,-4.098513108351289,5.367231813883865,4.570857721764906,-3.5148036908586713,5.78477065101559,-5.638730407454222,-2.6505043256504517,-5.0246169558757785,4.5449944096738975,3.3812288278969107,-0.5802077135719121,-2.9389976636662776,-5.636995646569353,5.429526140021965,3.8166588951566545,-5.326499498078184,3.1465900171329855,-4.804907937770138,-4.068897918696443,7.0563555231982935,3.8835299821152556,-1.3474008649893963,4.119422400155829,-3.4268719392086244,3.540371431022839,-1.8725629172468894,-5.623530729679792,-6.396496335488138,-3.434181843147949,5.013352676347177,-4.839962930552169,4.601000202668482,-5.101745872529145,-1.6925440829947298,-5.754397940996653,-3.8683706125485733,4.233023231719079,-3.306178211953457,0.8210787561703645,4.513822466971705,-4.62243621367908,3.5896864073225903,4.607175450949063,-4.376637823421968,4.403999174003527,-4.957786253284407,4.285226919634688,4.9707398566913685,-6.117310348635278,3.8724568515114424,-4.956331006821611,5.193809113288081,4.274402880865573,2.3865638970270098,2.6911528035278716,7.065783320218834,4.943175519114153,-1.8934515995867052,2.981854447601245,2.4270357212883553,3.4743196837706423,6.399843942480986,4.370969802532242,4.136583409414631,2.629991776809148,-2.4959991580246244,-5.136444743896033,2.906656245757581,5.6210827008390085,-5.747158293750838,-2.8093002710302666,4.893206013220775,-2.4740000058143417,-1.8852737241725515,-1.8221924288801885,-1.4665491967357627,-4.8798410475183704,2.6713720211435943,3.1268390223646985,-4.6444440467284505,3.472470613732022,4.213049050303269,5.008548945436025,-2.576679362705732,-5.174703159742501,-2.622154015111683,-3.7295742535464287,-1.0041152341155244,-5.935769434259068,-5.266218506003622,4.771234171129837,-1.7685974828749345,2.3450173650706354,5.211124755007717,-3.4509092510507697,-2.1803430580554064,5.035360097054757,2.5864969988262123,3.190878681358138,-4.649454021335893,-3.095341291659019,3.53494358936374,-1.0823259870006396,-0.07112303047702095,5.617985533920335,4.299601495078745,4.334245481800873,2.9910277221771384,5.201830178874004,5.352494364369333,-5.200758068929997,5.262467445463269,4.316043684324061,-6.0729686221561705,3.211002656990184,-7.022201215824003,-4.301967965927781,-4.5965083582092,-2.3144643790334447,7.449368649061397,-2.7604660588653798,-4.175994381549592,-5.343853675571076,-3.706774117467738,-6.615772354703295,4.174570706956004,3.2712458287797874,4.879535428211493,5.564382855494314,5.840861558141103,-6.331951666517249,-2.530911417604136,5.920017933247763,-1.9281951211350101,4.486352180212064,-2.328042867832409,4.668716830067372,-6.230058135666962,3.3159400141317628,4.8097789749151385,2.677532811095748,-4.6848406079577085,-4.769905264635616,-2.3656268839602457,5.853281221955623,3.9102657453968446,-5.31011677351806,3.3602882695589273,3.6942730774422623,3.040057169159313,-2.718733458967709,-2.517817549053939,5.353009485069379,5.438166347291237,-3.0691486535119705,-4.099144050735588,-4.136654682455978,-1.9946180972470824,3.55912397570816,5.477610181817557,3.2171364483651557,3.0851530987117646,-2.9599301044345814,3.39160793282646,5.451615950555242,-1.638376898658796,-2.8645380497066375,-6.272558755245994,3.955410618092208,3.6073432938235896,-3.0632366041174564,-3.022356465135695,3.170948450658919,5.515073613639366,3.603379575404568,-1.7218258209004336,-4.189048327196444,6.1926860677546935,3.0755072094290727,-1.7744494819212668,4.250030382724334,3.244074359767148,4.511207063774909,4.557770720486827,-4.830617566941332,-3.0328982507452653,4.91549197259537,-5.287307863476019,3.2241539374388566,5.086464406524287,-5.322417204013507,3.092747956980034,-5.691660751725309,3.081062102321877,4.52084290121392,-2.8130203530257423,-4.381619738001476,-2.4820441083491738,5.095425087191257,3.3980679607364,4.5017864363689215,-5.2980928351027154,-4.257955839422665,-4.198138968128656,2.402845639744638,2.885836078083174,-2.8626120875772587,2.693815182617776,3.641640537665805,2.9061569327454904,-1.4507817092474322,3.8511168965109652,5.618539130786293,-2.559367902548499,6.388779396370269,1.6760801473748062,3.39353987844446,2.962798774319205,-6.099891267314031,-4.052698783176836,-5.208894233374778,2.0976708545468634,-1.4902126650524414,-0.9634636719789014,3.2410171465994675,-1.4396724908431926,-5.073112703747277,-3.3723492468510936,2.3922874977154476,4.015413801783241,-2.5359901817271915,-3.4411944593801405,3.628376990155944,-5.890555584163049,6.115841107924169,7.110605053600709,-3.4960108890883994,-3.3300109855676734,-3.590338332454815,5.884908814464883,2.520109748338199,-3.3756546363367583,-5.84520564149872,2.4192893075544935,-6.122018728746888,-1.7195300702416256,4.950297420841324,4.697830841721251,4.8245410313382475,5.808844360265682,-1.4787518739010987,4.20273021450687,5.461164099977017,-6.627438340616258,4.298655573742823,1.8625504069916583,3.557120996082092,-4.870898420289275,2.20691499985346,4.4001954689291525,-2.074079823497184,-2.4050038899308386,-3.855276290160386,-5.198361741666047,2.5845756317682937,-2.592432318541586,2.7776080945858492,-5.24937037547741,-5.586523938821593,6.000881423680301,-3.801082120098493,-0.6485621054264903,2.9677659791018227,-5.352249846493518,-2.639351805450921,-2.2119218329948493],\"y\":[-4.862298790002614,3.447501167345676,2.9635343217316654,3.7305581999547246,-4.880991354192541,-5.296641152370863,3.106403944303837,6.5433591108044835,-5.761206900895103,5.0218628366265525,-2.310138350616904,-2.605344712507542,-2.7224140285299088,6.202054862199706,-1.8066337743396155,2.529417618970766,6.767959948311026,5.654580152586701,2.9943416509823786,1.5005734986418204,-4.759262907762268,-0.5537643804263048,5.939168744196488,2.9972690986459773,-2.471674293193602,6.232899192376237,6.2084563285519625,2.93598619629641,4.044574737626311,-4.576505645935887,3.4154992680625726,-5.775161619169159,-1.8914853015151505,-2.6989981838037242,1.1083061239459664,3.09003946416083,-4.809084515332534,4.393001601799954,-4.3952669474764665,-6.342675789377436,-4.287912891199715,2.4681828273012085,-4.714412674745741,6.760249226449093,5.080927100973279,2.2757642278765013,4.72090227845671,2.3175795936369026,-2.656993672493318,3.2513372351604843,-4.479423662926629,-6.4441138054295894,3.042645294566316,4.305306404712773,-4.123831078883775,-1.7199728646613706,-4.131113842994132,2.812238689013,-3.747131844766712,-3.480183183577801,-4.398812059319295,2.549061692373103,1.8997746696226852,-4.727112631850014,-4.878178729008563,-3.1011568006493837,-1.0571230715036908,-5.434956682955228,-0.9245320914276192,-4.417184786284178,-3.1648677669672134,-2.162779061691541,-4.765584302182908,-2.6484898030593937,-5.226314242513605,-2.3031302207497086,4.13223132237641,-2.5674100249468546,-1.9425605471419667,3.528843074167375,5.492336555936649,1.762710372240068,-3.961403604722106,-2.0048413887996834,5.795026094424845,4.2180883173131996,-3.0084571342754005,-1.0907466106359918,-2.130809530453126,2.8212659144838317,-5.11905418777481,-1.989692403254744,5.956121704124697,-3.3075453989722536,-6.896360922891093,6.451429260590936,1.1513035532027578,2.1510158090844476,1.3934269326081148,2.353726725388646,-4.382796890292581,-1.971120254414826,5.920615118054956,2.1304375746625666,-0.7535649107720275,-1.1937939348645514,4.831801160255284,3.0729627259567565,-4.013664812178758,1.8191484259826827,3.608616757989675,3.175453809204212,-5.267888079626016,-4.967385453306641,6.613361374563116,3.4544956665476874,-2.677632195983551,5.016527567305616,1.7956496684765413,2.8181541996786894,3.4612067542553566,3.2224336241940126,-1.9890622255079107,-6.3122834112374315,-3.8889433014394954,-1.0460824183911825,2.5503170861471354,3.505686680311216,4.815823674346254,4.796605551035442,3.325804192381068,-2.6664859548859594,5.661020287598693,4.763563048187013,-4.813438609011715,5.276499304822184,-3.1124069731288238,-4.134592370675321,-2.8918162398080485,-5.306204012628372,-5.447128564785999,-4.406421476762933,2.8944280300121124,4.454225832017432,2.945096710344572,-5.56230543101909,-4.956403143165753,-5.110447026417316,-3.878582291764336,-1.039107619536922,-2.679612294651358,3.766879264553573,7.137828067439482,4.897112782426462,-6.760688560398783,2.8557172615760167,4.804942659124099,2.4631823434829725,-2.966154856825928,2.990561043809639,5.386539145133091,-4.449462504023785,3.839829895017724,4.551261967328378,-1.7782887078873073,-4.153839352414966,-4.237988819687975,2.231628695879423,4.586970690288968,-1.6401290282030878,-7.434837764107138,-1.1136857357536811,4.655012789845021,-1.8556463339696778,4.039207009655063,1.899861200764387,-2.3577486274736823,6.1223283216570925,1.438203238689152,-5.683727859174333,-5.1809203020781505,3.7179409008013473,6.2322530708284365,3.9781140553586907,-2.76632688431872,-2.048053962678777,1.7092000462248322,-2.049844487232821,6.104174326303213,0.41360943454347376,2.040282318961932,-4.686452279536568,7.051173442857444,-3.8988128186664763,4.890145962333511,2.1307440981710317,-1.1528945353295024,2.2174655323470773,4.138683639223958,2.8098167586074885,-3.955557905292741,4.762058064247817,-3.2315309817303333,2.1757957805147887,7.054624102518115,5.714789597485815,-3.9765626605201803,5.323527353601432,-4.259443548903725,-6.857981864446752,4.702638117226496,-4.319930160121896,-1.2710444143493027,2.8575332709226315,-5.384054354668415,-1.515048328280789,-5.396753526855977,-2.979184915127406,5.350167158828279,-4.558635556431418,-4.767505440821262,1.2295392236145204,5.921450068659511,-1.7566434564861377,4.689015021697149,-4.511481853462503,-5.191835552361615,-4.953432701575855,-1.6613652527716227,4.588360836811518,1.0148435486745457,-2.7516742076314245,-5.016303860965749,-2.8439007092103923,3.4662208625783415,-2.5687704630786383,4.556828069299362,3.948989404158236,4.338655756846982,-1.332924834000036,-5.290996406693846,3.0574108185235445,-5.1724282075504355,3.078464420256242,-4.4133768088178025,-2.0488770612654013,0.9430584421349686,2.4996249912416437,-2.3107068024413424,0.7888323403755073,-3.83966143000623,-4.661988303425524,-2.517718317910142,-3.614871052365937,3.537038981773908,-4.890597303574572,-0.7395848164246777,-6.119115398559728,5.310272287783767,3.6934659271559815,1.3041384896755182,1.4804801505942837,4.200188146645526,4.122718481081812,-1.8074256524606442,-5.611756413650076,-5.671246130836819,-1.7745259955184642,-5.517094457920228,1.0359464264194083,5.466643267228841,-0.7954058286275931,4.066085344373499,6.789754683206271,3.024750492296824,5.2826757122484205,3.8240173285586847,-4.397680719704371,4.462776976124662,1.4586027040379634,-3.2995474906917597,-3.3830504011427,6.93752881361608,6.1234121620219355,2.5490803971416303,2.58075098862302,-4.098409279407204,1.2866618741712954,-1.2748441507267692,2.2621247345431676,-1.4010036672528208,-3.537892062955026,-6.236853376541397,4.61516775116721,-4.8148435825160565,2.709096676575521,-1.3818666032823044,-6.14251819802214,1.7714625105752986,3.998108183577034],\"z\":[5.077821127912706,-4.503973949142318,-3.6021195751181487,-5.181103172771823,4.329337713710969,5.49521132397796,-1.7062823876428221,-4.241194339902069,5.319039096057098,-5.468673816277891,4.798063795298943,4.630195670684911,5.47016034382574,-4.715251889150942,3.2419326714437675,-4.134793129295724,-5.475372875137982,-5.0511884476076645,-5.494193765274685,-3.6014016118385626,5.280665077122639,-3.520147628846183,-6.943323405668353,-3.7626673006604032,4.75136522228454,-5.422856961390775,-3.8842981972155135,-4.687487393060175,-4.414089568897384,5.077340068348559,-4.438200267338669,6.273755930158776,3.9306713033095173,5.866471375152125,-3.5497822579621543,-4.679383782997235,7.100255136478842,-4.893777275964783,4.0897291174446515,6.114382976779792,4.361847315839568,-3.8875122575858043,5.885141164270728,-5.0606524917748095,-5.186578993511466,-4.3260613057601365,-3.377150914045999,-4.491125137790818,2.6647972769848085,-3.85960456355265,3.8556586103768575,4.495534137053549,-5.95816908559901,-4.378196495694428,5.315634947241605,3.3705583959462198,5.750411639865008,-4.193321640474004,5.512929820418009,7.185575406533161,2.8828893075608875,-4.596086334587662,-4.3795175155338795,2.3006663952777044,6.129483907911919,4.556073510077385,3.4603184377975076,6.407540000241228,5.206607898035568,3.8993808227870788,2.054953041387961,5.008065433075763,6.659802177109871,3.816599802679976,6.331457112587592,4.169869255347572,-5.13597732610059,5.161439981674394,4.1810387443578705,-5.830171895315114,-5.680678141008886,-3.835334934150793,3.483652091353978,3.047937899293741,-5.374438318843221,-5.4375089828285805,4.777419205248862,5.620912285621747,4.853282185823733,-4.725214925745366,5.017409408300004,3.084208150931321,-5.705840507402284,5.050807754776029,4.353083311745092,-5.618036847681579,-2.69746446351382,-4.977773001532967,-4.359224095710739,-4.857496824739772,5.300170319955828,1.7629134888875293,-5.035367924878711,-4.017454951836178,3.2249297129265653,3.395397030835624,-5.174180344307991,-3.5420529236902585,5.213533901335442,-5.067876576486555,-4.702920402910169,-3.4007867645407415,5.530355466738186,3.626882679753244,-5.374804687302653,-3.9042532288898655,2.4895436249124314,-4.822812279724039,-4.045866686069767,-4.019231634097637,-5.447895184716119,-5.777858826627413,5.710661838671135,4.961304490733949,5.65904979610021,4.661681076465983,-3.349676785747654,-3.646432783997371,-5.115985185472396,-4.7573305589182056,-4.174970175561014,5.423614429348987,-3.207841791024433,-4.272186500000351,5.410051647208256,-5.733271603895313,4.393109244853983,2.6984613031197173,4.684001328181953,5.827974642607246,6.224507704805498,3.905088154258958,-3.2744774417464413,-5.1988378628888965,-3.901887753778009,6.954878075009034,4.379999156051871,4.382637936287639,5.408900537936828,4.5924728014240195,4.501725109345165,-6.182318126509633,-5.785533996920235,-3.8530996236005173,3.3492787341758996,-3.150413154905178,-4.194606575767819,-3.887631511207781,5.384991343648639,-5.395283025065327,-5.851455656530827,5.7928068659193475,-3.649893181318274,-5.672448038786596,3.374657998534012,4.140484059168013,4.777671857389641,-4.131675626287018,-3.1652823733503133,3.101316806681354,6.038824601859414,4.548129584688193,-5.230839743135469,4.371670291211865,-5.148704229636946,-3.8532347366131106,4.513505479988547,-5.997019795529683,-3.8677522210802153,4.877109774481352,4.396079372206743,-5.940680964364893,-5.254179867607368,-4.205471760398917,5.068971622201262,2.4208437146055344,-2.7762777880398906,5.765335100519072,-5.281736269065613,-3.6381983594289533,-2.294516482244558,5.503184813435326,-4.414337999827618,4.081767818805616,-3.7545771508108805,-3.734357597485715,2.950932254831384,-4.415353389522574,-4.3252884743120275,-2.9486792321512487,4.599121808211073,-3.8447121139117746,2.434261849344095,-3.1856568708510746,-4.946590463201652,-4.147295938274714,3.8568042549927624,-5.1099914901636065,4.046299398192065,6.23616403045282,-4.582697995025137,4.680198401101329,5.309705905682653,-5.830168864022708,6.133769442335438,5.071252427845891,4.312827299880401,2.0478947127547675,-4.982835273625912,4.8998447667165,5.682551406864485,-3.7170044661889983,-4.939249804200493,2.490427315775957,-5.001891482838004,4.924428286978944,4.112371035915164,4.813430228092651,2.960817677965097,-3.7214719171582784,-4.592461285153269,4.382715173724364,3.40433211908971,2.9998308101274844,-3.2740831474791787,2.6522350587463364,-3.1894650858745437,-4.477580854656721,-1.9691428876279695,3.9603312999095177,3.543882444851315,-7.506440652676061,4.122141582078628,-4.96126359903051,5.838983413874505,3.305079098814761,-4.612442128284345,-2.7064503793366916,3.4362112654176973,-2.3428753619570744,5.369492716375723,3.800731967664814,2.280605525380477,3.2326901736682654,-3.327380251878521,3.7802556030209673,4.966539250229057,6.9560789037036415,-7.094247816222812,-4.923619519840408,-1.4940197146813272,-4.2146538422260225,-3.391216341091891,-5.867787222872925,3.5213276435843386,4.4718282477365445,4.987335401081099,3.960821743790503,4.002973172349737,-4.154491193810529,-3.966313132060499,5.040089153154096,-5.5330203260836,-4.548715983959829,-4.477124206469332,-5.82609743184732,-3.9898728226652755,5.4202822036470595,-4.843736149729917,4.648643644090667,3.7084054044991674,5.502740881999904,-4.633667985459942,-4.6947329597559895,-2.897763267414658,-4.76780374602456,5.502494338901868,-3.9277481008441155,2.946453926299685,-4.755662765101965,3.098365509524002,2.939859290502346,5.8758389276492995,-3.54189176139048,4.624715049909886,-2.444984005666911,4.674396104820869,4.650657277587123,-3.468836206543775,-4.300976153955339],\"type\":\"scatter3d\"}],                        {\"template\":{\"data\":{\"bar\":[{\"error_x\":{\"color\":\"#2a3f5f\"},\"error_y\":{\"color\":\"#2a3f5f\"},\"marker\":{\"line\":{\"color\":\"#E5ECF6\",\"width\":0.5},\"pattern\":{\"fillmode\":\"overlay\",\"size\":10,\"solidity\":0.2}},\"type\":\"bar\"}],\"barpolar\":[{\"marker\":{\"line\":{\"color\":\"#E5ECF6\",\"width\":0.5},\"pattern\":{\"fillmode\":\"overlay\",\"size\":10,\"solidity\":0.2}},\"type\":\"barpolar\"}],\"carpet\":[{\"aaxis\":{\"endlinecolor\":\"#2a3f5f\",\"gridcolor\":\"white\",\"linecolor\":\"white\",\"minorgridcolor\":\"white\",\"startlinecolor\":\"#2a3f5f\"},\"baxis\":{\"endlinecolor\":\"#2a3f5f\",\"gridcolor\":\"white\",\"linecolor\":\"white\",\"minorgridcolor\":\"white\",\"startlinecolor\":\"#2a3f5f\"},\"type\":\"carpet\"}],\"choropleth\":[{\"colorbar\":{\"outlinewidth\":0,\"ticks\":\"\"},\"type\":\"choropleth\"}],\"contour\":[{\"colorbar\":{\"outlinewidth\":0,\"ticks\":\"\"},\"colorscale\":[[0.0,\"#0d0887\"],[0.1111111111111111,\"#46039f\"],[0.2222222222222222,\"#7201a8\"],[0.3333333333333333,\"#9c179e\"],[0.4444444444444444,\"#bd3786\"],[0.5555555555555556,\"#d8576b\"],[0.6666666666666666,\"#ed7953\"],[0.7777777777777778,\"#fb9f3a\"],[0.8888888888888888,\"#fdca26\"],[1.0,\"#f0f921\"]],\"type\":\"contour\"}],\"contourcarpet\":[{\"colorbar\":{\"outlinewidth\":0,\"ticks\":\"\"},\"type\":\"contourcarpet\"}],\"heatmap\":[{\"colorbar\":{\"outlinewidth\":0,\"ticks\":\"\"},\"colorscale\":[[0.0,\"#0d0887\"],[0.1111111111111111,\"#46039f\"],[0.2222222222222222,\"#7201a8\"],[0.3333333333333333,\"#9c179e\"],[0.4444444444444444,\"#bd3786\"],[0.5555555555555556,\"#d8576b\"],[0.6666666666666666,\"#ed7953\"],[0.7777777777777778,\"#fb9f3a\"],[0.8888888888888888,\"#fdca26\"],[1.0,\"#f0f921\"]],\"type\":\"heatmap\"}],\"heatmapgl\":[{\"colorbar\":{\"outlinewidth\":0,\"ticks\":\"\"},\"colorscale\":[[0.0,\"#0d0887\"],[0.1111111111111111,\"#46039f\"],[0.2222222222222222,\"#7201a8\"],[0.3333333333333333,\"#9c179e\"],[0.4444444444444444,\"#bd3786\"],[0.5555555555555556,\"#d8576b\"],[0.6666666666666666,\"#ed7953\"],[0.7777777777777778,\"#fb9f3a\"],[0.8888888888888888,\"#fdca26\"],[1.0,\"#f0f921\"]],\"type\":\"heatmapgl\"}],\"histogram\":[{\"marker\":{\"pattern\":{\"fillmode\":\"overlay\",\"size\":10,\"solidity\":0.2}},\"type\":\"histogram\"}],\"histogram2d\":[{\"colorbar\":{\"outlinewidth\":0,\"ticks\":\"\"},\"colorscale\":[[0.0,\"#0d0887\"],[0.1111111111111111,\"#46039f\"],[0.2222222222222222,\"#7201a8\"],[0.3333333333333333,\"#9c179e\"],[0.4444444444444444,\"#bd3786\"],[0.5555555555555556,\"#d8576b\"],[0.6666666666666666,\"#ed7953\"],[0.7777777777777778,\"#fb9f3a\"],[0.8888888888888888,\"#fdca26\"],[1.0,\"#f0f921\"]],\"type\":\"histogram2d\"}],\"histogram2dcontour\":[{\"colorbar\":{\"outlinewidth\":0,\"ticks\":\"\"},\"colorscale\":[[0.0,\"#0d0887\"],[0.1111111111111111,\"#46039f\"],[0.2222222222222222,\"#7201a8\"],[0.3333333333333333,\"#9c179e\"],[0.4444444444444444,\"#bd3786\"],[0.5555555555555556,\"#d8576b\"],[0.6666666666666666,\"#ed7953\"],[0.7777777777777778,\"#fb9f3a\"],[0.8888888888888888,\"#fdca26\"],[1.0,\"#f0f921\"]],\"type\":\"histogram2dcontour\"}],\"mesh3d\":[{\"colorbar\":{\"outlinewidth\":0,\"ticks\":\"\"},\"type\":\"mesh3d\"}],\"parcoords\":[{\"line\":{\"colorbar\":{\"outlinewidth\":0,\"ticks\":\"\"}},\"type\":\"parcoords\"}],\"pie\":[{\"automargin\":true,\"type\":\"pie\"}],\"scatter\":[{\"marker\":{\"colorbar\":{\"outlinewidth\":0,\"ticks\":\"\"}},\"type\":\"scatter\"}],\"scatter3d\":[{\"line\":{\"colorbar\":{\"outlinewidth\":0,\"ticks\":\"\"}},\"marker\":{\"colorbar\":{\"outlinewidth\":0,\"ticks\":\"\"}},\"type\":\"scatter3d\"}],\"scattercarpet\":[{\"marker\":{\"colorbar\":{\"outlinewidth\":0,\"ticks\":\"\"}},\"type\":\"scattercarpet\"}],\"scattergeo\":[{\"marker\":{\"colorbar\":{\"outlinewidth\":0,\"ticks\":\"\"}},\"type\":\"scattergeo\"}],\"scattergl\":[{\"marker\":{\"colorbar\":{\"outlinewidth\":0,\"ticks\":\"\"}},\"type\":\"scattergl\"}],\"scattermapbox\":[{\"marker\":{\"colorbar\":{\"outlinewidth\":0,\"ticks\":\"\"}},\"type\":\"scattermapbox\"}],\"scatterpolar\":[{\"marker\":{\"colorbar\":{\"outlinewidth\":0,\"ticks\":\"\"}},\"type\":\"scatterpolar\"}],\"scatterpolargl\":[{\"marker\":{\"colorbar\":{\"outlinewidth\":0,\"ticks\":\"\"}},\"type\":\"scatterpolargl\"}],\"scatterternary\":[{\"marker\":{\"colorbar\":{\"outlinewidth\":0,\"ticks\":\"\"}},\"type\":\"scatterternary\"}],\"surface\":[{\"colorbar\":{\"outlinewidth\":0,\"ticks\":\"\"},\"colorscale\":[[0.0,\"#0d0887\"],[0.1111111111111111,\"#46039f\"],[0.2222222222222222,\"#7201a8\"],[0.3333333333333333,\"#9c179e\"],[0.4444444444444444,\"#bd3786\"],[0.5555555555555556,\"#d8576b\"],[0.6666666666666666,\"#ed7953\"],[0.7777777777777778,\"#fb9f3a\"],[0.8888888888888888,\"#fdca26\"],[1.0,\"#f0f921\"]],\"type\":\"surface\"}],\"table\":[{\"cells\":{\"fill\":{\"color\":\"#EBF0F8\"},\"line\":{\"color\":\"white\"}},\"header\":{\"fill\":{\"color\":\"#C8D4E3\"},\"line\":{\"color\":\"white\"}},\"type\":\"table\"}]},\"layout\":{\"annotationdefaults\":{\"arrowcolor\":\"#2a3f5f\",\"arrowhead\":0,\"arrowwidth\":1},\"autotypenumbers\":\"strict\",\"coloraxis\":{\"colorbar\":{\"outlinewidth\":0,\"ticks\":\"\"}},\"colorscale\":{\"diverging\":[[0,\"#8e0152\"],[0.1,\"#c51b7d\"],[0.2,\"#de77ae\"],[0.3,\"#f1b6da\"],[0.4,\"#fde0ef\"],[0.5,\"#f7f7f7\"],[0.6,\"#e6f5d0\"],[0.7,\"#b8e186\"],[0.8,\"#7fbc41\"],[0.9,\"#4d9221\"],[1,\"#276419\"]],\"sequential\":[[0.0,\"#0d0887\"],[0.1111111111111111,\"#46039f\"],[0.2222222222222222,\"#7201a8\"],[0.3333333333333333,\"#9c179e\"],[0.4444444444444444,\"#bd3786\"],[0.5555555555555556,\"#d8576b\"],[0.6666666666666666,\"#ed7953\"],[0.7777777777777778,\"#fb9f3a\"],[0.8888888888888888,\"#fdca26\"],[1.0,\"#f0f921\"]],\"sequentialminus\":[[0.0,\"#0d0887\"],[0.1111111111111111,\"#46039f\"],[0.2222222222222222,\"#7201a8\"],[0.3333333333333333,\"#9c179e\"],[0.4444444444444444,\"#bd3786\"],[0.5555555555555556,\"#d8576b\"],[0.6666666666666666,\"#ed7953\"],[0.7777777777777778,\"#fb9f3a\"],[0.8888888888888888,\"#fdca26\"],[1.0,\"#f0f921\"]]},\"colorway\":[\"#636efa\",\"#EF553B\",\"#00cc96\",\"#ab63fa\",\"#FFA15A\",\"#19d3f3\",\"#FF6692\",\"#B6E880\",\"#FF97FF\",\"#FECB52\"],\"font\":{\"color\":\"#2a3f5f\"},\"geo\":{\"bgcolor\":\"white\",\"lakecolor\":\"white\",\"landcolor\":\"#E5ECF6\",\"showlakes\":true,\"showland\":true,\"subunitcolor\":\"white\"},\"hoverlabel\":{\"align\":\"left\"},\"hovermode\":\"closest\",\"mapbox\":{\"style\":\"light\"},\"paper_bgcolor\":\"white\",\"plot_bgcolor\":\"#E5ECF6\",\"polar\":{\"angularaxis\":{\"gridcolor\":\"white\",\"linecolor\":\"white\",\"ticks\":\"\"},\"bgcolor\":\"#E5ECF6\",\"radialaxis\":{\"gridcolor\":\"white\",\"linecolor\":\"white\",\"ticks\":\"\"}},\"scene\":{\"xaxis\":{\"backgroundcolor\":\"#E5ECF6\",\"gridcolor\":\"white\",\"gridwidth\":2,\"linecolor\":\"white\",\"showbackground\":true,\"ticks\":\"\",\"zerolinecolor\":\"white\"},\"yaxis\":{\"backgroundcolor\":\"#E5ECF6\",\"gridcolor\":\"white\",\"gridwidth\":2,\"linecolor\":\"white\",\"showbackground\":true,\"ticks\":\"\",\"zerolinecolor\":\"white\"},\"zaxis\":{\"backgroundcolor\":\"#E5ECF6\",\"gridcolor\":\"white\",\"gridwidth\":2,\"linecolor\":\"white\",\"showbackground\":true,\"ticks\":\"\",\"zerolinecolor\":\"white\"}},\"shapedefaults\":{\"line\":{\"color\":\"#2a3f5f\"}},\"ternary\":{\"aaxis\":{\"gridcolor\":\"white\",\"linecolor\":\"white\",\"ticks\":\"\"},\"baxis\":{\"gridcolor\":\"white\",\"linecolor\":\"white\",\"ticks\":\"\"},\"bgcolor\":\"#E5ECF6\",\"caxis\":{\"gridcolor\":\"white\",\"linecolor\":\"white\",\"ticks\":\"\"}},\"title\":{\"x\":0.05},\"xaxis\":{\"automargin\":true,\"gridcolor\":\"white\",\"linecolor\":\"white\",\"ticks\":\"\",\"title\":{\"standoff\":15},\"zerolinecolor\":\"white\",\"zerolinewidth\":2},\"yaxis\":{\"automargin\":true,\"gridcolor\":\"white\",\"linecolor\":\"white\",\"ticks\":\"\",\"title\":{\"standoff\":15},\"zerolinecolor\":\"white\",\"zerolinewidth\":2}}},\"scene\":{\"domain\":{\"x\":[0.0,1.0],\"y\":[0.0,1.0]},\"xaxis\":{\"title\":{\"text\":\"col1\"}},\"yaxis\":{\"title\":{\"text\":\"col2\"}},\"zaxis\":{\"title\":{\"text\":\"col3\"}}},\"coloraxis\":{\"colorbar\":{\"title\":{\"text\":\"label\"}},\"colorscale\":[[0.0,\"#0d0887\"],[0.1111111111111111,\"#46039f\"],[0.2222222222222222,\"#7201a8\"],[0.3333333333333333,\"#9c179e\"],[0.4444444444444444,\"#bd3786\"],[0.5555555555555556,\"#d8576b\"],[0.6666666666666666,\"#ed7953\"],[0.7777777777777778,\"#fb9f3a\"],[0.8888888888888888,\"#fdca26\"],[1.0,\"#f0f921\"]]},\"legend\":{\"tracegroupgap\":0},\"margin\":{\"t\":60}},                        {\"responsive\": true}                    ).then(function(){\n",
       "                            \n",
       "var gd = document.getElementById('92acb072-5a0d-452f-818a-52ee04bfb6be');\n",
       "var x = new MutationObserver(function (mutations, observer) {{\n",
       "        var display = window.getComputedStyle(gd).display;\n",
       "        if (!display || display === 'none') {{\n",
       "            console.log([gd, 'removed!']);\n",
       "            Plotly.purge(gd);\n",
       "            observer.disconnect();\n",
       "        }}\n",
       "}});\n",
       "\n",
       "// Listen for the removal of the full notebook cells\n",
       "var notebookContainer = gd.closest('#notebook-container');\n",
       "if (notebookContainer) {{\n",
       "    x.observe(notebookContainer, {childList: true});\n",
       "}}\n",
       "\n",
       "// Listen for the clearing of the current output cell\n",
       "var outputEl = gd.closest('.output');\n",
       "if (outputEl) {{\n",
       "    x.observe(outputEl, {childList: true});\n",
       "}}\n",
       "\n",
       "                        })                };                });            </script>        </div>"
      ]
     },
     "metadata": {},
     "output_type": "display_data"
    }
   ],
   "source": [
    "### Visualizing the clustered data\n",
    "fig= px.scatter_3d(df, x='col1', y='col2', z='col3', color='label')\n",
    "fig.show()"
   ]
  },
  {
   "cell_type": "code",
   "execution_count": 52,
   "id": "bd287208",
   "metadata": {},
   "outputs": [
    {
     "data": {
      "image/png": "[encoded data removed]",
      "text/plain": [
       "<IPython.core.display.Image object>"
      ]
     },
     "execution_count": 52,
     "metadata": {},
     "output_type": "execute_result"
    }
   ],
   "source": [
    "from IPython import display\n",
    "display.Image(\"w_cluster.png\")"
   ]
  },
  {
   "cell_type": "code",
   "execution_count": null,
   "id": "d4aedae8",
   "metadata": {},
   "outputs": [],
   "source": []
  }
 ],
 "metadata": {
  "kernelspec": {
   "display_name": "Python 3 (ipykernel)",
   "language": "python",
   "name": "python3"
  },
  "language_info": {
   "codemirror_mode": {
    "name": "ipython",
    "version": 3
   },
   "file_extension": ".py",
   "mimetype": "text/x-python",
   "name": "python",
   "nbconvert_exporter": "python",
   "pygments_lexer": "ipython3",
   "version": "3.9.12"
  }
 },
 "nbformat": 4,
 "nbformat_minor": 5
}
